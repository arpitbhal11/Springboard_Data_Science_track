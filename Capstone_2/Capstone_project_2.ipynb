{
 "cells": [
  {
   "cell_type": "markdown",
   "metadata": {},
   "source": [
    "### Notes from the mentor call\n",
    "\n",
    "some clusters of next reimage may be dominant, which gives insights - groups with higher proportion with next reimage. \n",
    "\n",
    "finding a category that separates numeric into 2 sets, separate each into 2 based on some numeric feature for chi-square\n",
    "\n",
    "daily average ram - is there difference per different clusters of ram amount, if it's statistically significant per label. prove to show that i'm using the variables for good reason, that there's a correlation with the responce. \n",
    "\n",
    "wilcoxon ranksum test (doesn't assume any distribution), look into that just in case - hypothesis test for unknown distribution. but for the general it's t-test\n",
    "\n",
    "multiple hypothesis testing in my case - when i pick an alpha, then i do a correction (read about it), it's multiplication, and it will be that something \n",
    "\n",
    "multi-class classification - one-vs-all strategy (look into that), since i have 0 to 6 zones. fitting one against the rest, doing it 5 times, and the highest probability becomes the zone. keras should have that. apply general first - logistic, random forest, then try keras. try models on a much smaller subset (100-150k, random sampling, stratified sampling (should be same proportion as larger dataset for all features), then fit the final model to the big dataset to check. "
   ]
  },
  {
   "cell_type": "markdown",
   "metadata": {},
   "source": [
    "## Prediction of the device health based on the hardware and software performance"
   ]
  },
  {
   "cell_type": "markdown",
   "metadata": {},
   "source": [
    "**Problem**: Companies are losing a significant amount of employee’s time due to unexpected hardware crashes and the necessity to reimage or replace a device. A solution that would predict a coming hardware crash and allow time to address the issue beforehand and without any disruption to work could significantly increase the workforce productivity and save millions of dollars.\n",
    "\n",
    "**Client**: Companies of any size and individual users.\n",
    "\n",
    "**Data**: The PC test performance data that includes information on the physical/virtual memory, RAM, and software errors. The data set has 5,609,148 rows and 12 features (input variables) stored in a .csv file.\n",
    "\n",
    "Description of the variables:\n",
    "\n",
    "* `pcid`: Device ID\n",
    "\n",
    "* `date`: The day the measurement was taken. The missing values are imputed using the forward-fill and back-fill propagation, as well as taking an average approaches.\n",
    "\n",
    "* `free_physical_memory`: How much free physical memory was available on a device on a given date (in Mb)\n",
    "\n",
    "* `free_virtual_memory`: How much free virtual memory was available on a device on a given date (in Mb)\n",
    "\n",
    "* `daily_average_ram`: Percentage of RAM in use per day (sampled each minute and averaged)\n",
    "\n",
    "* `daily_std_dev_ram`: The standard deviation from `daily_average_ram` (sampled each minute and averaged)\n",
    "\n",
    "* `windows_events_count`: How many Windows events occured on a given day (Error and Critical only)\n",
    "\n",
    "* `has_bios_error`: Whether a device reported an error on a given day\n",
    "\n",
    "* `driver_crash_count`: How many driver crashes occured on a device on a given day\n",
    "\n",
    "* `average_time_since_last_boot`: Time since the last Windows start (in ms)\n",
    "\n",
    "* `next_reimage`: The date and time when a device is expected to have the next OS reimage. This date is defined retrospectively by capturing the actual reimage date later on.\n",
    "    \n",
    "* `zone`: The risk zone of the device, indicating when a device will require a reimage. This variable is the label we'll be trying to predict. This variable is defined by the `next_reimage` variable as per below:\n",
    "    \n",
    "    - Zone 0: Device is healthy (the date of next reimage is NaN)\n",
    "    - Zone 1: Device will have a reimage in the next 0-10 days\n",
    "    - Zone 2: Device will have a reimage in the next 11-20 days\n",
    "    - Zone 3: Device will have a reimage in the next 21-30 days\n",
    "    - Zone 4: Device will have a reimage in the next 31-40 days\n",
    "    - Zone 5: Device will have a reimage in the next 41-50 days\n",
    "    - Zone 6: Device will have a reimage in the next 51-60 days\n",
    "\n",
    "**Method**: The expected result of the project is to predict the timeline of the expected necessary re-image of a PC. A number of classification methods will be used to choose the best method for predicting the `zone` variable.\n",
    "\n",
    "**Deliverables**: The outcome of the project will be presented in a form of Jupyter notebook, as well as the blog post on Medium.\n"
   ]
  },
  {
   "cell_type": "markdown",
   "metadata": {},
   "source": [
    "### Step 1 - Exploratory Data Analysis\n",
    "\n",
    "Loading required libraries and the dataset:"
   ]
  },
  {
   "cell_type": "code",
   "execution_count": 80,
   "metadata": {},
   "outputs": [],
   "source": [
    "#Pandas for dataframes\n",
    "import pandas as pd\n",
    "#Changing default display option to display all columns\n",
    "pd.set_option('display.max_columns', 21)\n",
    "\n",
    "#Numpy for numerical computing\n",
    "import numpy as np\n",
    "\n",
    "#Matplotlib for visualization\n",
    "import matplotlib.pyplot as plt\n",
    "\n",
    "#Display plots in the notebook\n",
    "%matplotlib inline \n",
    "\n",
    "#Seaborn for easier visualization\n",
    "import seaborn as sns\n",
    "\n",
    "#Stats package for statistical analysis\n",
    "from scipy import stats\n",
    "\n",
    "#Machine learning packages\n",
    "from sklearn.linear_model import LogisticRegression\n",
    "from sklearn.ensemble import RandomForestClassifier, GradientBoostingClassifier\n",
    "from sklearn.model_selection import train_test_split \n",
    "from sklearn.pipeline import make_pipeline, Pipeline\n",
    "from sklearn.preprocessing import StandardScaler\n",
    "from sklearn.model_selection import GridSearchCV\n",
    "from sklearn.metrics import roc_curve, roc_auc_score, auc, accuracy_score, confusion_matrix, classification_report"
   ]
  },
  {
   "cell_type": "code",
   "execution_count": 81,
   "metadata": {},
   "outputs": [],
   "source": [
    "#Loading the data set\n",
    "df = pd.read_csv('/Users/abdarabdar/Documents/sw_health_raw_data.csv', parse_dates=True)"
   ]
  },
  {
   "cell_type": "markdown",
   "metadata": {},
   "source": [
    "**Parameters of the dataset**\n",
    "\n",
    "Let's look at the overall characteristics of the dataset, starting with the dataset shape, number and types of variables. "
   ]
  },
  {
   "cell_type": "code",
   "execution_count": 82,
   "metadata": {},
   "outputs": [
    {
     "data": {
      "text/plain": [
       "(5609148, 12)"
      ]
     },
     "execution_count": 82,
     "metadata": {},
     "output_type": "execute_result"
    }
   ],
   "source": [
    "#Dataframe dimensions\n",
    "df.shape"
   ]
  },
  {
   "cell_type": "code",
   "execution_count": 83,
   "metadata": {},
   "outputs": [
    {
     "name": "stdout",
     "output_type": "stream",
     "text": [
      "<class 'pandas.core.frame.DataFrame'>\n",
      "RangeIndex: 5609148 entries, 0 to 5609147\n",
      "Data columns (total 12 columns):\n",
      "zone                            int64\n",
      "next_reimage                    object\n",
      "date                            object\n",
      "free_physical_memory            float64\n",
      "free_virtual_memory             float64\n",
      "daily_average_ram               float64\n",
      "daily_std_dev_ram               float64\n",
      "windows_events_count            float64\n",
      "has_bios_error                  int64\n",
      "driver_crash_count              float64\n",
      "average_time_since_last_boot    float64\n",
      "pcid                            object\n",
      "dtypes: float64(7), int64(2), object(3)\n",
      "memory usage: 513.5+ MB\n"
     ]
    }
   ],
   "source": [
    "#Types of variables\n",
    "df.info()"
   ]
  },
  {
   "cell_type": "markdown",
   "metadata": {},
   "source": [
    "Most of the variables are numeric. Let's look at the first and last 5 rows of the data:"
   ]
  },
  {
   "cell_type": "code",
   "execution_count": 84,
   "metadata": {},
   "outputs": [
    {
     "data": {
      "text/html": [
       "<div>\n",
       "<style>\n",
       "    .dataframe thead tr:only-child th {\n",
       "        text-align: right;\n",
       "    }\n",
       "\n",
       "    .dataframe thead th {\n",
       "        text-align: left;\n",
       "    }\n",
       "\n",
       "    .dataframe tbody tr th {\n",
       "        vertical-align: top;\n",
       "    }\n",
       "</style>\n",
       "<table border=\"1\" class=\"dataframe\">\n",
       "  <thead>\n",
       "    <tr style=\"text-align: right;\">\n",
       "      <th></th>\n",
       "      <th>zone</th>\n",
       "      <th>next_reimage</th>\n",
       "      <th>date</th>\n",
       "      <th>free_physical_memory</th>\n",
       "      <th>free_virtual_memory</th>\n",
       "      <th>daily_average_ram</th>\n",
       "      <th>daily_std_dev_ram</th>\n",
       "      <th>windows_events_count</th>\n",
       "      <th>has_bios_error</th>\n",
       "      <th>driver_crash_count</th>\n",
       "      <th>average_time_since_last_boot</th>\n",
       "      <th>pcid</th>\n",
       "    </tr>\n",
       "  </thead>\n",
       "  <tbody>\n",
       "    <tr>\n",
       "      <th>0</th>\n",
       "      <td>0</td>\n",
       "      <td>NaN</td>\n",
       "      <td>2017-12-22</td>\n",
       "      <td>3312.5</td>\n",
       "      <td>3693.0</td>\n",
       "      <td>56.735933</td>\n",
       "      <td>1.851660</td>\n",
       "      <td>1.0</td>\n",
       "      <td>0</td>\n",
       "      <td>0.0</td>\n",
       "      <td>1.519691e+06</td>\n",
       "      <td>61d1ce206fb0d40117ad5a762b86972f51c75de8ebd6e1...</td>\n",
       "    </tr>\n",
       "    <tr>\n",
       "      <th>1</th>\n",
       "      <td>0</td>\n",
       "      <td>NaN</td>\n",
       "      <td>2017-12-22</td>\n",
       "      <td>3699.0</td>\n",
       "      <td>8911.0</td>\n",
       "      <td>49.706861</td>\n",
       "      <td>2.353272</td>\n",
       "      <td>1.0</td>\n",
       "      <td>1</td>\n",
       "      <td>0.0</td>\n",
       "      <td>1.833904e+04</td>\n",
       "      <td>7b5a90c8c7f13a7f1aa96e0b65e013e75e191e34b3296d...</td>\n",
       "    </tr>\n",
       "    <tr>\n",
       "      <th>2</th>\n",
       "      <td>0</td>\n",
       "      <td>NaN</td>\n",
       "      <td>2017-12-22</td>\n",
       "      <td>1787.0</td>\n",
       "      <td>2423.0</td>\n",
       "      <td>77.401547</td>\n",
       "      <td>1.498973</td>\n",
       "      <td>1.0</td>\n",
       "      <td>0</td>\n",
       "      <td>0.0</td>\n",
       "      <td>2.935453e+06</td>\n",
       "      <td>2b1b3b12fb5f7b300d1ab3de6cb209cf279795ffe9b5e3...</td>\n",
       "    </tr>\n",
       "    <tr>\n",
       "      <th>3</th>\n",
       "      <td>0</td>\n",
       "      <td>NaN</td>\n",
       "      <td>2017-12-22</td>\n",
       "      <td>10598.0</td>\n",
       "      <td>13119.0</td>\n",
       "      <td>35.569576</td>\n",
       "      <td>1.609778</td>\n",
       "      <td>1.0</td>\n",
       "      <td>0</td>\n",
       "      <td>0.0</td>\n",
       "      <td>7.041347e+03</td>\n",
       "      <td>9d497b6b17459fccedfd37aeb2fd1789e01ec6214a748a...</td>\n",
       "    </tr>\n",
       "    <tr>\n",
       "      <th>4</th>\n",
       "      <td>0</td>\n",
       "      <td>NaN</td>\n",
       "      <td>2017-12-22</td>\n",
       "      <td>5060.0</td>\n",
       "      <td>5968.0</td>\n",
       "      <td>34.740309</td>\n",
       "      <td>1.634479</td>\n",
       "      <td>1.0</td>\n",
       "      <td>0</td>\n",
       "      <td>0.0</td>\n",
       "      <td>5.214318e+05</td>\n",
       "      <td>453035355e9e7930610f6866c5e63e225fb7e61c1ecfea...</td>\n",
       "    </tr>\n",
       "  </tbody>\n",
       "</table>\n",
       "</div>"
      ],
      "text/plain": [
       "   zone next_reimage        date  free_physical_memory  free_virtual_memory  \\\n",
       "0     0          NaN  2017-12-22                3312.5               3693.0   \n",
       "1     0          NaN  2017-12-22                3699.0               8911.0   \n",
       "2     0          NaN  2017-12-22                1787.0               2423.0   \n",
       "3     0          NaN  2017-12-22               10598.0              13119.0   \n",
       "4     0          NaN  2017-12-22                5060.0               5968.0   \n",
       "\n",
       "   daily_average_ram  daily_std_dev_ram  windows_events_count  has_bios_error  \\\n",
       "0          56.735933           1.851660                   1.0               0   \n",
       "1          49.706861           2.353272                   1.0               1   \n",
       "2          77.401547           1.498973                   1.0               0   \n",
       "3          35.569576           1.609778                   1.0               0   \n",
       "4          34.740309           1.634479                   1.0               0   \n",
       "\n",
       "   driver_crash_count  average_time_since_last_boot  \\\n",
       "0                 0.0                  1.519691e+06   \n",
       "1                 0.0                  1.833904e+04   \n",
       "2                 0.0                  2.935453e+06   \n",
       "3                 0.0                  7.041347e+03   \n",
       "4                 0.0                  5.214318e+05   \n",
       "\n",
       "                                                pcid  \n",
       "0  61d1ce206fb0d40117ad5a762b86972f51c75de8ebd6e1...  \n",
       "1  7b5a90c8c7f13a7f1aa96e0b65e013e75e191e34b3296d...  \n",
       "2  2b1b3b12fb5f7b300d1ab3de6cb209cf279795ffe9b5e3...  \n",
       "3  9d497b6b17459fccedfd37aeb2fd1789e01ec6214a748a...  \n",
       "4  453035355e9e7930610f6866c5e63e225fb7e61c1ecfea...  "
      ]
     },
     "execution_count": 84,
     "metadata": {},
     "output_type": "execute_result"
    }
   ],
   "source": [
    "df.head()"
   ]
  },
  {
   "cell_type": "code",
   "execution_count": 85,
   "metadata": {},
   "outputs": [
    {
     "data": {
      "text/html": [
       "<div>\n",
       "<style>\n",
       "    .dataframe thead tr:only-child th {\n",
       "        text-align: right;\n",
       "    }\n",
       "\n",
       "    .dataframe thead th {\n",
       "        text-align: left;\n",
       "    }\n",
       "\n",
       "    .dataframe tbody tr th {\n",
       "        vertical-align: top;\n",
       "    }\n",
       "</style>\n",
       "<table border=\"1\" class=\"dataframe\">\n",
       "  <thead>\n",
       "    <tr style=\"text-align: right;\">\n",
       "      <th></th>\n",
       "      <th>zone</th>\n",
       "      <th>next_reimage</th>\n",
       "      <th>date</th>\n",
       "      <th>free_physical_memory</th>\n",
       "      <th>free_virtual_memory</th>\n",
       "      <th>daily_average_ram</th>\n",
       "      <th>daily_std_dev_ram</th>\n",
       "      <th>windows_events_count</th>\n",
       "      <th>has_bios_error</th>\n",
       "      <th>driver_crash_count</th>\n",
       "      <th>average_time_since_last_boot</th>\n",
       "      <th>pcid</th>\n",
       "    </tr>\n",
       "  </thead>\n",
       "  <tbody>\n",
       "    <tr>\n",
       "      <th>5609143</th>\n",
       "      <td>0</td>\n",
       "      <td>NaN</td>\n",
       "      <td>2017-11-27</td>\n",
       "      <td>3736.0</td>\n",
       "      <td>11865.0</td>\n",
       "      <td>75.923269</td>\n",
       "      <td>7.046765</td>\n",
       "      <td>1.0</td>\n",
       "      <td>0</td>\n",
       "      <td>0.0</td>\n",
       "      <td>2.234844e+06</td>\n",
       "      <td>00368a64efce538e7a43fabcfbe6bdfac2a316dc7074a3...</td>\n",
       "    </tr>\n",
       "    <tr>\n",
       "      <th>5609144</th>\n",
       "      <td>0</td>\n",
       "      <td>NaN</td>\n",
       "      <td>2017-11-27</td>\n",
       "      <td>8602.0</td>\n",
       "      <td>10341.0</td>\n",
       "      <td>45.273042</td>\n",
       "      <td>2.765385</td>\n",
       "      <td>1.0</td>\n",
       "      <td>0</td>\n",
       "      <td>0.0</td>\n",
       "      <td>6.082382e+05</td>\n",
       "      <td>479b80338e81b700b0210ec67d5f0bde9a80f53e5dc493...</td>\n",
       "    </tr>\n",
       "    <tr>\n",
       "      <th>5609145</th>\n",
       "      <td>0</td>\n",
       "      <td>NaN</td>\n",
       "      <td>2017-11-27</td>\n",
       "      <td>4752.0</td>\n",
       "      <td>6172.0</td>\n",
       "      <td>43.395437</td>\n",
       "      <td>2.335085</td>\n",
       "      <td>0.0</td>\n",
       "      <td>0</td>\n",
       "      <td>19.0</td>\n",
       "      <td>6.465962e+05</td>\n",
       "      <td>cc9603c452df57f54db0e3987a5ec88e275596e98cdcf1...</td>\n",
       "    </tr>\n",
       "    <tr>\n",
       "      <th>5609146</th>\n",
       "      <td>0</td>\n",
       "      <td>NaN</td>\n",
       "      <td>2017-11-27</td>\n",
       "      <td>5085.0</td>\n",
       "      <td>6518.0</td>\n",
       "      <td>57.548151</td>\n",
       "      <td>3.355863</td>\n",
       "      <td>1.0</td>\n",
       "      <td>0</td>\n",
       "      <td>20.0</td>\n",
       "      <td>1.470173e+06</td>\n",
       "      <td>6da29dfe3ddb6af696ec5321a129338c9d2547ca95374e...</td>\n",
       "    </tr>\n",
       "    <tr>\n",
       "      <th>5609147</th>\n",
       "      <td>0</td>\n",
       "      <td>NaN</td>\n",
       "      <td>2017-11-27</td>\n",
       "      <td>4563.0</td>\n",
       "      <td>5660.0</td>\n",
       "      <td>43.239631</td>\n",
       "      <td>3.294113</td>\n",
       "      <td>1.0</td>\n",
       "      <td>1</td>\n",
       "      <td>5.0</td>\n",
       "      <td>3.497002e+02</td>\n",
       "      <td>e54c81817301edde8669a8eba2bd9a72dbcf6b0d5a2c32...</td>\n",
       "    </tr>\n",
       "  </tbody>\n",
       "</table>\n",
       "</div>"
      ],
      "text/plain": [
       "         zone next_reimage        date  free_physical_memory  \\\n",
       "5609143     0          NaN  2017-11-27                3736.0   \n",
       "5609144     0          NaN  2017-11-27                8602.0   \n",
       "5609145     0          NaN  2017-11-27                4752.0   \n",
       "5609146     0          NaN  2017-11-27                5085.0   \n",
       "5609147     0          NaN  2017-11-27                4563.0   \n",
       "\n",
       "         free_virtual_memory  daily_average_ram  daily_std_dev_ram  \\\n",
       "5609143              11865.0          75.923269           7.046765   \n",
       "5609144              10341.0          45.273042           2.765385   \n",
       "5609145               6172.0          43.395437           2.335085   \n",
       "5609146               6518.0          57.548151           3.355863   \n",
       "5609147               5660.0          43.239631           3.294113   \n",
       "\n",
       "         windows_events_count  has_bios_error  driver_crash_count  \\\n",
       "5609143                   1.0               0                 0.0   \n",
       "5609144                   1.0               0                 0.0   \n",
       "5609145                   0.0               0                19.0   \n",
       "5609146                   1.0               0                20.0   \n",
       "5609147                   1.0               1                 5.0   \n",
       "\n",
       "         average_time_since_last_boot  \\\n",
       "5609143                  2.234844e+06   \n",
       "5609144                  6.082382e+05   \n",
       "5609145                  6.465962e+05   \n",
       "5609146                  1.470173e+06   \n",
       "5609147                  3.497002e+02   \n",
       "\n",
       "                                                      pcid  \n",
       "5609143  00368a64efce538e7a43fabcfbe6bdfac2a316dc7074a3...  \n",
       "5609144  479b80338e81b700b0210ec67d5f0bde9a80f53e5dc493...  \n",
       "5609145  cc9603c452df57f54db0e3987a5ec88e275596e98cdcf1...  \n",
       "5609146  6da29dfe3ddb6af696ec5321a129338c9d2547ca95374e...  \n",
       "5609147  e54c81817301edde8669a8eba2bd9a72dbcf6b0d5a2c32...  "
      ]
     },
     "execution_count": 85,
     "metadata": {},
     "output_type": "execute_result"
    }
   ],
   "source": [
    "df.tail()"
   ]
  },
  {
   "cell_type": "markdown",
   "metadata": {},
   "source": [
    "The data on both ends look consistent, and there are no obvious errors. There are NaNs in the 'next_reimage' column, which correspond to zone = 0. Since the 'next_reimage' defines the 'zone' variable, we don't need to keep both in the data set and can keep the 'zone' variable only for the purposes of predictive model building.\n",
    "\n",
    "Let's now check if the variables have any missing values:"
   ]
  },
  {
   "cell_type": "code",
   "execution_count": 86,
   "metadata": {},
   "outputs": [
    {
     "name": "stdout",
     "output_type": "stream",
     "text": [
      "zone :  False\n",
      "next_reimage :  True\n",
      "date :  False\n",
      "free_physical_memory :  False\n",
      "free_virtual_memory :  False\n",
      "daily_average_ram :  False\n",
      "daily_std_dev_ram :  False\n",
      "windows_events_count :  False\n",
      "has_bios_error :  False\n",
      "driver_crash_count :  False\n",
      "average_time_since_last_boot :  False\n",
      "pcid :  False\n"
     ]
    }
   ],
   "source": [
    "#Checking for NaNs\n",
    "for i in df.columns:\n",
    "    print(i, \": \", df.loc[:,i].isnull().values.any())"
   ]
  },
  {
   "cell_type": "markdown",
   "metadata": {},
   "source": [
    "There are no missing values in the data except the 'next_reimage' column, which is expected. The `date` variable was imputed beforehand, as mentioned before, so there are no missing values as well.\n",
    "\n",
    "Before exploring the distributions of the variables, let's do some cleaning. We'll convert the 'zone' variable into category and 'date' into datetime object and drop the 'next_reimage' variable."
   ]
  },
  {
   "cell_type": "code",
   "execution_count": 93,
   "metadata": {},
   "outputs": [
    {
     "data": {
      "text/html": [
       "<div>\n",
       "<style>\n",
       "    .dataframe thead tr:only-child th {\n",
       "        text-align: right;\n",
       "    }\n",
       "\n",
       "    .dataframe thead th {\n",
       "        text-align: left;\n",
       "    }\n",
       "\n",
       "    .dataframe tbody tr th {\n",
       "        vertical-align: top;\n",
       "    }\n",
       "</style>\n",
       "<table border=\"1\" class=\"dataframe\">\n",
       "  <thead>\n",
       "    <tr style=\"text-align: right;\">\n",
       "      <th></th>\n",
       "      <th>zone</th>\n",
       "      <th>date</th>\n",
       "      <th>free_physical_memory</th>\n",
       "      <th>free_virtual_memory</th>\n",
       "      <th>daily_average_ram</th>\n",
       "      <th>daily_std_dev_ram</th>\n",
       "      <th>windows_events_count</th>\n",
       "      <th>has_bios_error</th>\n",
       "      <th>driver_crash_count</th>\n",
       "      <th>average_time_since_last_boot</th>\n",
       "      <th>pcid</th>\n",
       "    </tr>\n",
       "  </thead>\n",
       "  <tbody>\n",
       "    <tr>\n",
       "      <th>0</th>\n",
       "      <td>0</td>\n",
       "      <td>2017-12-22</td>\n",
       "      <td>3312.5</td>\n",
       "      <td>3693.0</td>\n",
       "      <td>56.735933</td>\n",
       "      <td>1.851660</td>\n",
       "      <td>1.0</td>\n",
       "      <td>0</td>\n",
       "      <td>0.0</td>\n",
       "      <td>1.519691e+06</td>\n",
       "      <td>61d1ce206fb0d40117ad5a762b86972f51c75de8ebd6e1...</td>\n",
       "    </tr>\n",
       "    <tr>\n",
       "      <th>1</th>\n",
       "      <td>0</td>\n",
       "      <td>2017-12-22</td>\n",
       "      <td>3699.0</td>\n",
       "      <td>8911.0</td>\n",
       "      <td>49.706861</td>\n",
       "      <td>2.353272</td>\n",
       "      <td>1.0</td>\n",
       "      <td>1</td>\n",
       "      <td>0.0</td>\n",
       "      <td>1.833904e+04</td>\n",
       "      <td>7b5a90c8c7f13a7f1aa96e0b65e013e75e191e34b3296d...</td>\n",
       "    </tr>\n",
       "    <tr>\n",
       "      <th>2</th>\n",
       "      <td>0</td>\n",
       "      <td>2017-12-22</td>\n",
       "      <td>1787.0</td>\n",
       "      <td>2423.0</td>\n",
       "      <td>77.401547</td>\n",
       "      <td>1.498973</td>\n",
       "      <td>1.0</td>\n",
       "      <td>0</td>\n",
       "      <td>0.0</td>\n",
       "      <td>2.935453e+06</td>\n",
       "      <td>2b1b3b12fb5f7b300d1ab3de6cb209cf279795ffe9b5e3...</td>\n",
       "    </tr>\n",
       "    <tr>\n",
       "      <th>3</th>\n",
       "      <td>0</td>\n",
       "      <td>2017-12-22</td>\n",
       "      <td>10598.0</td>\n",
       "      <td>13119.0</td>\n",
       "      <td>35.569576</td>\n",
       "      <td>1.609778</td>\n",
       "      <td>1.0</td>\n",
       "      <td>0</td>\n",
       "      <td>0.0</td>\n",
       "      <td>7.041347e+03</td>\n",
       "      <td>9d497b6b17459fccedfd37aeb2fd1789e01ec6214a748a...</td>\n",
       "    </tr>\n",
       "    <tr>\n",
       "      <th>4</th>\n",
       "      <td>0</td>\n",
       "      <td>2017-12-22</td>\n",
       "      <td>5060.0</td>\n",
       "      <td>5968.0</td>\n",
       "      <td>34.740309</td>\n",
       "      <td>1.634479</td>\n",
       "      <td>1.0</td>\n",
       "      <td>0</td>\n",
       "      <td>0.0</td>\n",
       "      <td>5.214318e+05</td>\n",
       "      <td>453035355e9e7930610f6866c5e63e225fb7e61c1ecfea...</td>\n",
       "    </tr>\n",
       "  </tbody>\n",
       "</table>\n",
       "</div>"
      ],
      "text/plain": [
       "  zone       date  free_physical_memory  free_virtual_memory  \\\n",
       "0    0 2017-12-22                3312.5               3693.0   \n",
       "1    0 2017-12-22                3699.0               8911.0   \n",
       "2    0 2017-12-22                1787.0               2423.0   \n",
       "3    0 2017-12-22               10598.0              13119.0   \n",
       "4    0 2017-12-22                5060.0               5968.0   \n",
       "\n",
       "   daily_average_ram  daily_std_dev_ram  windows_events_count  has_bios_error  \\\n",
       "0          56.735933           1.851660                   1.0               0   \n",
       "1          49.706861           2.353272                   1.0               1   \n",
       "2          77.401547           1.498973                   1.0               0   \n",
       "3          35.569576           1.609778                   1.0               0   \n",
       "4          34.740309           1.634479                   1.0               0   \n",
       "\n",
       "   driver_crash_count  average_time_since_last_boot  \\\n",
       "0                 0.0                  1.519691e+06   \n",
       "1                 0.0                  1.833904e+04   \n",
       "2                 0.0                  2.935453e+06   \n",
       "3                 0.0                  7.041347e+03   \n",
       "4                 0.0                  5.214318e+05   \n",
       "\n",
       "                                                pcid  \n",
       "0  61d1ce206fb0d40117ad5a762b86972f51c75de8ebd6e1...  \n",
       "1  7b5a90c8c7f13a7f1aa96e0b65e013e75e191e34b3296d...  \n",
       "2  2b1b3b12fb5f7b300d1ab3de6cb209cf279795ffe9b5e3...  \n",
       "3  9d497b6b17459fccedfd37aeb2fd1789e01ec6214a748a...  \n",
       "4  453035355e9e7930610f6866c5e63e225fb7e61c1ecfea...  "
      ]
     },
     "execution_count": 93,
     "metadata": {},
     "output_type": "execute_result"
    }
   ],
   "source": [
    "#Cleaning the data set\n",
    "df_cleaned = df.copy()\n",
    "df_cleaned['zone'] = df_cleaned['zone'].astype('category')\n",
    "df_cleaned['date'] = pd.to_datetime(df_cleaned.date)\n",
    "df_cleaned = df_cleaned.drop('next_reimage', axis=1)"
   ]
  },
  {
   "cell_type": "markdown",
   "metadata": {},
   "source": [
    "Next, let's look at the distributions of the numerical variables in the data set:"
   ]
  },
  {
   "cell_type": "code",
   "execution_count": 96,
   "metadata": {},
   "outputs": [
    {
     "data": {
      "text/html": [
       "<div>\n",
       "<style>\n",
       "    .dataframe thead tr:only-child th {\n",
       "        text-align: right;\n",
       "    }\n",
       "\n",
       "    .dataframe thead th {\n",
       "        text-align: left;\n",
       "    }\n",
       "\n",
       "    .dataframe tbody tr th {\n",
       "        vertical-align: top;\n",
       "    }\n",
       "</style>\n",
       "<table border=\"1\" class=\"dataframe\">\n",
       "  <thead>\n",
       "    <tr style=\"text-align: right;\">\n",
       "      <th></th>\n",
       "      <th>free_physical_memory</th>\n",
       "      <th>free_virtual_memory</th>\n",
       "      <th>daily_average_ram</th>\n",
       "      <th>daily_std_dev_ram</th>\n",
       "      <th>windows_events_count</th>\n",
       "      <th>has_bios_error</th>\n",
       "      <th>driver_crash_count</th>\n",
       "      <th>average_time_since_last_boot</th>\n",
       "    </tr>\n",
       "  </thead>\n",
       "  <tbody>\n",
       "    <tr>\n",
       "      <th>count</th>\n",
       "      <td>5.609148e+06</td>\n",
       "      <td>5.609148e+06</td>\n",
       "      <td>5.609148e+06</td>\n",
       "      <td>5.609148e+06</td>\n",
       "      <td>5.609148e+06</td>\n",
       "      <td>5.609148e+06</td>\n",
       "      <td>5.609148e+06</td>\n",
       "      <td>5.609148e+06</td>\n",
       "    </tr>\n",
       "    <tr>\n",
       "      <th>mean</th>\n",
       "      <td>5.301039e+03</td>\n",
       "      <td>9.390899e+03</td>\n",
       "      <td>5.084281e+01</td>\n",
       "      <td>2.291617e+00</td>\n",
       "      <td>9.485640e-01</td>\n",
       "      <td>2.220950e-01</td>\n",
       "      <td>3.561113e+00</td>\n",
       "      <td>-1.684183e+06</td>\n",
       "    </tr>\n",
       "    <tr>\n",
       "      <th>std</th>\n",
       "      <td>5.685789e+03</td>\n",
       "      <td>9.375644e+03</td>\n",
       "      <td>1.407656e+01</td>\n",
       "      <td>4.891270e+00</td>\n",
       "      <td>2.208853e-01</td>\n",
       "      <td>4.156547e-01</td>\n",
       "      <td>6.910196e+00</td>\n",
       "      <td>7.444881e+08</td>\n",
       "    </tr>\n",
       "    <tr>\n",
       "      <th>min</th>\n",
       "      <td>0.000000e+00</td>\n",
       "      <td>0.000000e+00</td>\n",
       "      <td>0.000000e+00</td>\n",
       "      <td>0.000000e+00</td>\n",
       "      <td>0.000000e+00</td>\n",
       "      <td>0.000000e+00</td>\n",
       "      <td>0.000000e+00</td>\n",
       "      <td>-2.518875e+11</td>\n",
       "    </tr>\n",
       "    <tr>\n",
       "      <th>25%</th>\n",
       "      <td>3.112000e+03</td>\n",
       "      <td>4.594000e+03</td>\n",
       "      <td>4.280038e+01</td>\n",
       "      <td>1.387752e+00</td>\n",
       "      <td>1.000000e+00</td>\n",
       "      <td>0.000000e+00</td>\n",
       "      <td>0.000000e+00</td>\n",
       "      <td>3.691686e+04</td>\n",
       "    </tr>\n",
       "    <tr>\n",
       "      <th>50%</th>\n",
       "      <td>3.969000e+03</td>\n",
       "      <td>6.805500e+03</td>\n",
       "      <td>5.034052e+01</td>\n",
       "      <td>2.110890e+00</td>\n",
       "      <td>1.000000e+00</td>\n",
       "      <td>0.000000e+00</td>\n",
       "      <td>0.000000e+00</td>\n",
       "      <td>2.241845e+05</td>\n",
       "    </tr>\n",
       "    <tr>\n",
       "      <th>75%</th>\n",
       "      <td>4.906000e+03</td>\n",
       "      <td>1.159400e+04</td>\n",
       "      <td>5.955315e+01</td>\n",
       "      <td>2.931696e+00</td>\n",
       "      <td>1.000000e+00</td>\n",
       "      <td>0.000000e+00</td>\n",
       "      <td>5.000000e+00</td>\n",
       "      <td>6.537925e+05</td>\n",
       "    </tr>\n",
       "    <tr>\n",
       "      <th>max</th>\n",
       "      <td>2.561550e+05</td>\n",
       "      <td>3.819300e+05</td>\n",
       "      <td>1.418681e+03</td>\n",
       "      <td>7.412071e+03</td>\n",
       "      <td>1.000000e+00</td>\n",
       "      <td>1.000000e+00</td>\n",
       "      <td>6.080000e+02</td>\n",
       "      <td>1.199125e+09</td>\n",
       "    </tr>\n",
       "  </tbody>\n",
       "</table>\n",
       "</div>"
      ],
      "text/plain": [
       "       free_physical_memory  free_virtual_memory  daily_average_ram  \\\n",
       "count          5.609148e+06         5.609148e+06       5.609148e+06   \n",
       "mean           5.301039e+03         9.390899e+03       5.084281e+01   \n",
       "std            5.685789e+03         9.375644e+03       1.407656e+01   \n",
       "min            0.000000e+00         0.000000e+00       0.000000e+00   \n",
       "25%            3.112000e+03         4.594000e+03       4.280038e+01   \n",
       "50%            3.969000e+03         6.805500e+03       5.034052e+01   \n",
       "75%            4.906000e+03         1.159400e+04       5.955315e+01   \n",
       "max            2.561550e+05         3.819300e+05       1.418681e+03   \n",
       "\n",
       "       daily_std_dev_ram  windows_events_count  has_bios_error  \\\n",
       "count       5.609148e+06          5.609148e+06    5.609148e+06   \n",
       "mean        2.291617e+00          9.485640e-01    2.220950e-01   \n",
       "std         4.891270e+00          2.208853e-01    4.156547e-01   \n",
       "min         0.000000e+00          0.000000e+00    0.000000e+00   \n",
       "25%         1.387752e+00          1.000000e+00    0.000000e+00   \n",
       "50%         2.110890e+00          1.000000e+00    0.000000e+00   \n",
       "75%         2.931696e+00          1.000000e+00    0.000000e+00   \n",
       "max         7.412071e+03          1.000000e+00    1.000000e+00   \n",
       "\n",
       "       driver_crash_count  average_time_since_last_boot  \n",
       "count        5.609148e+06                  5.609148e+06  \n",
       "mean         3.561113e+00                 -1.684183e+06  \n",
       "std          6.910196e+00                  7.444881e+08  \n",
       "min          0.000000e+00                 -2.518875e+11  \n",
       "25%          0.000000e+00                  3.691686e+04  \n",
       "50%          0.000000e+00                  2.241845e+05  \n",
       "75%          5.000000e+00                  6.537925e+05  \n",
       "max          6.080000e+02                  1.199125e+09  "
      ]
     },
     "execution_count": 96,
     "metadata": {},
     "output_type": "execute_result"
    }
   ],
   "source": [
    "#Obtaining the distributions of the numerical variables\n",
    "df_cleaned.describe()"
   ]
  },
  {
   "cell_type": "markdown",
   "metadata": {},
   "source": [
    "The summary highlights several interesting moments. First of all, variables 'free_physical_memory', 'free_virtual_memory' and 'daily_average_ram' all have minimum values of zero, which doesn't make sense. Whatever the system's performance may be, the minimum for those values can't be zero in real life. Next, 'average_time_since_last_boot' has negative values, which also doesn't make sense. The maximum value for 'daily_average_ram' is 1418.6%, which can't be true. \n",
    "\n",
    "Let's look at the number of instances where such cases take place:"
   ]
  },
  {
   "cell_type": "code",
   "execution_count": 115,
   "metadata": {},
   "outputs": [
    {
     "data": {
      "text/plain": [
       "zone                            78\n",
       "date                            78\n",
       "free_physical_memory            78\n",
       "free_virtual_memory             78\n",
       "daily_average_ram               78\n",
       "daily_std_dev_ram               78\n",
       "windows_events_count            78\n",
       "has_bios_error                  78\n",
       "driver_crash_count              78\n",
       "average_time_since_last_boot    78\n",
       "pcid                            78\n",
       "dtype: int64"
      ]
     },
     "execution_count": 115,
     "metadata": {},
     "output_type": "execute_result"
    }
   ],
   "source": [
    "#Number of instances for 'free_physical_memory'\n",
    "df_cleaned[df_cleaned['free_physical_memory'] == 0].count()"
   ]
  },
  {
   "cell_type": "code",
   "execution_count": 104,
   "metadata": {},
   "outputs": [
    {
     "data": {
      "text/plain": [
       "zone                            78\n",
       "date                            78\n",
       "free_physical_memory            78\n",
       "free_virtual_memory             78\n",
       "daily_average_ram               78\n",
       "daily_std_dev_ram               78\n",
       "windows_events_count            78\n",
       "has_bios_error                  78\n",
       "driver_crash_count              78\n",
       "average_time_since_last_boot    78\n",
       "pcid                            78\n",
       "dtype: int64"
      ]
     },
     "execution_count": 104,
     "metadata": {},
     "output_type": "execute_result"
    }
   ],
   "source": [
    "#Number of instances for 'free_virtual_memory'\n",
    "df_cleaned[df_cleaned['free_virtual_memory'] == 0].count()"
   ]
  },
  {
   "cell_type": "code",
   "execution_count": 109,
   "metadata": {},
   "outputs": [
    {
     "data": {
      "text/plain": [
       "zone                            20\n",
       "date                            20\n",
       "free_physical_memory            20\n",
       "free_virtual_memory             20\n",
       "daily_average_ram               20\n",
       "daily_std_dev_ram               20\n",
       "windows_events_count            20\n",
       "has_bios_error                  20\n",
       "driver_crash_count              20\n",
       "average_time_since_last_boot    20\n",
       "pcid                            20\n",
       "dtype: int64"
      ]
     },
     "execution_count": 109,
     "metadata": {},
     "output_type": "execute_result"
    }
   ],
   "source": [
    "#Number of instances for 'daily_average_ram'\n",
    "df_cleaned[df_cleaned['daily_average_ram'] > 100].count()"
   ]
  },
  {
   "cell_type": "code",
   "execution_count": 126,
   "metadata": {},
   "outputs": [
    {
     "data": {
      "text/plain": [
       "zone                            1589662\n",
       "date                            1589662\n",
       "free_physical_memory            1589660\n",
       "free_virtual_memory             1589662\n",
       "daily_average_ram               1589662\n",
       "daily_std_dev_ram               1589662\n",
       "windows_events_count            1589662\n",
       "has_bios_error                  1589662\n",
       "driver_crash_count              1589662\n",
       "average_time_since_last_boot    1589662\n",
       "pcid                            1589662\n",
       "dtype: int64"
      ]
     },
     "execution_count": 126,
     "metadata": {},
     "output_type": "execute_result"
    }
   ],
   "source": [
    "#Number of instances for 'average_time_since_last_boot'\n",
    "df_cleaned[df_cleaned['average_time_since_last_boot'] <= 60000].count()"
   ]
  },
  {
   "cell_type": "markdown",
   "metadata": {},
   "source": [
    "All the above cases represent a tiny fraction of the data set and can be dropped. Let's drop those instances and .."
   ]
  },
  {
   "cell_type": "code",
   "execution_count": null,
   "metadata": {},
   "outputs": [],
   "source": [
    "#Dropping the erroneous instances\n",
    "#df_cleaned.free_physical_memory.replace(0, np.nan, inplace=True)\n",
    "#df_cleaned.free_virtual_memory.replace(0, np.nan, inplace=True)\n",
    "df_cleaned.daily_average_ram.replace(df_cleaned.daily_average_ram > 100, np.nan, inplace=True)\n",
    "#df_cleaned[df_cleaned['free_physical_memory'] == 0].count()"
   ]
  },
  {
   "cell_type": "code",
   "execution_count": null,
   "metadata": {},
   "outputs": [],
   "source": [
    "for i in df_cleaned.columns:\n",
    "    print(i, \": \", df_cleaned.loc[:,i].isnull().values.any())"
   ]
  },
  {
   "cell_type": "markdown",
   "metadata": {},
   "source": [
    "- Look at the value counts for zones - imbalance?\n",
    "- convert zone into categorical\n",
    "- Set date as index, look at the dynamics over time; value counts over months, days, etc - imbalance?\n",
    "- daily average ram - is there difference per different clusters of ram amount?"
   ]
  },
  {
   "cell_type": "code",
   "execution_count": 94,
   "metadata": {},
   "outputs": [
    {
     "data": {
      "text/plain": [
       "Timestamp('2017-12-31 00:00:00')"
      ]
     },
     "execution_count": 94,
     "metadata": {},
     "output_type": "execute_result"
    }
   ],
   "source": [
    "min(df_cleaned['date'])\n",
    "max(df_cleaned['date'])"
   ]
  },
  {
   "cell_type": "code",
   "execution_count": 95,
   "metadata": {},
   "outputs": [
    {
     "data": {
      "text/plain": [
       "Timestamp('2017-10-01 00:00:00')"
      ]
     },
     "execution_count": 95,
     "metadata": {},
     "output_type": "execute_result"
    }
   ],
   "source": [
    "min(df_cleaned['date'])"
   ]
  },
  {
   "cell_type": "code",
   "execution_count": 97,
   "metadata": {},
   "outputs": [
    {
     "data": {
      "text/plain": [
       "1418.6811505279968"
      ]
     },
     "execution_count": 97,
     "metadata": {},
     "output_type": "execute_result"
    }
   ],
   "source": [
    "max(df_cleaned['daily_average_ram'])"
   ]
  },
  {
   "cell_type": "code",
   "execution_count": null,
   "metadata": {
    "collapsed": true
   },
   "outputs": [],
   "source": []
  }
 ],
 "metadata": {
  "kernelspec": {
   "display_name": "Python [conda root]",
   "language": "python",
   "name": "conda-root-py"
  },
  "language_info": {
   "codemirror_mode": {
    "name": "ipython",
    "version": 3
   },
   "file_extension": ".py",
   "mimetype": "text/x-python",
   "name": "python",
   "nbconvert_exporter": "python",
   "pygments_lexer": "ipython3",
   "version": "3.5.3"
  }
 },
 "nbformat": 4,
 "nbformat_minor": 2
}
