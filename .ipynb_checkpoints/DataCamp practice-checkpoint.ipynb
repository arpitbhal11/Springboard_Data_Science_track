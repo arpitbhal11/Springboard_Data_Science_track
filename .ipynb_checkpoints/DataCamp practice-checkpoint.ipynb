{
 "cells": [
  {
   "cell_type": "code",
   "execution_count": 1,
   "metadata": {
    "collapsed": true
   },
   "outputs": [],
   "source": [
    "import pandas as pd\n"
   ]
  },
  {
   "cell_type": "code",
   "execution_count": 2,
   "metadata": {
    "collapsed": true
   },
   "outputs": [],
   "source": [
    "ds = pd.read_csv('NP2014_D1.csv')"
   ]
  },
  {
   "cell_type": "code",
   "execution_count": 3,
   "metadata": {},
   "outputs": [
    {
     "data": {
      "text/html": [
       "<div>\n",
       "<style>\n",
       "    .dataframe thead tr:only-child th {\n",
       "        text-align: right;\n",
       "    }\n",
       "\n",
       "    .dataframe thead th {\n",
       "        text-align: left;\n",
       "    }\n",
       "\n",
       "    .dataframe tbody tr th {\n",
       "        vertical-align: top;\n",
       "    }\n",
       "</style>\n",
       "<table border=\"1\" class=\"dataframe\">\n",
       "  <thead>\n",
       "    <tr style=\"text-align: right;\">\n",
       "      <th></th>\n",
       "      <th>origin</th>\n",
       "      <th>race</th>\n",
       "      <th>sex</th>\n",
       "      <th>year</th>\n",
       "      <th>total_pop</th>\n",
       "      <th>pop_0</th>\n",
       "      <th>pop_1</th>\n",
       "      <th>pop_2</th>\n",
       "      <th>pop_3</th>\n",
       "      <th>pop_4</th>\n",
       "      <th>...</th>\n",
       "      <th>pop_91</th>\n",
       "      <th>pop_92</th>\n",
       "      <th>pop_93</th>\n",
       "      <th>pop_94</th>\n",
       "      <th>pop_95</th>\n",
       "      <th>pop_96</th>\n",
       "      <th>pop_97</th>\n",
       "      <th>pop_98</th>\n",
       "      <th>pop_99</th>\n",
       "      <th>pop_100</th>\n",
       "    </tr>\n",
       "  </thead>\n",
       "  <tbody>\n",
       "    <tr>\n",
       "      <th>0</th>\n",
       "      <td>0</td>\n",
       "      <td>0</td>\n",
       "      <td>0</td>\n",
       "      <td>2014</td>\n",
       "      <td>318748017</td>\n",
       "      <td>3971847</td>\n",
       "      <td>3957864</td>\n",
       "      <td>3972081</td>\n",
       "      <td>4003272</td>\n",
       "      <td>4001929</td>\n",
       "      <td>...</td>\n",
       "      <td>427331</td>\n",
       "      <td>355279</td>\n",
       "      <td>286604</td>\n",
       "      <td>219260</td>\n",
       "      <td>157054</td>\n",
       "      <td>121336</td>\n",
       "      <td>84101</td>\n",
       "      <td>60314</td>\n",
       "      <td>41987</td>\n",
       "      <td>70344</td>\n",
       "    </tr>\n",
       "    <tr>\n",
       "      <th>1</th>\n",
       "      <td>0</td>\n",
       "      <td>0</td>\n",
       "      <td>0</td>\n",
       "      <td>2015</td>\n",
       "      <td>321368864</td>\n",
       "      <td>4000831</td>\n",
       "      <td>3988161</td>\n",
       "      <td>3974109</td>\n",
       "      <td>3986357</td>\n",
       "      <td>4015656</td>\n",
       "      <td>...</td>\n",
       "      <td>442185</td>\n",
       "      <td>362183</td>\n",
       "      <td>295845</td>\n",
       "      <td>234146</td>\n",
       "      <td>175609</td>\n",
       "      <td>123059</td>\n",
       "      <td>92909</td>\n",
       "      <td>62843</td>\n",
       "      <td>43941</td>\n",
       "      <td>71897</td>\n",
       "    </tr>\n",
       "    <tr>\n",
       "      <th>2</th>\n",
       "      <td>0</td>\n",
       "      <td>0</td>\n",
       "      <td>0</td>\n",
       "      <td>2016</td>\n",
       "      <td>323995528</td>\n",
       "      <td>4029356</td>\n",
       "      <td>4017346</td>\n",
       "      <td>4004585</td>\n",
       "      <td>3988434</td>\n",
       "      <td>3998839</td>\n",
       "      <td>...</td>\n",
       "      <td>452570</td>\n",
       "      <td>375203</td>\n",
       "      <td>301995</td>\n",
       "      <td>242066</td>\n",
       "      <td>187727</td>\n",
       "      <td>137851</td>\n",
       "      <td>94383</td>\n",
       "      <td>69548</td>\n",
       "      <td>45855</td>\n",
       "      <td>73173</td>\n",
       "    </tr>\n",
       "    <tr>\n",
       "      <th>3</th>\n",
       "      <td>0</td>\n",
       "      <td>0</td>\n",
       "      <td>0</td>\n",
       "      <td>2017</td>\n",
       "      <td>326625791</td>\n",
       "      <td>4057231</td>\n",
       "      <td>4046063</td>\n",
       "      <td>4033932</td>\n",
       "      <td>4019069</td>\n",
       "      <td>4000955</td>\n",
       "      <td>...</td>\n",
       "      <td>452613</td>\n",
       "      <td>384455</td>\n",
       "      <td>313248</td>\n",
       "      <td>247453</td>\n",
       "      <td>194398</td>\n",
       "      <td>147520</td>\n",
       "      <td>105942</td>\n",
       "      <td>70777</td>\n",
       "      <td>50845</td>\n",
       "      <td>74825</td>\n",
       "    </tr>\n",
       "    <tr>\n",
       "      <th>4</th>\n",
       "      <td>0</td>\n",
       "      <td>0</td>\n",
       "      <td>0</td>\n",
       "      <td>2018</td>\n",
       "      <td>329256465</td>\n",
       "      <td>4083375</td>\n",
       "      <td>4074132</td>\n",
       "      <td>4062816</td>\n",
       "      <td>4048550</td>\n",
       "      <td>4031712</td>\n",
       "      <td>...</td>\n",
       "      <td>464190</td>\n",
       "      <td>384904</td>\n",
       "      <td>321369</td>\n",
       "      <td>257013</td>\n",
       "      <td>199015</td>\n",
       "      <td>153039</td>\n",
       "      <td>113492</td>\n",
       "      <td>79615</td>\n",
       "      <td>51839</td>\n",
       "      <td>79172</td>\n",
       "    </tr>\n",
       "  </tbody>\n",
       "</table>\n",
       "<p>5 rows × 106 columns</p>\n",
       "</div>"
      ],
      "text/plain": [
       "   origin  race  sex  year  total_pop    pop_0    pop_1    pop_2    pop_3  \\\n",
       "0       0     0    0  2014  318748017  3971847  3957864  3972081  4003272   \n",
       "1       0     0    0  2015  321368864  4000831  3988161  3974109  3986357   \n",
       "2       0     0    0  2016  323995528  4029356  4017346  4004585  3988434   \n",
       "3       0     0    0  2017  326625791  4057231  4046063  4033932  4019069   \n",
       "4       0     0    0  2018  329256465  4083375  4074132  4062816  4048550   \n",
       "\n",
       "     pop_4   ...     pop_91  pop_92  pop_93  pop_94  pop_95  pop_96  pop_97  \\\n",
       "0  4001929   ...     427331  355279  286604  219260  157054  121336   84101   \n",
       "1  4015656   ...     442185  362183  295845  234146  175609  123059   92909   \n",
       "2  3998839   ...     452570  375203  301995  242066  187727  137851   94383   \n",
       "3  4000955   ...     452613  384455  313248  247453  194398  147520  105942   \n",
       "4  4031712   ...     464190  384904  321369  257013  199015  153039  113492   \n",
       "\n",
       "   pop_98  pop_99  pop_100  \n",
       "0   60314   41987    70344  \n",
       "1   62843   43941    71897  \n",
       "2   69548   45855    73173  \n",
       "3   70777   50845    74825  \n",
       "4   79615   51839    79172  \n",
       "\n",
       "[5 rows x 106 columns]"
      ]
     },
     "execution_count": 3,
     "metadata": {},
     "output_type": "execute_result"
    }
   ],
   "source": [
    "ds.head()"
   ]
  },
  {
   "cell_type": "code",
   "execution_count": 5,
   "metadata": {},
   "outputs": [
    {
     "data": {
      "text/plain": [
       "{2014: 108,\n",
       " 2015: 108,\n",
       " 2016: 108,\n",
       " 2017: 108,\n",
       " 2018: 108,\n",
       " 2019: 108,\n",
       " 2020: 108,\n",
       " 2021: 108,\n",
       " 2022: 108,\n",
       " 2023: 108,\n",
       " 2024: 108,\n",
       " 2025: 108,\n",
       " 2026: 108,\n",
       " 2027: 108,\n",
       " 2028: 108,\n",
       " 2029: 108,\n",
       " 2030: 108,\n",
       " 2031: 108,\n",
       " 2032: 108,\n",
       " 2033: 108,\n",
       " 2034: 108,\n",
       " 2035: 108,\n",
       " 2036: 108,\n",
       " 2037: 108,\n",
       " 2038: 108,\n",
       " 2039: 108,\n",
       " 2040: 108,\n",
       " 2041: 108,\n",
       " 2042: 108,\n",
       " 2043: 108,\n",
       " 2044: 108,\n",
       " 2045: 108,\n",
       " 2046: 108,\n",
       " 2047: 108,\n",
       " 2048: 108,\n",
       " 2049: 108,\n",
       " 2050: 108,\n",
       " 2051: 108,\n",
       " 2052: 108,\n",
       " 2053: 108,\n",
       " 2054: 108,\n",
       " 2055: 108,\n",
       " 2056: 108,\n",
       " 2057: 108,\n",
       " 2058: 108,\n",
       " 2059: 108,\n",
       " 2060: 108}"
      ]
     },
     "execution_count": 5,
     "metadata": {},
     "output_type": "execute_result"
    }
   ],
   "source": [
    "years_count = {}\n",
    "col = ds['year']\n",
    "for entry in col:\n",
    "    if entry in years_count.keys():\n",
    "        years_count[entry] += 1\n",
    "    else:\n",
    "        years_count[entry] = 1\n",
    "\n",
    "years_count\n",
    "        "
   ]
  },
  {
   "cell_type": "code",
   "execution_count": 14,
   "metadata": {},
   "outputs": [
    {
     "name": "stdout",
     "output_type": "stream",
     "text": [
      "hello\n"
     ]
    }
   ],
   "source": [
    "def heya(x1, x2):\n",
    "    \"\"\"mwahaha\"\"\"\n",
    "    d = x1 + 2*x2\n",
    "    \n",
    "    return d\n",
    "\n",
    "heya(1,3)\n",
    "\n",
    "print(\"hello\")"
   ]
  },
  {
   "cell_type": "code",
   "execution_count": 19,
   "metadata": {},
   "outputs": [
    {
     "name": "stdout",
     "output_type": "stream",
     "text": [
      "hm: hoo\n",
      "name: hee\n"
     ]
    }
   ],
   "source": [
    "def print_it(**kwargs):\n",
    "    \n",
    "    for key, value in kwargs.items():\n",
    "        print(key + \": \" + value)\n",
    "\n",
    "print_it(name = \"hee\", hm = \"hoo\")"
   ]
  },
  {
   "cell_type": "code",
   "execution_count": 21,
   "metadata": {
    "collapsed": true
   },
   "outputs": [],
   "source": [
    "def square_me(n):\n",
    "    \"\"\"Accepts only even powers\"\"\"\n",
    "    if n % 2 > 0:\n",
    "        raise ValueError('n must be even')\n",
    "    try:\n",
    "        return 2**n\n",
    "    except TypeError:\n",
    "        print('must be a number')"
   ]
  },
  {
   "cell_type": "code",
   "execution_count": null,
   "metadata": {
    "collapsed": true
   },
   "outputs": [],
   "source": []
  }
 ],
 "metadata": {
  "kernelspec": {
   "display_name": "Python [conda root]",
   "language": "python",
   "name": "conda-root-py"
  },
  "language_info": {
   "codemirror_mode": {
    "name": "ipython",
    "version": 3
   },
   "file_extension": ".py",
   "mimetype": "text/x-python",
   "name": "python",
   "nbconvert_exporter": "python",
   "pygments_lexer": "ipython3",
   "version": "3.5.3"
  }
 },
 "nbformat": 4,
 "nbformat_minor": 2
}
