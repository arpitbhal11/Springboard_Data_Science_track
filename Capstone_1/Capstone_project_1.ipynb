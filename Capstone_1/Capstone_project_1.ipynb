{
 "cells": [
  {
   "cell_type": "markdown",
   "metadata": {},
   "source": [
    "# Capstone Project 1 - Subscription for Bank Deposits "
   ]
  },
  {
   "cell_type": "markdown",
   "metadata": {},
   "source": [
    "**Problem**: Companies spend tremendous amounts of money on marketing in order to drive sales, but not all investments bring results. Even with the significant advancements in the ability to target the prospective customers, the targeting of the marketing campaigns is still not very precise and substantial amounts of money are still spent on marketing to the wrong audience. At the same time, the companies are now collecting more data about their customers than ever, which gives an opportunity to use that data for better targeting and profit growth.\n",
    "\n",
    "Telemarketing remains one of the most popular marketing vehicles. The customers are usually categorized by the age group, gender, level of income and so on. Based on this preliminary targeting, telemarketers “cold call” potential customers and try to filter out those who may be interested in the product. Naturally, a lot of telemarketers’ time is wasted on calling people who have no interest in what they offer. A better targeting, hence, presents a significant opportunity to increase the effect of the telemarketing campaigns.\n"
   ]
  },
  {
   "cell_type": "markdown",
   "metadata": {},
   "source": [
    "**Client**: Though this analysis is focused on identifying the customers who are the most likely to subscribe for bank deposits, the classification approach employed in this project can be used by any company that uses telemarketing. Better prospective customer classification will allow companies to more effectively use their telemarketers’ time and get more return on their marketing investment.\n"
   ]
  },
  {
   "cell_type": "markdown",
   "metadata": {},
   "source": [
    "**Data**: The data for this project are sourced from the UCI Machine Learning repository and represents the results of direct marketing campaigns (phone calls) of a Portuguese banking institution. The data set has 45,211 instances and 20 features (input variables), stored in a .csv file.\n",
    "\n",
    "http://archive.ics.uci.edu/ml/datasets/Bank+Marketing\n"
   ]
  },
  {
   "cell_type": "markdown",
   "metadata": {},
   "source": [
    "**Method**: The expected result of the project is to predict if a customer subscribes for a deposit offer or will eventually decline it. Hence, a number of classification methods will be used, including Logistic Regression and Decision Trees."
   ]
  },
  {
   "cell_type": "markdown",
   "metadata": {},
   "source": [
    "**Deliverables**: The outcome of the project will be presented in a form of Jupyter notebook, as well as the PowerPoint presentation."
   ]
  },
  {
   "cell_type": "markdown",
   "metadata": {},
   "source": [
    "### General Information on the Data"
   ]
  },
  {
   "cell_type": "markdown",
   "metadata": {},
   "source": [
    "**Overview**: The data is related to the direct marketing campaigns of a Portuguese banking institution. The marketing campaigns were based on phone calls. Often, more than one contact to the same client was required, in order to access if the product (bank term deposit) would be (or not) subscribed.\n",
    "\n",
    "This dataset is based on \"Bank Marketing\" UCI dataset (http://archive.ics.uci.edu/ml/datasets/Bank+Marketing). The data are enriched by the addition of five new social and economic features/attributes (national wide indicators from a ~10M population country), published by the Banco de Portugal and publicly available at: https://www.bportugal.pt/estatisticasweb. The binary classification goal is to predict if the client will subscribe a bank term deposit (variable y).\n",
    "\n",
    "**Number of Instances**: 41188\n",
    "\n",
    "**Number of Attributes**: 20+ output attributes\n",
    "\n",
    "[Detailed description of data](Data_description.txt)"
   ]
  },
  {
   "cell_type": "markdown",
   "metadata": {},
   "source": [
    "## Step 1 - Exploratory Data Analysis"
   ]
  },
  {
   "cell_type": "markdown",
   "metadata": {},
   "source": [
    "**Loading required libraries and the dataset**"
   ]
  },
  {
   "cell_type": "code",
   "execution_count": 68,
   "metadata": {
    "collapsed": true
   },
   "outputs": [],
   "source": [
    "#Pandas for dataframes\n",
    "import pandas as pd\n",
    "#Changing default display option to display all columns\n",
    "pd.set_option('display.max_columns', 21)\n",
    "\n",
    "#Numpy for numerical computing\n",
    "import numpy as np\n",
    "\n",
    "#Matplotlib for visualization\n",
    "import matplotlib.pyplot as plt\n",
    "\n",
    "#Display plots in the notebook\n",
    "%matplotlib inline \n",
    "\n",
    "#Seaborn for easier visualization\n",
    "import seaborn as sns\n",
    "\n",
    "from scipy import stats\n",
    "\n",
    "df = pd.read_csv('Data/Raw_data/bank-additional-full.csv', sep=';')"
   ]
  },
  {
   "cell_type": "markdown",
   "metadata": {
    "collapsed": true
   },
   "source": [
    "**Parameters of the dataset**"
   ]
  },
  {
   "cell_type": "markdown",
   "metadata": {},
   "source": [
    "Let's look at the overall characteristics of the dataset, starting with the dataset shape, number and types of variables, and the overall distribution of the numerical variables. Before doing the analysis, let's drop the duplicates from the dataset."
   ]
  },
  {
   "cell_type": "code",
   "execution_count": 69,
   "metadata": {},
   "outputs": [
    {
     "data": {
      "text/plain": [
       "(41176, 21)"
      ]
     },
     "execution_count": 69,
     "metadata": {},
     "output_type": "execute_result"
    }
   ],
   "source": [
    "#Dropping the duplicates\n",
    "df = df.drop_duplicates()\n",
    "\n",
    "#Dataframe dimensions\n",
    "df.shape"
   ]
  },
  {
   "cell_type": "markdown",
   "metadata": {},
   "source": [
    "By dropping the duplicates, we lost 12 observations out of 41,188, which is very little. Let's look at the data types and missing values:"
   ]
  },
  {
   "cell_type": "code",
   "execution_count": 70,
   "metadata": {},
   "outputs": [
    {
     "name": "stdout",
     "output_type": "stream",
     "text": [
      "<class 'pandas.core.frame.DataFrame'>\n",
      "Int64Index: 41176 entries, 0 to 41187\n",
      "Data columns (total 21 columns):\n",
      "age               41176 non-null int64\n",
      "job               41176 non-null object\n",
      "marital           41176 non-null object\n",
      "education         41176 non-null object\n",
      "default           41176 non-null object\n",
      "housing           41176 non-null object\n",
      "loan              41176 non-null object\n",
      "contact           41176 non-null object\n",
      "month             41176 non-null object\n",
      "day_of_week       41176 non-null object\n",
      "duration          41176 non-null int64\n",
      "campaign          41176 non-null int64\n",
      "pdays             41176 non-null int64\n",
      "previous          41176 non-null int64\n",
      "poutcome          41176 non-null object\n",
      "emp.var.rate      41176 non-null float64\n",
      "cons.price.idx    41176 non-null float64\n",
      "cons.conf.idx     41176 non-null float64\n",
      "euribor3m         41176 non-null float64\n",
      "nr.employed       41176 non-null float64\n",
      "y                 41176 non-null object\n",
      "dtypes: float64(5), int64(5), object(11)\n",
      "memory usage: 6.9+ MB\n"
     ]
    }
   ],
   "source": [
    "df.info()"
   ]
  },
  {
   "cell_type": "markdown",
   "metadata": {},
   "source": [
    "We have 21 variables (10 numeric and 11 string) and 41,176 non-duplicate rows. There are no missing values. All string variables are categorical, so they need to be converted accordingly."
   ]
  },
  {
   "cell_type": "code",
   "execution_count": 71,
   "metadata": {},
   "outputs": [
    {
     "name": "stdout",
     "output_type": "stream",
     "text": [
      "<class 'pandas.core.frame.DataFrame'>\n",
      "Int64Index: 41176 entries, 0 to 41187\n",
      "Data columns (total 21 columns):\n",
      "age               41176 non-null int64\n",
      "job               41176 non-null category\n",
      "marital           41176 non-null category\n",
      "education         41176 non-null category\n",
      "default           41176 non-null category\n",
      "housing           41176 non-null category\n",
      "loan              41176 non-null category\n",
      "contact           41176 non-null category\n",
      "month             41176 non-null category\n",
      "day_of_week       41176 non-null category\n",
      "duration          41176 non-null int64\n",
      "campaign          41176 non-null int64\n",
      "pdays             41176 non-null int64\n",
      "previous          41176 non-null int64\n",
      "poutcome          41176 non-null category\n",
      "emp.var.rate      41176 non-null float64\n",
      "cons.price.idx    41176 non-null float64\n",
      "cons.conf.idx     41176 non-null float64\n",
      "euribor3m         41176 non-null float64\n",
      "nr.employed       41176 non-null float64\n",
      "y                 41176 non-null category\n",
      "dtypes: category(11), float64(5), int64(5)\n",
      "memory usage: 3.9 MB\n"
     ]
    }
   ],
   "source": [
    "#Selecting categorical columns\n",
    "categorical_columns = ['job', 'marital', 'education', 'default', 'housing', 'loan', 'contact', 'month', 'day_of_week', 'poutcome', 'y']\n",
    "\n",
    "#Looping through the columns and changing type to 'category'\n",
    "for column in categorical_columns:\n",
    "    df[column] = df[column].astype('category')\n",
    "\n",
    "df.info()"
   ]
  },
  {
   "cell_type": "markdown",
   "metadata": {},
   "source": [
    "Let's look at the first 10 and last 10 rows of data to see how the data look and check if there are any corrupted data:"
   ]
  },
  {
   "cell_type": "code",
   "execution_count": 72,
   "metadata": {},
   "outputs": [
    {
     "data": {
      "text/html": [
       "<div>\n",
       "<style>\n",
       "    .dataframe thead tr:only-child th {\n",
       "        text-align: right;\n",
       "    }\n",
       "\n",
       "    .dataframe thead th {\n",
       "        text-align: left;\n",
       "    }\n",
       "\n",
       "    .dataframe tbody tr th {\n",
       "        vertical-align: top;\n",
       "    }\n",
       "</style>\n",
       "<table border=\"1\" class=\"dataframe\">\n",
       "  <thead>\n",
       "    <tr style=\"text-align: right;\">\n",
       "      <th></th>\n",
       "      <th>age</th>\n",
       "      <th>job</th>\n",
       "      <th>marital</th>\n",
       "      <th>education</th>\n",
       "      <th>default</th>\n",
       "      <th>housing</th>\n",
       "      <th>loan</th>\n",
       "      <th>contact</th>\n",
       "      <th>month</th>\n",
       "      <th>day_of_week</th>\n",
       "      <th>duration</th>\n",
       "      <th>campaign</th>\n",
       "      <th>pdays</th>\n",
       "      <th>previous</th>\n",
       "      <th>poutcome</th>\n",
       "      <th>emp.var.rate</th>\n",
       "      <th>cons.price.idx</th>\n",
       "      <th>cons.conf.idx</th>\n",
       "      <th>euribor3m</th>\n",
       "      <th>nr.employed</th>\n",
       "      <th>y</th>\n",
       "    </tr>\n",
       "  </thead>\n",
       "  <tbody>\n",
       "    <tr>\n",
       "      <th>0</th>\n",
       "      <td>56</td>\n",
       "      <td>housemaid</td>\n",
       "      <td>married</td>\n",
       "      <td>basic.4y</td>\n",
       "      <td>no</td>\n",
       "      <td>no</td>\n",
       "      <td>no</td>\n",
       "      <td>telephone</td>\n",
       "      <td>may</td>\n",
       "      <td>mon</td>\n",
       "      <td>261</td>\n",
       "      <td>1</td>\n",
       "      <td>999</td>\n",
       "      <td>0</td>\n",
       "      <td>nonexistent</td>\n",
       "      <td>1.1</td>\n",
       "      <td>93.994</td>\n",
       "      <td>-36.4</td>\n",
       "      <td>4.857</td>\n",
       "      <td>5191.0</td>\n",
       "      <td>no</td>\n",
       "    </tr>\n",
       "    <tr>\n",
       "      <th>1</th>\n",
       "      <td>57</td>\n",
       "      <td>services</td>\n",
       "      <td>married</td>\n",
       "      <td>high.school</td>\n",
       "      <td>unknown</td>\n",
       "      <td>no</td>\n",
       "      <td>no</td>\n",
       "      <td>telephone</td>\n",
       "      <td>may</td>\n",
       "      <td>mon</td>\n",
       "      <td>149</td>\n",
       "      <td>1</td>\n",
       "      <td>999</td>\n",
       "      <td>0</td>\n",
       "      <td>nonexistent</td>\n",
       "      <td>1.1</td>\n",
       "      <td>93.994</td>\n",
       "      <td>-36.4</td>\n",
       "      <td>4.857</td>\n",
       "      <td>5191.0</td>\n",
       "      <td>no</td>\n",
       "    </tr>\n",
       "    <tr>\n",
       "      <th>2</th>\n",
       "      <td>37</td>\n",
       "      <td>services</td>\n",
       "      <td>married</td>\n",
       "      <td>high.school</td>\n",
       "      <td>no</td>\n",
       "      <td>yes</td>\n",
       "      <td>no</td>\n",
       "      <td>telephone</td>\n",
       "      <td>may</td>\n",
       "      <td>mon</td>\n",
       "      <td>226</td>\n",
       "      <td>1</td>\n",
       "      <td>999</td>\n",
       "      <td>0</td>\n",
       "      <td>nonexistent</td>\n",
       "      <td>1.1</td>\n",
       "      <td>93.994</td>\n",
       "      <td>-36.4</td>\n",
       "      <td>4.857</td>\n",
       "      <td>5191.0</td>\n",
       "      <td>no</td>\n",
       "    </tr>\n",
       "    <tr>\n",
       "      <th>3</th>\n",
       "      <td>40</td>\n",
       "      <td>admin.</td>\n",
       "      <td>married</td>\n",
       "      <td>basic.6y</td>\n",
       "      <td>no</td>\n",
       "      <td>no</td>\n",
       "      <td>no</td>\n",
       "      <td>telephone</td>\n",
       "      <td>may</td>\n",
       "      <td>mon</td>\n",
       "      <td>151</td>\n",
       "      <td>1</td>\n",
       "      <td>999</td>\n",
       "      <td>0</td>\n",
       "      <td>nonexistent</td>\n",
       "      <td>1.1</td>\n",
       "      <td>93.994</td>\n",
       "      <td>-36.4</td>\n",
       "      <td>4.857</td>\n",
       "      <td>5191.0</td>\n",
       "      <td>no</td>\n",
       "    </tr>\n",
       "    <tr>\n",
       "      <th>4</th>\n",
       "      <td>56</td>\n",
       "      <td>services</td>\n",
       "      <td>married</td>\n",
       "      <td>high.school</td>\n",
       "      <td>no</td>\n",
       "      <td>no</td>\n",
       "      <td>yes</td>\n",
       "      <td>telephone</td>\n",
       "      <td>may</td>\n",
       "      <td>mon</td>\n",
       "      <td>307</td>\n",
       "      <td>1</td>\n",
       "      <td>999</td>\n",
       "      <td>0</td>\n",
       "      <td>nonexistent</td>\n",
       "      <td>1.1</td>\n",
       "      <td>93.994</td>\n",
       "      <td>-36.4</td>\n",
       "      <td>4.857</td>\n",
       "      <td>5191.0</td>\n",
       "      <td>no</td>\n",
       "    </tr>\n",
       "    <tr>\n",
       "      <th>5</th>\n",
       "      <td>45</td>\n",
       "      <td>services</td>\n",
       "      <td>married</td>\n",
       "      <td>basic.9y</td>\n",
       "      <td>unknown</td>\n",
       "      <td>no</td>\n",
       "      <td>no</td>\n",
       "      <td>telephone</td>\n",
       "      <td>may</td>\n",
       "      <td>mon</td>\n",
       "      <td>198</td>\n",
       "      <td>1</td>\n",
       "      <td>999</td>\n",
       "      <td>0</td>\n",
       "      <td>nonexistent</td>\n",
       "      <td>1.1</td>\n",
       "      <td>93.994</td>\n",
       "      <td>-36.4</td>\n",
       "      <td>4.857</td>\n",
       "      <td>5191.0</td>\n",
       "      <td>no</td>\n",
       "    </tr>\n",
       "    <tr>\n",
       "      <th>6</th>\n",
       "      <td>59</td>\n",
       "      <td>admin.</td>\n",
       "      <td>married</td>\n",
       "      <td>professional.course</td>\n",
       "      <td>no</td>\n",
       "      <td>no</td>\n",
       "      <td>no</td>\n",
       "      <td>telephone</td>\n",
       "      <td>may</td>\n",
       "      <td>mon</td>\n",
       "      <td>139</td>\n",
       "      <td>1</td>\n",
       "      <td>999</td>\n",
       "      <td>0</td>\n",
       "      <td>nonexistent</td>\n",
       "      <td>1.1</td>\n",
       "      <td>93.994</td>\n",
       "      <td>-36.4</td>\n",
       "      <td>4.857</td>\n",
       "      <td>5191.0</td>\n",
       "      <td>no</td>\n",
       "    </tr>\n",
       "    <tr>\n",
       "      <th>7</th>\n",
       "      <td>41</td>\n",
       "      <td>blue-collar</td>\n",
       "      <td>married</td>\n",
       "      <td>unknown</td>\n",
       "      <td>unknown</td>\n",
       "      <td>no</td>\n",
       "      <td>no</td>\n",
       "      <td>telephone</td>\n",
       "      <td>may</td>\n",
       "      <td>mon</td>\n",
       "      <td>217</td>\n",
       "      <td>1</td>\n",
       "      <td>999</td>\n",
       "      <td>0</td>\n",
       "      <td>nonexistent</td>\n",
       "      <td>1.1</td>\n",
       "      <td>93.994</td>\n",
       "      <td>-36.4</td>\n",
       "      <td>4.857</td>\n",
       "      <td>5191.0</td>\n",
       "      <td>no</td>\n",
       "    </tr>\n",
       "    <tr>\n",
       "      <th>8</th>\n",
       "      <td>24</td>\n",
       "      <td>technician</td>\n",
       "      <td>single</td>\n",
       "      <td>professional.course</td>\n",
       "      <td>no</td>\n",
       "      <td>yes</td>\n",
       "      <td>no</td>\n",
       "      <td>telephone</td>\n",
       "      <td>may</td>\n",
       "      <td>mon</td>\n",
       "      <td>380</td>\n",
       "      <td>1</td>\n",
       "      <td>999</td>\n",
       "      <td>0</td>\n",
       "      <td>nonexistent</td>\n",
       "      <td>1.1</td>\n",
       "      <td>93.994</td>\n",
       "      <td>-36.4</td>\n",
       "      <td>4.857</td>\n",
       "      <td>5191.0</td>\n",
       "      <td>no</td>\n",
       "    </tr>\n",
       "    <tr>\n",
       "      <th>9</th>\n",
       "      <td>25</td>\n",
       "      <td>services</td>\n",
       "      <td>single</td>\n",
       "      <td>high.school</td>\n",
       "      <td>no</td>\n",
       "      <td>yes</td>\n",
       "      <td>no</td>\n",
       "      <td>telephone</td>\n",
       "      <td>may</td>\n",
       "      <td>mon</td>\n",
       "      <td>50</td>\n",
       "      <td>1</td>\n",
       "      <td>999</td>\n",
       "      <td>0</td>\n",
       "      <td>nonexistent</td>\n",
       "      <td>1.1</td>\n",
       "      <td>93.994</td>\n",
       "      <td>-36.4</td>\n",
       "      <td>4.857</td>\n",
       "      <td>5191.0</td>\n",
       "      <td>no</td>\n",
       "    </tr>\n",
       "  </tbody>\n",
       "</table>\n",
       "</div>"
      ],
      "text/plain": [
       "   age          job  marital            education  default housing loan  \\\n",
       "0   56    housemaid  married             basic.4y       no      no   no   \n",
       "1   57     services  married          high.school  unknown      no   no   \n",
       "2   37     services  married          high.school       no     yes   no   \n",
       "3   40       admin.  married             basic.6y       no      no   no   \n",
       "4   56     services  married          high.school       no      no  yes   \n",
       "5   45     services  married             basic.9y  unknown      no   no   \n",
       "6   59       admin.  married  professional.course       no      no   no   \n",
       "7   41  blue-collar  married              unknown  unknown      no   no   \n",
       "8   24   technician   single  professional.course       no     yes   no   \n",
       "9   25     services   single          high.school       no     yes   no   \n",
       "\n",
       "     contact month day_of_week  duration  campaign  pdays  previous  \\\n",
       "0  telephone   may         mon       261         1    999         0   \n",
       "1  telephone   may         mon       149         1    999         0   \n",
       "2  telephone   may         mon       226         1    999         0   \n",
       "3  telephone   may         mon       151         1    999         0   \n",
       "4  telephone   may         mon       307         1    999         0   \n",
       "5  telephone   may         mon       198         1    999         0   \n",
       "6  telephone   may         mon       139         1    999         0   \n",
       "7  telephone   may         mon       217         1    999         0   \n",
       "8  telephone   may         mon       380         1    999         0   \n",
       "9  telephone   may         mon        50         1    999         0   \n",
       "\n",
       "      poutcome  emp.var.rate  cons.price.idx  cons.conf.idx  euribor3m  \\\n",
       "0  nonexistent           1.1          93.994          -36.4      4.857   \n",
       "1  nonexistent           1.1          93.994          -36.4      4.857   \n",
       "2  nonexistent           1.1          93.994          -36.4      4.857   \n",
       "3  nonexistent           1.1          93.994          -36.4      4.857   \n",
       "4  nonexistent           1.1          93.994          -36.4      4.857   \n",
       "5  nonexistent           1.1          93.994          -36.4      4.857   \n",
       "6  nonexistent           1.1          93.994          -36.4      4.857   \n",
       "7  nonexistent           1.1          93.994          -36.4      4.857   \n",
       "8  nonexistent           1.1          93.994          -36.4      4.857   \n",
       "9  nonexistent           1.1          93.994          -36.4      4.857   \n",
       "\n",
       "   nr.employed   y  \n",
       "0       5191.0  no  \n",
       "1       5191.0  no  \n",
       "2       5191.0  no  \n",
       "3       5191.0  no  \n",
       "4       5191.0  no  \n",
       "5       5191.0  no  \n",
       "6       5191.0  no  \n",
       "7       5191.0  no  \n",
       "8       5191.0  no  \n",
       "9       5191.0  no  "
      ]
     },
     "execution_count": 72,
     "metadata": {},
     "output_type": "execute_result"
    }
   ],
   "source": [
    "#First 10 rows\n",
    "df.head(10)"
   ]
  },
  {
   "cell_type": "code",
   "execution_count": 73,
   "metadata": {},
   "outputs": [
    {
     "data": {
      "text/html": [
       "<div>\n",
       "<style>\n",
       "    .dataframe thead tr:only-child th {\n",
       "        text-align: right;\n",
       "    }\n",
       "\n",
       "    .dataframe thead th {\n",
       "        text-align: left;\n",
       "    }\n",
       "\n",
       "    .dataframe tbody tr th {\n",
       "        vertical-align: top;\n",
       "    }\n",
       "</style>\n",
       "<table border=\"1\" class=\"dataframe\">\n",
       "  <thead>\n",
       "    <tr style=\"text-align: right;\">\n",
       "      <th></th>\n",
       "      <th>age</th>\n",
       "      <th>job</th>\n",
       "      <th>marital</th>\n",
       "      <th>education</th>\n",
       "      <th>default</th>\n",
       "      <th>housing</th>\n",
       "      <th>loan</th>\n",
       "      <th>contact</th>\n",
       "      <th>month</th>\n",
       "      <th>day_of_week</th>\n",
       "      <th>duration</th>\n",
       "      <th>campaign</th>\n",
       "      <th>pdays</th>\n",
       "      <th>previous</th>\n",
       "      <th>poutcome</th>\n",
       "      <th>emp.var.rate</th>\n",
       "      <th>cons.price.idx</th>\n",
       "      <th>cons.conf.idx</th>\n",
       "      <th>euribor3m</th>\n",
       "      <th>nr.employed</th>\n",
       "      <th>y</th>\n",
       "    </tr>\n",
       "  </thead>\n",
       "  <tbody>\n",
       "    <tr>\n",
       "      <th>41178</th>\n",
       "      <td>62</td>\n",
       "      <td>retired</td>\n",
       "      <td>married</td>\n",
       "      <td>university.degree</td>\n",
       "      <td>no</td>\n",
       "      <td>no</td>\n",
       "      <td>no</td>\n",
       "      <td>cellular</td>\n",
       "      <td>nov</td>\n",
       "      <td>thu</td>\n",
       "      <td>483</td>\n",
       "      <td>2</td>\n",
       "      <td>6</td>\n",
       "      <td>3</td>\n",
       "      <td>success</td>\n",
       "      <td>-1.1</td>\n",
       "      <td>94.767</td>\n",
       "      <td>-50.8</td>\n",
       "      <td>1.031</td>\n",
       "      <td>4963.6</td>\n",
       "      <td>yes</td>\n",
       "    </tr>\n",
       "    <tr>\n",
       "      <th>41179</th>\n",
       "      <td>64</td>\n",
       "      <td>retired</td>\n",
       "      <td>divorced</td>\n",
       "      <td>professional.course</td>\n",
       "      <td>no</td>\n",
       "      <td>yes</td>\n",
       "      <td>no</td>\n",
       "      <td>cellular</td>\n",
       "      <td>nov</td>\n",
       "      <td>fri</td>\n",
       "      <td>151</td>\n",
       "      <td>3</td>\n",
       "      <td>999</td>\n",
       "      <td>0</td>\n",
       "      <td>nonexistent</td>\n",
       "      <td>-1.1</td>\n",
       "      <td>94.767</td>\n",
       "      <td>-50.8</td>\n",
       "      <td>1.028</td>\n",
       "      <td>4963.6</td>\n",
       "      <td>no</td>\n",
       "    </tr>\n",
       "    <tr>\n",
       "      <th>41180</th>\n",
       "      <td>36</td>\n",
       "      <td>admin.</td>\n",
       "      <td>married</td>\n",
       "      <td>university.degree</td>\n",
       "      <td>no</td>\n",
       "      <td>no</td>\n",
       "      <td>no</td>\n",
       "      <td>cellular</td>\n",
       "      <td>nov</td>\n",
       "      <td>fri</td>\n",
       "      <td>254</td>\n",
       "      <td>2</td>\n",
       "      <td>999</td>\n",
       "      <td>0</td>\n",
       "      <td>nonexistent</td>\n",
       "      <td>-1.1</td>\n",
       "      <td>94.767</td>\n",
       "      <td>-50.8</td>\n",
       "      <td>1.028</td>\n",
       "      <td>4963.6</td>\n",
       "      <td>no</td>\n",
       "    </tr>\n",
       "    <tr>\n",
       "      <th>41181</th>\n",
       "      <td>37</td>\n",
       "      <td>admin.</td>\n",
       "      <td>married</td>\n",
       "      <td>university.degree</td>\n",
       "      <td>no</td>\n",
       "      <td>yes</td>\n",
       "      <td>no</td>\n",
       "      <td>cellular</td>\n",
       "      <td>nov</td>\n",
       "      <td>fri</td>\n",
       "      <td>281</td>\n",
       "      <td>1</td>\n",
       "      <td>999</td>\n",
       "      <td>0</td>\n",
       "      <td>nonexistent</td>\n",
       "      <td>-1.1</td>\n",
       "      <td>94.767</td>\n",
       "      <td>-50.8</td>\n",
       "      <td>1.028</td>\n",
       "      <td>4963.6</td>\n",
       "      <td>yes</td>\n",
       "    </tr>\n",
       "    <tr>\n",
       "      <th>41182</th>\n",
       "      <td>29</td>\n",
       "      <td>unemployed</td>\n",
       "      <td>single</td>\n",
       "      <td>basic.4y</td>\n",
       "      <td>no</td>\n",
       "      <td>yes</td>\n",
       "      <td>no</td>\n",
       "      <td>cellular</td>\n",
       "      <td>nov</td>\n",
       "      <td>fri</td>\n",
       "      <td>112</td>\n",
       "      <td>1</td>\n",
       "      <td>9</td>\n",
       "      <td>1</td>\n",
       "      <td>success</td>\n",
       "      <td>-1.1</td>\n",
       "      <td>94.767</td>\n",
       "      <td>-50.8</td>\n",
       "      <td>1.028</td>\n",
       "      <td>4963.6</td>\n",
       "      <td>no</td>\n",
       "    </tr>\n",
       "    <tr>\n",
       "      <th>41183</th>\n",
       "      <td>73</td>\n",
       "      <td>retired</td>\n",
       "      <td>married</td>\n",
       "      <td>professional.course</td>\n",
       "      <td>no</td>\n",
       "      <td>yes</td>\n",
       "      <td>no</td>\n",
       "      <td>cellular</td>\n",
       "      <td>nov</td>\n",
       "      <td>fri</td>\n",
       "      <td>334</td>\n",
       "      <td>1</td>\n",
       "      <td>999</td>\n",
       "      <td>0</td>\n",
       "      <td>nonexistent</td>\n",
       "      <td>-1.1</td>\n",
       "      <td>94.767</td>\n",
       "      <td>-50.8</td>\n",
       "      <td>1.028</td>\n",
       "      <td>4963.6</td>\n",
       "      <td>yes</td>\n",
       "    </tr>\n",
       "    <tr>\n",
       "      <th>41184</th>\n",
       "      <td>46</td>\n",
       "      <td>blue-collar</td>\n",
       "      <td>married</td>\n",
       "      <td>professional.course</td>\n",
       "      <td>no</td>\n",
       "      <td>no</td>\n",
       "      <td>no</td>\n",
       "      <td>cellular</td>\n",
       "      <td>nov</td>\n",
       "      <td>fri</td>\n",
       "      <td>383</td>\n",
       "      <td>1</td>\n",
       "      <td>999</td>\n",
       "      <td>0</td>\n",
       "      <td>nonexistent</td>\n",
       "      <td>-1.1</td>\n",
       "      <td>94.767</td>\n",
       "      <td>-50.8</td>\n",
       "      <td>1.028</td>\n",
       "      <td>4963.6</td>\n",
       "      <td>no</td>\n",
       "    </tr>\n",
       "    <tr>\n",
       "      <th>41185</th>\n",
       "      <td>56</td>\n",
       "      <td>retired</td>\n",
       "      <td>married</td>\n",
       "      <td>university.degree</td>\n",
       "      <td>no</td>\n",
       "      <td>yes</td>\n",
       "      <td>no</td>\n",
       "      <td>cellular</td>\n",
       "      <td>nov</td>\n",
       "      <td>fri</td>\n",
       "      <td>189</td>\n",
       "      <td>2</td>\n",
       "      <td>999</td>\n",
       "      <td>0</td>\n",
       "      <td>nonexistent</td>\n",
       "      <td>-1.1</td>\n",
       "      <td>94.767</td>\n",
       "      <td>-50.8</td>\n",
       "      <td>1.028</td>\n",
       "      <td>4963.6</td>\n",
       "      <td>no</td>\n",
       "    </tr>\n",
       "    <tr>\n",
       "      <th>41186</th>\n",
       "      <td>44</td>\n",
       "      <td>technician</td>\n",
       "      <td>married</td>\n",
       "      <td>professional.course</td>\n",
       "      <td>no</td>\n",
       "      <td>no</td>\n",
       "      <td>no</td>\n",
       "      <td>cellular</td>\n",
       "      <td>nov</td>\n",
       "      <td>fri</td>\n",
       "      <td>442</td>\n",
       "      <td>1</td>\n",
       "      <td>999</td>\n",
       "      <td>0</td>\n",
       "      <td>nonexistent</td>\n",
       "      <td>-1.1</td>\n",
       "      <td>94.767</td>\n",
       "      <td>-50.8</td>\n",
       "      <td>1.028</td>\n",
       "      <td>4963.6</td>\n",
       "      <td>yes</td>\n",
       "    </tr>\n",
       "    <tr>\n",
       "      <th>41187</th>\n",
       "      <td>74</td>\n",
       "      <td>retired</td>\n",
       "      <td>married</td>\n",
       "      <td>professional.course</td>\n",
       "      <td>no</td>\n",
       "      <td>yes</td>\n",
       "      <td>no</td>\n",
       "      <td>cellular</td>\n",
       "      <td>nov</td>\n",
       "      <td>fri</td>\n",
       "      <td>239</td>\n",
       "      <td>3</td>\n",
       "      <td>999</td>\n",
       "      <td>1</td>\n",
       "      <td>failure</td>\n",
       "      <td>-1.1</td>\n",
       "      <td>94.767</td>\n",
       "      <td>-50.8</td>\n",
       "      <td>1.028</td>\n",
       "      <td>4963.6</td>\n",
       "      <td>no</td>\n",
       "    </tr>\n",
       "  </tbody>\n",
       "</table>\n",
       "</div>"
      ],
      "text/plain": [
       "       age          job   marital            education default housing loan  \\\n",
       "41178   62      retired   married    university.degree      no      no   no   \n",
       "41179   64      retired  divorced  professional.course      no     yes   no   \n",
       "41180   36       admin.   married    university.degree      no      no   no   \n",
       "41181   37       admin.   married    university.degree      no     yes   no   \n",
       "41182   29   unemployed    single             basic.4y      no     yes   no   \n",
       "41183   73      retired   married  professional.course      no     yes   no   \n",
       "41184   46  blue-collar   married  professional.course      no      no   no   \n",
       "41185   56      retired   married    university.degree      no     yes   no   \n",
       "41186   44   technician   married  professional.course      no      no   no   \n",
       "41187   74      retired   married  professional.course      no     yes   no   \n",
       "\n",
       "        contact month day_of_week  duration  campaign  pdays  previous  \\\n",
       "41178  cellular   nov         thu       483         2      6         3   \n",
       "41179  cellular   nov         fri       151         3    999         0   \n",
       "41180  cellular   nov         fri       254         2    999         0   \n",
       "41181  cellular   nov         fri       281         1    999         0   \n",
       "41182  cellular   nov         fri       112         1      9         1   \n",
       "41183  cellular   nov         fri       334         1    999         0   \n",
       "41184  cellular   nov         fri       383         1    999         0   \n",
       "41185  cellular   nov         fri       189         2    999         0   \n",
       "41186  cellular   nov         fri       442         1    999         0   \n",
       "41187  cellular   nov         fri       239         3    999         1   \n",
       "\n",
       "          poutcome  emp.var.rate  cons.price.idx  cons.conf.idx  euribor3m  \\\n",
       "41178      success          -1.1          94.767          -50.8      1.031   \n",
       "41179  nonexistent          -1.1          94.767          -50.8      1.028   \n",
       "41180  nonexistent          -1.1          94.767          -50.8      1.028   \n",
       "41181  nonexistent          -1.1          94.767          -50.8      1.028   \n",
       "41182      success          -1.1          94.767          -50.8      1.028   \n",
       "41183  nonexistent          -1.1          94.767          -50.8      1.028   \n",
       "41184  nonexistent          -1.1          94.767          -50.8      1.028   \n",
       "41185  nonexistent          -1.1          94.767          -50.8      1.028   \n",
       "41186  nonexistent          -1.1          94.767          -50.8      1.028   \n",
       "41187      failure          -1.1          94.767          -50.8      1.028   \n",
       "\n",
       "       nr.employed    y  \n",
       "41178       4963.6  yes  \n",
       "41179       4963.6   no  \n",
       "41180       4963.6   no  \n",
       "41181       4963.6  yes  \n",
       "41182       4963.6   no  \n",
       "41183       4963.6  yes  \n",
       "41184       4963.6   no  \n",
       "41185       4963.6   no  \n",
       "41186       4963.6  yes  \n",
       "41187       4963.6   no  "
      ]
     },
     "execution_count": 73,
     "metadata": {},
     "output_type": "execute_result"
    }
   ],
   "source": [
    "#Last 10 rows\n",
    "df.tail(10)"
   ]
  },
  {
   "cell_type": "markdown",
   "metadata": {},
   "source": [
    "There are no obvious signs of inconsistency or corrupted data. \n",
    "\n",
    "\n",
    "### Categorical Data\n",
    "\n",
    "Let's look at the distribution of the categorical data:"
   ]
  },
  {
   "cell_type": "code",
   "execution_count": 74,
   "metadata": {},
   "outputs": [
    {
     "data": {
      "image/png": "[encoded data removed]",
      "text/plain": [
       "<matplotlib.figure.Figure at 0x1173f1be0>"
      ]
     },
     "metadata": {},
     "output_type": "display_data"
    },
    {
     "data": {
      "image/png": "[encoded data removed]",
      "text/plain": [
       "<matplotlib.figure.Figure at 0x1175c6048>"
      ]
     },
     "metadata": {},
     "output_type": "display_data"
    },
    {
     "data": {
      "image/png": "[encoded data removed]",
      "text/plain": [
       "<matplotlib.figure.Figure at 0x112d959e8>"
      ]
     },
     "metadata": {},
     "output_type": "display_data"
    },
    {
     "data": {
      "image/png": "[encoded data removed]",
      "text/plain": [
       "<matplotlib.figure.Figure at 0x112d99d30>"
      ]
     },
     "metadata": {},
     "output_type": "display_data"
    },
    {
     "data": {
      "image/png": "[encoded data removed]",
      "text/plain": [
       "<matplotlib.figure.Figure at 0x112bc27b8>"
      ]
     },
     "metadata": {},
     "output_type": "display_data"
    },
    {
     "data": {
      "image/png": "[encoded data removed]",
      "text/plain": [
       "<matplotlib.figure.Figure at 0x112d951d0>"
      ]
     },
     "metadata": {},
     "output_type": "display_data"
    },
    {
     "data": {
      "image/png": "[encoded data removed]",
      "text/plain": [
       "<matplotlib.figure.Figure at 0x107cdc550>"
      ]
     },
     "metadata": {},
     "output_type": "display_data"
    },
    {
     "data": {
      "image/png": "[encoded data removed]",
      "text/plain": [
       "<matplotlib.figure.Figure at 0x112d9fd30>"
      ]
     },
     "metadata": {},
     "output_type": "display_data"
    },
    {
     "data": {
      "image/png": "[encoded data removed]",
      "text/plain": [
       "<matplotlib.figure.Figure at 0x116f2a4a8>"
      ]
     },
     "metadata": {},
     "output_type": "display_data"
    },
    {
     "data": {
      "image/png": "[encoded data removed]",
      "text/plain": [
       "<matplotlib.figure.Figure at 0x112954fd0>"
      ]
     },
     "metadata": {},
     "output_type": "display_data"
    },
    {
     "data": {
      "image/png": "[encoded data removed]",
      "text/plain": [
       "<matplotlib.figure.Figure at 0x117405d30>"
      ]
     },
     "metadata": {},
     "output_type": "display_data"
    }
   ],
   "source": [
    "#Bar plots of categorical features\n",
    "for feature in df.dtypes[df.dtypes == 'category'].index:\n",
    "    sns.countplot(y=feature, data=df)\n",
    "    plt.show()"
   ]
  },
  {
   "cell_type": "markdown",
   "metadata": {},
   "source": [
    "The data don't show any unusual dynamic. There are some sparse or similar classes, which can be combined into a single category to simplify the prediction models. For example, the 'enterpreneur' and 'self-employed' categories of the 'job' variable, as well as 'retired' and 'unemployed' categories, can be combined into one. Additionally, the 'divorced' and 'single' categories of the 'marital' variable can be combined under one 'single' category. A similar consolidation can be performed for the basic education levels of the 'education' variable.\n",
    "\n",
    "Let's now look at the number of entries per each level of the categorical variables as proportion of the overall number of entries:"
   ]
  },
  {
   "cell_type": "code",
   "execution_count": 75,
   "metadata": {},
   "outputs": [
    {
     "data": {
      "text/plain": [
       "admin.           0.253036\n",
       "blue-collar      0.224718\n",
       "technician       0.163663\n",
       "services         0.096343\n",
       "management       0.071012\n",
       "retired          0.041723\n",
       "entrepreneur     0.035360\n",
       "self-employed    0.034510\n",
       "housemaid        0.025743\n",
       "unemployed       0.024626\n",
       "student          0.021250\n",
       "unknown          0.008014\n",
       "Name: job, dtype: float64"
      ]
     },
     "execution_count": 75,
     "metadata": {},
     "output_type": "execute_result"
    }
   ],
   "source": [
    "#Type of job as proportion of the overall number of values\n",
    "df.job.value_counts()/df.job.count()"
   ]
  },
  {
   "cell_type": "markdown",
   "metadata": {},
   "source": [
    "The list of the types of jobs doesn't look too comprehensive. Moreover, about 63% of all types of jobs in the dataset belong to just 3 categories - admin, blue-collar and technician. In general, the limited number of the types of jobs may limit the predictive power of this variable. There is a small proportion of unknown job types, which can be dropped from the dataset."
   ]
  },
  {
   "cell_type": "code",
   "execution_count": 76,
   "metadata": {},
   "outputs": [
    {
     "data": {
      "text/plain": [
       "married     0.605231\n",
       "single      0.280843\n",
       "divorced    0.111983\n",
       "unknown     0.001943\n",
       "Name: marital, dtype: float64"
      ]
     },
     "execution_count": 76,
     "metadata": {},
     "output_type": "execute_result"
    }
   ],
   "source": [
    "#Marital status as proportion of the overall number of values\n",
    "df.marital.value_counts()/df.marital.count()"
   ]
  },
  {
   "cell_type": "markdown",
   "metadata": {},
   "source": [
    "About 88% of all targeted individuals are married or single. There is a small proportion of people with unknown marital status, which can be dropped from the dataset. In general, the distribution of this variable is relatively balanced between the married and single individuals."
   ]
  },
  {
   "cell_type": "code",
   "execution_count": 77,
   "metadata": {},
   "outputs": [
    {
     "data": {
      "text/plain": [
       "university.degree      0.295415\n",
       "high.school            0.231008\n",
       "basic.9y               0.146809\n",
       "professional.course    0.127259\n",
       "basic.4y               0.101418\n",
       "basic.6y               0.055639\n",
       "unknown                0.042015\n",
       "illiterate             0.000437\n",
       "Name: education, dtype: float64"
      ]
     },
     "execution_count": 77,
     "metadata": {},
     "output_type": "execute_result"
    }
   ],
   "source": [
    "#Education as proportion of the overall number of values\n",
    "df.education.value_counts()/df.education.count()"
   ]
  },
  {
   "cell_type": "markdown",
   "metadata": {},
   "source": [
    "More than 50% of targeted individuals have a university degree or a high school diploma. There is a relatively small number of respondents with an unknown education level, as well as illiterate ones, which can be dropped from the dataset."
   ]
  },
  {
   "cell_type": "code",
   "execution_count": 78,
   "metadata": {},
   "outputs": [
    {
     "data": {
      "text/plain": [
       "no         0.791165\n",
       "unknown    0.208762\n",
       "yes        0.000073\n",
       "Name: default, dtype: float64"
      ]
     },
     "execution_count": 78,
     "metadata": {},
     "output_type": "execute_result"
    }
   ],
   "source": [
    "#Past defaults on a credit as proportion of the overall number of values\n",
    "df.default.value_counts()/df.default.count()"
   ]
  },
  {
   "cell_type": "markdown",
   "metadata": {},
   "source": [
    "There is a very small number of respondents who defaulted on a credit, so this variable doesn't look very informative for prediction purposes and can be dropped from the dataset."
   ]
  },
  {
   "cell_type": "code",
   "execution_count": 79,
   "metadata": {},
   "outputs": [
    {
     "data": {
      "text/plain": [
       "yes        0.523873\n",
       "no         0.452084\n",
       "unknown    0.024043\n",
       "Name: housing, dtype: float64"
      ]
     },
     "execution_count": 79,
     "metadata": {},
     "output_type": "execute_result"
    }
   ],
   "source": [
    "#Respondents with house loans as proportion of the overall number of values\n",
    "df.housing.value_counts()/df.housing.count()"
   ]
  },
  {
   "cell_type": "markdown",
   "metadata": {},
   "source": [
    "There is an almost even split between the respondents that have a house loan and that don't, which makes this variable a well-balanced potential predictor."
   ]
  },
  {
   "cell_type": "code",
   "execution_count": 80,
   "metadata": {},
   "outputs": [
    {
     "data": {
      "text/plain": [
       "no         0.824218\n",
       "yes        0.151739\n",
       "unknown    0.024043\n",
       "Name: loan, dtype: float64"
      ]
     },
     "execution_count": 80,
     "metadata": {},
     "output_type": "execute_result"
    }
   ],
   "source": [
    "#Respondents with personal loans as proportion of the overall number of values\n",
    "df.loan.value_counts()/df.loan.count()"
   ]
  },
  {
   "cell_type": "markdown",
   "metadata": {},
   "source": [
    "Most of the respondents don't have a personal loan. There is a relatively small number of respondents with unknown loan status, which can be dropped from the dataset."
   ]
  },
  {
   "cell_type": "code",
   "execution_count": 81,
   "metadata": {},
   "outputs": [
    {
     "data": {
      "text/plain": [
       "cellular     0.634714\n",
       "telephone    0.365286\n",
       "Name: contact, dtype: float64"
      ]
     },
     "execution_count": 81,
     "metadata": {},
     "output_type": "execute_result"
    }
   ],
   "source": [
    "#Contact communication type as proportion of the overall number of values\n",
    "df.contact.value_counts()/df.contact.count()"
   ]
  },
  {
   "cell_type": "markdown",
   "metadata": {},
   "source": [
    "More than 63% of all respondents were contacted via cellular phone. There are no entries with unknown type of communication."
   ]
  },
  {
   "cell_type": "code",
   "execution_count": 82,
   "metadata": {},
   "outputs": [
    {
     "data": {
      "text/plain": [
       "may    0.334345\n",
       "jul    0.174106\n",
       "aug    0.149990\n",
       "jun    0.129153\n",
       "nov    0.099573\n",
       "apr    0.063896\n",
       "oct    0.017413\n",
       "sep    0.013843\n",
       "mar    0.013260\n",
       "dec    0.004420\n",
       "Name: month, dtype: float64"
      ]
     },
     "execution_count": 82,
     "metadata": {},
     "output_type": "execute_result"
    }
   ],
   "source": [
    "#Last contact month as proportion of the overall number of values\n",
    "df.month.value_counts()/df.month.count()"
   ]
  },
  {
   "cell_type": "markdown",
   "metadata": {},
   "source": [
    "Most of the respondents were contacted during the summer months, with more than 30% of all contacts happening in May. The month of the contact can have a substantial impact on the desire to subscribe for a deposit (e.g., many people may be receiving salary bonuses at the end of the calendar year, which could be a good time to contact them about the deposit). This skewness of the previous campaigns' efforts towards summer may significantly impact the outcomes of the campaigns."
   ]
  },
  {
   "cell_type": "code",
   "execution_count": 83,
   "metadata": {},
   "outputs": [
    {
     "data": {
      "text/plain": [
       "thu    0.209297\n",
       "mon    0.206722\n",
       "wed    0.197542\n",
       "tue    0.196377\n",
       "fri    0.190062\n",
       "Name: day_of_week, dtype: float64"
      ]
     },
     "execution_count": 83,
     "metadata": {},
     "output_type": "execute_result"
    }
   ],
   "source": [
    "#Last contact day as proportion of the overall number of values\n",
    "df.day_of_week.value_counts()/df.day_of_week.count()"
   ]
  },
  {
   "cell_type": "markdown",
   "metadata": {},
   "source": [
    "The days of the work week of the previous contact are distributed almost evenly, so there is no obvious skewness towards a particular day or days. It would be interesting to check if some days are more effective for telemarketing campaigns and if the resources of the telemarketers should be re-distributed. We'll check this separately."
   ]
  },
  {
   "cell_type": "code",
   "execution_count": 84,
   "metadata": {},
   "outputs": [
    {
     "data": {
      "text/plain": [
       "nonexistent    0.863391\n",
       "failure        0.103264\n",
       "success        0.033345\n",
       "Name: poutcome, dtype: float64"
      ]
     },
     "execution_count": 84,
     "metadata": {},
     "output_type": "execute_result"
    }
   ],
   "source": [
    "#Outcome of the previous campaign as proportion of the overall number of values\n",
    "df.poutcome.value_counts()/df.poutcome.count()"
   ]
  },
  {
   "cell_type": "markdown",
   "metadata": {},
   "source": [
    "More than 86% of respondents were never covered by the previous marketing campaigns. Hence, it may make sense to divide the respondents into new customers (with 'nonexistent' status) and existing customers ('failure' or 'success' status). Within the existing customers' subset, it may be interesting to look at the predictors of the campaign success for the previously failed and successful campaigns separately - the existing customers may be more willing to open a deposit than someone who never heard of the bank before."
   ]
  },
  {
   "cell_type": "code",
   "execution_count": 85,
   "metadata": {},
   "outputs": [
    {
     "data": {
      "text/plain": [
       "no     0.887337\n",
       "yes    0.112663\n",
       "Name: y, dtype: float64"
      ]
     },
     "execution_count": 85,
     "metadata": {},
     "output_type": "execute_result"
    }
   ],
   "source": [
    "#Outcome of the current campaign as proportion of the overall number of values\n",
    "df.y.value_counts()/df.y.count()"
   ]
  },
  {
   "cell_type": "markdown",
   "metadata": {},
   "source": [
    "Only ~11% of the respondents to the current campaign have actually subscribed for a deposit, which makes the overall dataset highly imbalanced and requires application of special methods to compensate for it. "
   ]
  },
  {
   "cell_type": "markdown",
   "metadata": {},
   "source": [
    "### Numerical Data\n",
    "\n",
    "Next, let's look at the distributions of the numerical variables:"
   ]
  },
  {
   "cell_type": "code",
   "execution_count": 86,
   "metadata": {},
   "outputs": [
    {
     "data": {
      "image/png": "[encoded data removed]",
      "text/plain": [
       "<matplotlib.figure.Figure at 0x116e02f98>"
      ]
     },
     "metadata": {},
     "output_type": "display_data"
    }
   ],
   "source": [
    "# Histogram grid\n",
    "df.hist(figsize=(10,10), xrot=-45)\n",
    "\n",
    "# Clear the text \"residue\"\n",
    "plt.show()"
   ]
  },
  {
   "cell_type": "code",
   "execution_count": 87,
   "metadata": {},
   "outputs": [
    {
     "data": {
      "text/html": [
       "<div>\n",
       "<style>\n",
       "    .dataframe thead tr:only-child th {\n",
       "        text-align: right;\n",
       "    }\n",
       "\n",
       "    .dataframe thead th {\n",
       "        text-align: left;\n",
       "    }\n",
       "\n",
       "    .dataframe tbody tr th {\n",
       "        vertical-align: top;\n",
       "    }\n",
       "</style>\n",
       "<table border=\"1\" class=\"dataframe\">\n",
       "  <thead>\n",
       "    <tr style=\"text-align: right;\">\n",
       "      <th></th>\n",
       "      <th>age</th>\n",
       "      <th>duration</th>\n",
       "      <th>campaign</th>\n",
       "      <th>pdays</th>\n",
       "      <th>previous</th>\n",
       "      <th>emp.var.rate</th>\n",
       "      <th>cons.price.idx</th>\n",
       "      <th>cons.conf.idx</th>\n",
       "      <th>euribor3m</th>\n",
       "      <th>nr.employed</th>\n",
       "    </tr>\n",
       "  </thead>\n",
       "  <tbody>\n",
       "    <tr>\n",
       "      <th>count</th>\n",
       "      <td>41176.00000</td>\n",
       "      <td>41176.000000</td>\n",
       "      <td>41176.000000</td>\n",
       "      <td>41176.000000</td>\n",
       "      <td>41176.000000</td>\n",
       "      <td>41176.000000</td>\n",
       "      <td>41176.000000</td>\n",
       "      <td>41176.000000</td>\n",
       "      <td>41176.000000</td>\n",
       "      <td>41176.000000</td>\n",
       "    </tr>\n",
       "    <tr>\n",
       "      <th>mean</th>\n",
       "      <td>40.02380</td>\n",
       "      <td>258.315815</td>\n",
       "      <td>2.567879</td>\n",
       "      <td>962.464810</td>\n",
       "      <td>0.173013</td>\n",
       "      <td>0.081922</td>\n",
       "      <td>93.575720</td>\n",
       "      <td>-40.502863</td>\n",
       "      <td>3.621293</td>\n",
       "      <td>5167.034870</td>\n",
       "    </tr>\n",
       "    <tr>\n",
       "      <th>std</th>\n",
       "      <td>10.42068</td>\n",
       "      <td>259.305321</td>\n",
       "      <td>2.770318</td>\n",
       "      <td>186.937102</td>\n",
       "      <td>0.494964</td>\n",
       "      <td>1.570883</td>\n",
       "      <td>0.578839</td>\n",
       "      <td>4.627860</td>\n",
       "      <td>1.734437</td>\n",
       "      <td>72.251364</td>\n",
       "    </tr>\n",
       "    <tr>\n",
       "      <th>min</th>\n",
       "      <td>17.00000</td>\n",
       "      <td>0.000000</td>\n",
       "      <td>1.000000</td>\n",
       "      <td>0.000000</td>\n",
       "      <td>0.000000</td>\n",
       "      <td>-3.400000</td>\n",
       "      <td>92.201000</td>\n",
       "      <td>-50.800000</td>\n",
       "      <td>0.634000</td>\n",
       "      <td>4963.600000</td>\n",
       "    </tr>\n",
       "    <tr>\n",
       "      <th>25%</th>\n",
       "      <td>32.00000</td>\n",
       "      <td>102.000000</td>\n",
       "      <td>1.000000</td>\n",
       "      <td>999.000000</td>\n",
       "      <td>0.000000</td>\n",
       "      <td>-1.800000</td>\n",
       "      <td>93.075000</td>\n",
       "      <td>-42.700000</td>\n",
       "      <td>1.344000</td>\n",
       "      <td>5099.100000</td>\n",
       "    </tr>\n",
       "    <tr>\n",
       "      <th>50%</th>\n",
       "      <td>38.00000</td>\n",
       "      <td>180.000000</td>\n",
       "      <td>2.000000</td>\n",
       "      <td>999.000000</td>\n",
       "      <td>0.000000</td>\n",
       "      <td>1.100000</td>\n",
       "      <td>93.749000</td>\n",
       "      <td>-41.800000</td>\n",
       "      <td>4.857000</td>\n",
       "      <td>5191.000000</td>\n",
       "    </tr>\n",
       "    <tr>\n",
       "      <th>75%</th>\n",
       "      <td>47.00000</td>\n",
       "      <td>319.000000</td>\n",
       "      <td>3.000000</td>\n",
       "      <td>999.000000</td>\n",
       "      <td>0.000000</td>\n",
       "      <td>1.400000</td>\n",
       "      <td>93.994000</td>\n",
       "      <td>-36.400000</td>\n",
       "      <td>4.961000</td>\n",
       "      <td>5228.100000</td>\n",
       "    </tr>\n",
       "    <tr>\n",
       "      <th>max</th>\n",
       "      <td>98.00000</td>\n",
       "      <td>4918.000000</td>\n",
       "      <td>56.000000</td>\n",
       "      <td>999.000000</td>\n",
       "      <td>7.000000</td>\n",
       "      <td>1.400000</td>\n",
       "      <td>94.767000</td>\n",
       "      <td>-26.900000</td>\n",
       "      <td>5.045000</td>\n",
       "      <td>5228.100000</td>\n",
       "    </tr>\n",
       "  </tbody>\n",
       "</table>\n",
       "</div>"
      ],
      "text/plain": [
       "               age      duration      campaign         pdays      previous  \\\n",
       "count  41176.00000  41176.000000  41176.000000  41176.000000  41176.000000   \n",
       "mean      40.02380    258.315815      2.567879    962.464810      0.173013   \n",
       "std       10.42068    259.305321      2.770318    186.937102      0.494964   \n",
       "min       17.00000      0.000000      1.000000      0.000000      0.000000   \n",
       "25%       32.00000    102.000000      1.000000    999.000000      0.000000   \n",
       "50%       38.00000    180.000000      2.000000    999.000000      0.000000   \n",
       "75%       47.00000    319.000000      3.000000    999.000000      0.000000   \n",
       "max       98.00000   4918.000000     56.000000    999.000000      7.000000   \n",
       "\n",
       "       emp.var.rate  cons.price.idx  cons.conf.idx     euribor3m   nr.employed  \n",
       "count  41176.000000    41176.000000   41176.000000  41176.000000  41176.000000  \n",
       "mean       0.081922       93.575720     -40.502863      3.621293   5167.034870  \n",
       "std        1.570883        0.578839       4.627860      1.734437     72.251364  \n",
       "min       -3.400000       92.201000     -50.800000      0.634000   4963.600000  \n",
       "25%       -1.800000       93.075000     -42.700000      1.344000   5099.100000  \n",
       "50%        1.100000       93.749000     -41.800000      4.857000   5191.000000  \n",
       "75%        1.400000       93.994000     -36.400000      4.961000   5228.100000  \n",
       "max        1.400000       94.767000     -26.900000      5.045000   5228.100000  "
      ]
     },
     "execution_count": 87,
     "metadata": {},
     "output_type": "execute_result"
    }
   ],
   "source": [
    "#Summary of numeric features\n",
    "df.describe()"
   ]
  },
  {
   "cell_type": "markdown",
   "metadata": {},
   "source": [
    "There are no obvious errors in the data. There are some prominent peaks in the distributions of the economic indicators, but it's not clear what was causing those peaks. There is a high likelihood that those variables will not have high predictive power for our target variable.\n",
    "\n",
    "The number of days since the previous campaign is highly skewed because the number of days for the respondents not contacted previously are stated as 999. This variable should be transformed (e.g., the new and existing customers should be separated into different categories) to become more informative. The variables 'campaign' and 'previous' are heavily skewed towards zero, since the majority of the respondents were never contacted with the campaign before. The variable 'duration' should be dropped before we start building any predictive models, as mentioned before."
   ]
  },
  {
   "cell_type": "markdown",
   "metadata": {},
   "source": [
    "## Data Cleaning and Feature Engineering"
   ]
  },
  {
   "cell_type": "markdown",
   "metadata": {},
   "source": [
    "To prepare the dataset for building a predictive model, we'll remove the uknown values, reduntant variables and combine the sparse classes into more general categories. Let's start with dropping the 'unknown' levels and redundant variables:"
   ]
  },
  {
   "cell_type": "code",
   "execution_count": 88,
   "metadata": {},
   "outputs": [
    {
     "name": "stdout",
     "output_type": "stream",
     "text": [
      "<class 'pandas.core.frame.DataFrame'>\n",
      "Int64Index: 38216 entries, 0 to 41187\n",
      "Data columns (total 19 columns):\n",
      "age               38216 non-null int64\n",
      "job               38216 non-null category\n",
      "marital           38216 non-null category\n",
      "education         38216 non-null category\n",
      "housing           38216 non-null category\n",
      "loan              38216 non-null category\n",
      "contact           38216 non-null category\n",
      "month             38216 non-null category\n",
      "day_of_week       38216 non-null category\n",
      "campaign          38216 non-null int64\n",
      "pdays             38216 non-null int64\n",
      "previous          38216 non-null int64\n",
      "poutcome          38216 non-null category\n",
      "emp.var.rate      38216 non-null float64\n",
      "cons.price.idx    38216 non-null float64\n",
      "cons.conf.idx     38216 non-null float64\n",
      "euribor3m         38216 non-null float64\n",
      "nr.employed       38216 non-null float64\n",
      "y                 38216 non-null category\n",
      "dtypes: category(10), float64(5), int64(4)\n",
      "memory usage: 3.3 MB\n"
     ]
    }
   ],
   "source": [
    "df_cleaned = df\n",
    "\n",
    "#Dropping the unknown job level\n",
    "df_cleaned = df_cleaned[df_cleaned.job != 'unknown']\n",
    "\n",
    "#Dropping the unknown marital status\n",
    "df_cleaned = df_cleaned[df_cleaned.marital != 'unknown']\n",
    "\n",
    "#Dropping the unknown and illiterate education level\n",
    "df_cleaned = df_cleaned[df_cleaned.education != 'unknown']\n",
    "df_cleaned = df_cleaned[df_cleaned.education != 'illiterate']\n",
    "\n",
    "#Deleting the 'default' column\n",
    "del df_cleaned['default']\n",
    "\n",
    "#Deleting the 'duration' column\n",
    "del df_cleaned['duration']\n",
    "\n",
    "#Dropping the unknown housing loan status\n",
    "df_cleaned = df_cleaned[df_cleaned.housing != 'unknown']\n",
    "\n",
    "#Dropping the unknown personal loan status\n",
    "df_cleaned = df_cleaned[df_cleaned.loan != 'unknown']\n",
    "\n",
    "df_cleaned.info()"
   ]
  },
  {
   "cell_type": "markdown",
   "metadata": {},
   "source": [
    "Next, let's combine sparse categories:"
   ]
  },
  {
   "cell_type": "code",
   "execution_count": 89,
   "metadata": {
    "collapsed": true
   },
   "outputs": [],
   "source": [
    "#Combining entrepreneurs and self-employed into self-employed\n",
    "df_cleaned.job.replace(['entrepreneur', 'self-employed'], 'self-employed', inplace=True)\n",
    "\n",
    "#Combining administrative and management jobs into admin_management\n",
    "df_cleaned.job.replace(['admin.', 'management'], 'administration_management', inplace=True)\n",
    "\n",
    "#Combining blue-collar and tecnician jobs into blue-collar\n",
    "df_cleaned.job.replace(['blue-collar', 'technician'], 'blue-collar', inplace=True)\n",
    "\n",
    "#Combining retired and unemployed into no_active_income\n",
    "df_cleaned.job.replace(['retired', 'unemployed'], 'no_active_income', inplace=True)\n",
    "\n",
    "#Combining services and housemaid into services\n",
    "df_cleaned.job.replace(['services', 'housemaid'], 'services', inplace=True)\n",
    "\n",
    "#Combining single and divorced into single\n",
    "df_cleaned.marital.replace(['single', 'divorced'], 'single', inplace=True)\n",
    "\n",
    "#Combining basic school degrees\n",
    "df_cleaned.education.replace(['basic.9y', 'basic.6y', 'basic.4y'], 'basic_school', inplace=True)"
   ]
  },
  {
   "cell_type": "markdown",
   "metadata": {},
   "source": [
    "We have 2 variables that define if a respondent is a new or existing customer - 'poutcome' (previously contacted by a marketing campaign) and 'pdays' (days since previous marketing contact). For the new customer, 'poutcome' would have a value of 'nonexistent' and 'pdays' would have a value of '999'. Let's see if we have the same number of respondents for each of these levels:"
   ]
  },
  {
   "cell_type": "code",
   "execution_count": 90,
   "metadata": {},
   "outputs": [
    {
     "name": "stdout",
     "output_type": "stream",
     "text": [
      "33039 36851\n"
     ]
    }
   ],
   "source": [
    "#Comparing number of entries for 'poutcome' and 'pdays'\n",
    "a = df_cleaned.poutcome.value_counts()\n",
    "b = df_cleaned.pdays.value_counts()\n",
    "print(a['nonexistent'], b[999])"
   ]
  },
  {
   "cell_type": "markdown",
   "metadata": {},
   "source": [
    "The numbers vary significantly, while logically they should be the same. Let's check another variable, 'previous', which contains the number of customer contacts performed before the current campaign. A zero value would indicate the new customers."
   ]
  },
  {
   "cell_type": "code",
   "execution_count": 91,
   "metadata": {},
   "outputs": [
    {
     "name": "stdout",
     "output_type": "stream",
     "text": [
      "33039\n"
     ]
    }
   ],
   "source": [
    "c = df_cleaned.previous.value_counts()\n",
    "print(c[0])"
   ]
  },
  {
   "cell_type": "markdown",
   "metadata": {},
   "source": [
    "The number of new customers in 'previous' matches the 'poutcome' variable exactly. Now, let's check if the 'pdays' variable has the '999' value for any levels of the 'poutcome' variable other than 'nonexistent':"
   ]
  },
  {
   "cell_type": "code",
   "execution_count": 92,
   "metadata": {},
   "outputs": [
    {
     "data": {
      "text/plain": [
       "failure        3812\n",
       "success           0\n",
       "nonexistent       0\n",
       "Name: poutcome, dtype: int64"
      ]
     },
     "execution_count": 92,
     "metadata": {},
     "output_type": "execute_result"
    }
   ],
   "source": [
    "#Filtering the 'poutcome' and 'pdays' variables\n",
    "not_matching = df_cleaned.loc[( (df_cleaned['pdays'] == 999) & (df['poutcome'] != 'nonexistent') )]\n",
    "\n",
    "#Counting the values\n",
    "not_matching.poutcome.value_counts()"
   ]
  },
  {
   "cell_type": "markdown",
   "metadata": {},
   "source": [
    "This is exactly the difference in the counts of values between the variables 'poutcome' and 'pdays', so it looks like 3,812 entries of the variable 'pdays' are mistakenly labeled with '999'. Now, let's check if the distributions of several other numeric variables are similar for the 'failure' category of the 'poutcome' variable to decide how to deal with these 3,812 entries:"
   ]
  },
  {
   "cell_type": "code",
   "execution_count": 93,
   "metadata": {},
   "outputs": [
    {
     "data": {
      "image/png": "[encoded data removed]",
      "text/plain": [
       "<matplotlib.figure.Figure at 0x112e6c3c8>"
      ]
     },
     "metadata": {},
     "output_type": "display_data"
    },
    {
     "data": {
      "image/png": "[encoded data removed]",
      "text/plain": [
       "<matplotlib.figure.Figure at 0x112cb9898>"
      ]
     },
     "metadata": {},
     "output_type": "display_data"
    }
   ],
   "source": [
    "#Filtering for the rows that have 'poutcome' equal to 'failure' and 'pdays' equal to '999'\n",
    "fail_999 = df_cleaned.loc[( (df_cleaned['pdays'] == 999) & (df['poutcome'] == 'failure') )]\n",
    "\n",
    "#Filtering for 'age' and 'nr.employed' columns only\n",
    "fail_999 = fail_999.loc[:, ['age', 'nr.employed', 'cons.price.idx']]\n",
    "\n",
    "#Filtering for the rows that have 'poutcome' equal to 'failure' and 'pdays' NOT equal to '999'\n",
    "fail_no999 = df_cleaned.loc[( (df_cleaned['pdays'] != 999) & (df['poutcome'] == 'failure') )]\n",
    "\n",
    "#Filtering for 'age', 'nr.employed' and 'cons.price.idx' columns only\n",
    "fail_no999 = fail_no999.loc[:, ['age', 'nr.employed', 'cons.price.idx']]\n",
    "\n",
    "#Plotting histograms\n",
    "fail_999.hist()\n",
    "fail_no999.hist()\n",
    "plt.show()"
   ]
  },
  {
   "cell_type": "markdown",
   "metadata": {},
   "source": [
    "Variable 'age' seems to be distributed roughly equally for both '999' and non-'999' marked levels of 'poutcome', but the distributions of 'nr.employed' and 'cons.price.idx' differ substantially. Taking that into consideration, we will consider the 'pdays' level of '999' for the rows that have 'poutcome' level of 'failure' to be missing variables. Let's label them as such:"
   ]
  },
  {
   "cell_type": "code",
   "execution_count": 94,
   "metadata": {},
   "outputs": [
    {
     "name": "stdout",
     "output_type": "stream",
     "text": [
      "<class 'pandas.core.frame.DataFrame'>\n",
      "Int64Index: 38216 entries, 0 to 41187\n",
      "Data columns (total 19 columns):\n",
      "age               38216 non-null int64\n",
      "job               38216 non-null object\n",
      "marital           38216 non-null category\n",
      "education         38216 non-null object\n",
      "housing           38216 non-null category\n",
      "loan              38216 non-null category\n",
      "contact           38216 non-null category\n",
      "month             38216 non-null category\n",
      "day_of_week       38216 non-null category\n",
      "campaign          38216 non-null int64\n",
      "pdays             34404 non-null float64\n",
      "previous          38216 non-null int64\n",
      "poutcome          38216 non-null category\n",
      "emp.var.rate      38216 non-null float64\n",
      "cons.price.idx    38216 non-null float64\n",
      "cons.conf.idx     38216 non-null float64\n",
      "euribor3m         38216 non-null float64\n",
      "nr.employed       38216 non-null float64\n",
      "y                 38216 non-null category\n",
      "dtypes: category(8), float64(6), int64(3), object(2)\n",
      "memory usage: 5.0+ MB\n"
     ]
    }
   ],
   "source": [
    "#Getting the positions of the mistakenly labeled 'pdays'\n",
    "ind_999 = df_cleaned.loc[(df_cleaned['pdays'] == 999) & (df['poutcome'] != 'nonexistent')]['pdays'].index.values\n",
    "\n",
    "#Assigning NaNs instead of '999'\n",
    "df_cleaned.loc[ind_999, 'pdays'] = np.nan\n",
    "\n",
    "#Checking if the NaNs were assigned correctly\n",
    "df_cleaned.info()"
   ]
  },
  {
   "cell_type": "markdown",
   "metadata": {},
   "source": [
    "Exactly 3,812 instances of 'pdays' are labeled as NaN, which was the goal. Since it's ~10% of data, we can drop the missing values for now, as the remaining data will suffice to do further analysis."
   ]
  },
  {
   "cell_type": "code",
   "execution_count": 95,
   "metadata": {},
   "outputs": [
    {
     "name": "stdout",
     "output_type": "stream",
     "text": [
      "<class 'pandas.core.frame.DataFrame'>\n",
      "Int64Index: 34404 entries, 0 to 41186\n",
      "Data columns (total 19 columns):\n",
      "age               34404 non-null int64\n",
      "job               34404 non-null object\n",
      "marital           34404 non-null category\n",
      "education         34404 non-null object\n",
      "housing           34404 non-null category\n",
      "loan              34404 non-null category\n",
      "contact           34404 non-null category\n",
      "month             34404 non-null category\n",
      "day_of_week       34404 non-null category\n",
      "campaign          34404 non-null int64\n",
      "pdays             34404 non-null float64\n",
      "previous          34404 non-null int64\n",
      "poutcome          34404 non-null category\n",
      "emp.var.rate      34404 non-null float64\n",
      "cons.price.idx    34404 non-null float64\n",
      "cons.conf.idx     34404 non-null float64\n",
      "euribor3m         34404 non-null float64\n",
      "nr.employed       34404 non-null float64\n",
      "y                 34404 non-null category\n",
      "dtypes: category(8), float64(6), int64(3), object(2)\n",
      "memory usage: 3.4+ MB\n"
     ]
    }
   ],
   "source": [
    "#Dropping NAs from the dataset\n",
    "df_cleaned = df_cleaned.dropna()\n",
    "df_cleaned.info()"
   ]
  },
  {
   "cell_type": "markdown",
   "metadata": {},
   "source": [
    "## Statistical analysis\n",
    "\n",
    "First, let's look at how the numeric variables in the dataset correlate:"
   ]
  },
  {
   "cell_type": "code",
   "execution_count": 96,
   "metadata": {},
   "outputs": [
    {
     "data": {
      "image/png": "[encoded data removed]",
      "text/plain": [
       "<matplotlib.figure.Figure at 0x107e05668>"
      ]
     },
     "metadata": {},
     "output_type": "display_data"
    }
   ],
   "source": [
    "#Calculate correlations between numeric features\n",
    "correlations = df_cleaned.corr()\n",
    "#Make the figsize 7 x 6\n",
    "plt.figure(figsize=(7,6))\n",
    "#Plot heatmap of correlations\n",
    "_ = sns.heatmap(correlations, cmap=\"Greens\")"
   ]
  },
  {
   "cell_type": "markdown",
   "metadata": {},
   "source": [
    "As can be seen, the economic indicators strongly correlate with each other. Additionally, the 'previous' and 'pdays' variables have a strong negative correlation, as expected, since the largest value of 'pdays' (999) corresponds to the smallest value of 'previous' (0).\n",
    "\n",
    "If the strong correlation between the above variables is statistically significant, we may group or drop some of them, as having multiple strongly correlated variables in our prediction model will not substantially increase the accuracy of our model.\n",
    "\n",
    "Let's test the statistical significance of the strongly correlated variables representing the state of economy, i.e. of the below pairs using permutation:\n",
    "\n",
    "- 'emp.var.rate' - 'cons.price.idx'\n",
    "- 'emp.var.rate' - 'euribor3m'\n",
    "- 'emp.var.rate' - 'nr.employed'\n",
    "- 'cons.price.idx' - 'euribor3m'\n",
    "- 'cons.price.idx' - 'nr.employed'\n",
    "- 'euribor3m' - 'nr.employed'"
   ]
  },
  {
   "cell_type": "code",
   "execution_count": 97,
   "metadata": {},
   "outputs": [
    {
     "data": {
      "text/plain": [
       "0.76525912324330025"
      ]
     },
     "execution_count": 97,
     "metadata": {},
     "output_type": "execute_result"
    }
   ],
   "source": [
    "#Defining the permutation function\n",
    "def perm_sample(data):\n",
    "\n",
    "    #Doing the permutation\n",
    "    perm_data = np.random.permutation(data)\n",
    "\n",
    "    return perm_data\n",
    "\n",
    "#Defining a function to generate permuted correlation coefficients\n",
    "def calculate_perm_corr(data1, data2, size=1):\n",
    "\n",
    "    #Empty array\n",
    "    perm_replicates = np.empty(size)\n",
    "\n",
    "    for i in range(size):\n",
    "        #Generating permutation samples\n",
    "        perm_data1 = perm_sample(data1)\n",
    "        perm_data2 =  perm_sample(data2)\n",
    "\n",
    "        #Calculating the desired function\n",
    "        perm_replicates[i] = np.corrcoef(perm_data1, perm_data2)[0,1]\n",
    "\n",
    "    return perm_replicates\n",
    "\n",
    "#Saving 'emp.var.rate' and 'cons.price.idx' as separate variables\n",
    "emp_var = df_cleaned['emp.var.rate']\n",
    "cons_price = df_cleaned['cons.price.idx'] \n",
    "\n",
    "#Calculating the correlation coefficient\n",
    "r_emp_var_cons_price = np.corrcoef(emp_var, cons_price)[0,1]\n",
    "r_emp_var_cons_price"
   ]
  },
  {
   "cell_type": "code",
   "execution_count": 98,
   "metadata": {},
   "outputs": [
    {
     "data": {
      "text/plain": [
       "0.0"
      ]
     },
     "execution_count": 98,
     "metadata": {},
     "output_type": "execute_result"
    }
   ],
   "source": [
    "#Calculating the permuted coefficients for 'emp.var.rate' and 'cons.price.idx'\n",
    "permuted_corr_coef = calculate_perm_corr(emp_var, cons_price, size=10000)\n",
    "\n",
    "#Calculating the p-value for 'emp.var.rate' and 'cons.price.idx'\n",
    "p = np.sum(permuted_corr_coef >= r_emp_var_cons_price) / len(permuted_corr_coef)\n",
    "p"
   ]
  },
  {
   "cell_type": "code",
   "execution_count": 99,
   "metadata": {},
   "outputs": [
    {
     "data": {
      "text/plain": [
       "0.97326701970334073"
      ]
     },
     "execution_count": 99,
     "metadata": {},
     "output_type": "execute_result"
    }
   ],
   "source": [
    "#Saving 'euribor3m' as a separate variable\n",
    "euribor = df_cleaned['euribor3m'] \n",
    "\n",
    "#Calculating the correlation coefficient for 'emp.var.rate' and 'euribor3m'\n",
    "r_emp_var_euribor = np.corrcoef(emp_var, euribor)[0,1]\n",
    "r_emp_var_euribor"
   ]
  },
  {
   "cell_type": "code",
   "execution_count": 100,
   "metadata": {},
   "outputs": [
    {
     "data": {
      "text/plain": [
       "0.0"
      ]
     },
     "execution_count": 100,
     "metadata": {},
     "output_type": "execute_result"
    }
   ],
   "source": [
    "#Calculating the permuted coefficients for 'emp.var.rate' and 'euribor3m'\n",
    "permuted_corr_coef = calculate_perm_corr(emp_var, euribor, size=10000)\n",
    "\n",
    "#Calculating the p-value for 'emp.var.rate' and 'euribor3m'\n",
    "p = np.sum(permuted_corr_coef >= r_emp_var_euribor) / len(permuted_corr_coef)\n",
    "p"
   ]
  },
  {
   "cell_type": "code",
   "execution_count": 101,
   "metadata": {},
   "outputs": [
    {
     "data": {
      "text/plain": [
       "0.91133820849660041"
      ]
     },
     "execution_count": 101,
     "metadata": {},
     "output_type": "execute_result"
    }
   ],
   "source": [
    "#Saving 'nr.employed' as a separate variable\n",
    "nr_empl = df_cleaned['nr.employed'] \n",
    "\n",
    "#Calculating the correlation coefficient for 'emp.var.rate' and 'nr.employed'\n",
    "r_emp_var_nr_empl = np.corrcoef(emp_var, nr_empl)[0,1]\n",
    "r_emp_var_nr_empl"
   ]
  },
  {
   "cell_type": "code",
   "execution_count": 102,
   "metadata": {},
   "outputs": [
    {
     "data": {
      "text/plain": [
       "0.0"
      ]
     },
     "execution_count": 102,
     "metadata": {},
     "output_type": "execute_result"
    }
   ],
   "source": [
    "#Calculating the permuted coefficients for 'emp.var.rate' and 'nr.employed'\n",
    "permuted_corr_coef = calculate_perm_corr(emp_var, nr_empl, size=10000)\n",
    "\n",
    "#Calculating the p-value for 'emp.var.rate' and 'nr.employed'\n",
    "p = np.sum(permuted_corr_coef >= r_emp_var_nr_empl) / len(permuted_corr_coef)\n",
    "p"
   ]
  },
  {
   "cell_type": "code",
   "execution_count": 103,
   "metadata": {},
   "outputs": [
    {
     "data": {
      "text/plain": [
       "0.68506099624043726"
      ]
     },
     "execution_count": 103,
     "metadata": {},
     "output_type": "execute_result"
    }
   ],
   "source": [
    "#Calculating the correlation coefficient for 'cons.price.idx' and 'euribor3m'\n",
    "r_cons_price_euribor = np.corrcoef(cons_price, euribor)[0,1]\n",
    "r_cons_price_euribor"
   ]
  },
  {
   "cell_type": "code",
   "execution_count": 104,
   "metadata": {},
   "outputs": [
    {
     "data": {
      "text/plain": [
       "0.0"
      ]
     },
     "execution_count": 104,
     "metadata": {},
     "output_type": "execute_result"
    }
   ],
   "source": [
    "#Calculating the permuted coefficients for 'cons.price.idx' and 'euribor3m'\n",
    "permuted_corr_coef = calculate_perm_corr(cons_price, euribor, size=10000)\n",
    "\n",
    "#Calculating the p-value for 'cons.price.idx' and 'euribor3m'\n",
    "p = np.sum(permuted_corr_coef >= r_cons_price_euribor) / len(permuted_corr_coef)\n",
    "p"
   ]
  },
  {
   "cell_type": "code",
   "execution_count": 105,
   "metadata": {},
   "outputs": [
    {
     "data": {
      "text/plain": [
       "0.52778244815648789"
      ]
     },
     "execution_count": 105,
     "metadata": {},
     "output_type": "execute_result"
    }
   ],
   "source": [
    "#Calculating the correlation coefficient for 'cons.price.idx' and 'nr.employed'\n",
    "r_cons_price_nr_empl = np.corrcoef(cons_price, nr_empl)[0,1]\n",
    "r_cons_price_nr_empl"
   ]
  },
  {
   "cell_type": "code",
   "execution_count": 106,
   "metadata": {},
   "outputs": [
    {
     "data": {
      "text/plain": [
       "0.0"
      ]
     },
     "execution_count": 106,
     "metadata": {},
     "output_type": "execute_result"
    }
   ],
   "source": [
    "#Calculating the permuted coefficients for 'cons.price.idx' and 'nr.employed'\n",
    "permuted_corr_coef = calculate_perm_corr(cons_price, nr_empl, size=10000)\n",
    "\n",
    "#Calculating the p-value for 'cons.price.idx' and 'nr.employed'\n",
    "p = np.sum(permuted_corr_coef >= r_cons_price_nr_empl) / len(permuted_corr_coef)\n",
    "p"
   ]
  },
  {
   "cell_type": "code",
   "execution_count": 107,
   "metadata": {},
   "outputs": [
    {
     "data": {
      "text/plain": [
       "0.94543694957355884"
      ]
     },
     "execution_count": 107,
     "metadata": {},
     "output_type": "execute_result"
    }
   ],
   "source": [
    "#Calculating the correlation coefficient for 'euribor3m' and 'nr.employed'\n",
    "r_euribor_nr_empl = np.corrcoef(euribor, nr_empl)[0,1]\n",
    "r_euribor_nr_empl"
   ]
  },
  {
   "cell_type": "code",
   "execution_count": 108,
   "metadata": {},
   "outputs": [
    {
     "data": {
      "text/plain": [
       "0.0"
      ]
     },
     "execution_count": 108,
     "metadata": {},
     "output_type": "execute_result"
    }
   ],
   "source": [
    "#Calculating the permuted coefficients for 'euribor3m' and 'nr.employed'\n",
    "permuted_corr_coef = calculate_perm_corr(euribor, nr_empl, size=10000)\n",
    "\n",
    "#Calculating the p-value for 'euribor3m' and 'nr.employed'\n",
    "p = np.sum(permuted_corr_coef >= r_euribor_nr_empl) / len(permuted_corr_coef)\n",
    "p"
   ]
  },
  {
   "cell_type": "markdown",
   "metadata": {},
   "source": [
    "As can be seen, all correlations of the above pairs are statistically significant, since the p-values are very close to zero. Hence, we can potentially combine them into one variable that will represent the state of the economy."
   ]
  },
  {
   "cell_type": "markdown",
   "metadata": {},
   "source": [
    "Let's look at the mean age of the dataset and use bootstrapping to see if this mean is significantly different from the mean of the sampling distributin of means drawn from 10,000 bootstrap replicates:"
   ]
  },
  {
   "cell_type": "code",
   "execution_count": 109,
   "metadata": {},
   "outputs": [
    {
     "data": {
      "text/plain": [
       "39.85803976281828"
      ]
     },
     "execution_count": 109,
     "metadata": {},
     "output_type": "execute_result"
    }
   ],
   "source": [
    "#Calculating the mean age of our dataset\n",
    "mean_age = np.mean(df_cleaned['age'])\n",
    "mean_age"
   ]
  },
  {
   "cell_type": "code",
   "execution_count": 110,
   "metadata": {},
   "outputs": [
    {
     "data": {
      "text/plain": [
       "0.49869999999999998"
      ]
     },
     "execution_count": 110,
     "metadata": {},
     "output_type": "execute_result"
    }
   ],
   "source": [
    "#Defining function to draw bootstrap replicates\n",
    "def draw_bs_reps(data, func, size=1):\n",
    "    \n",
    "    # Initialize array of replicates: bs_replicates\n",
    "    bs_replicates = np.empty(size)\n",
    "\n",
    "    # Generate replicates\n",
    "    for i in range(size):\n",
    "        bs_replicates[i] = func(np.random.choice(data, size=len(data)))\n",
    "\n",
    "    return bs_replicates\n",
    "\n",
    "#Setting random seed\n",
    "np.random.seed(42)\n",
    "\n",
    "#Generating 10000 bootstrap replicates with the shifted data\n",
    "bs_replicates = draw_bs_reps(df_cleaned['age'], np.mean, size=10000)\n",
    "\n",
    "#Calculating the p-value for the dataset mean \n",
    "p = np.sum(bs_replicates >= mean_age) / len(bs_replicates)\n",
    "p"
   ]
  },
  {
   "cell_type": "markdown",
   "metadata": {},
   "source": [
    "As we can see, the mean of our dataset is very close to the mean of the sampling distribution of the bootstrapped samples' means, so our dataset represents the overall population well, and there's no skew towards any particular age.\n",
    "\n",
    "Now, let's check if our categorical variables are independent of each other using a chi-square test with a 95% level of confidence. We will need to check the following pairs (it doesn't make much sense to do a chi-square test for days of the week or months, and the dependence/independence of the outcome of the previous campaign should be checked by a more comprehensive method, like logistic regression).\n",
    "\n",
    "- 'job' - 'marital'\n",
    "- 'job' - 'education'\n",
    "- 'job' - 'housing'\n",
    "- 'job' - 'loan'\n",
    "- 'job' - 'contact'\n",
    "- 'marital' - 'education'\n",
    "- 'marital' - 'housing'\n",
    "- 'marital' - 'loan'\n",
    "- 'marital' - 'contact'\n",
    "- 'education' - 'housing'\n",
    "- 'education' - 'loan'\n",
    "- 'education' - 'contact'\n",
    "- 'housing' - 'loan'\n",
    "- 'housing' - 'contact'\n",
    "- 'loan' - 'contact'  \n",
    "\n",
    "To use chi-square test, our dataset must meet the following criteria:\n",
    "\n",
    "- Sampled observations must be independent\n",
    "- Random sampling/assignment should be used\n",
    "- If sampling without replacement, the data should be <10% of population\n",
    "- Each category should contribute to only one cell in the contingency table\n",
    "- Each particular scenario (i.e. cell) should have at least 5 expected cases\n",
    "\n",
    "In the dataset description, there's no information on how the data were collected, so we can only assume that the observations are independent and that the random sampling was used. We will also assume that each category contributes to only one cell in the contingency table. Our dataset is definitely less than 10% of population. Last, we will see if there are scenarios with less than 5 cases.\n",
    "\n",
    "Our null-hypothesis for each pair will be that the variables are independent from each other. The high chi-squared value or low p-value will allow us to reject this null-hypothesis and conclude that the variables are dependent."
   ]
  },
  {
   "cell_type": "code",
   "execution_count": 111,
   "metadata": {},
   "outputs": [
    {
     "data": {
      "text/html": [
       "<div>\n",
       "<style>\n",
       "    .dataframe thead tr:only-child th {\n",
       "        text-align: right;\n",
       "    }\n",
       "\n",
       "    .dataframe thead th {\n",
       "        text-align: left;\n",
       "    }\n",
       "\n",
       "    .dataframe tbody tr th {\n",
       "        vertical-align: top;\n",
       "    }\n",
       "</style>\n",
       "<table border=\"1\" class=\"dataframe\">\n",
       "  <thead>\n",
       "    <tr style=\"text-align: right;\">\n",
       "      <th>education</th>\n",
       "      <th>basic_school</th>\n",
       "      <th>high.school</th>\n",
       "      <th>professional.course</th>\n",
       "      <th>university.degree</th>\n",
       "      <th>All</th>\n",
       "    </tr>\n",
       "    <tr>\n",
       "      <th>job</th>\n",
       "      <th></th>\n",
       "      <th></th>\n",
       "      <th></th>\n",
       "      <th></th>\n",
       "      <th></th>\n",
       "    </tr>\n",
       "  </thead>\n",
       "  <tbody>\n",
       "    <tr>\n",
       "      <th>administration_management</th>\n",
       "      <td>956</td>\n",
       "      <td>3142</td>\n",
       "      <td>384</td>\n",
       "      <td>6890</td>\n",
       "      <td>11372</td>\n",
       "    </tr>\n",
       "    <tr>\n",
       "      <th>blue-collar</th>\n",
       "      <td>6961</td>\n",
       "      <td>1530</td>\n",
       "      <td>3365</td>\n",
       "      <td>1683</td>\n",
       "      <td>13539</td>\n",
       "    </tr>\n",
       "    <tr>\n",
       "      <th>no_active_income</th>\n",
       "      <td>984</td>\n",
       "      <td>470</td>\n",
       "      <td>336</td>\n",
       "      <td>469</td>\n",
       "      <td>2259</td>\n",
       "    </tr>\n",
       "    <tr>\n",
       "      <th>self-employed</th>\n",
       "      <td>669</td>\n",
       "      <td>300</td>\n",
       "      <td>258</td>\n",
       "      <td>1201</td>\n",
       "      <td>2428</td>\n",
       "    </tr>\n",
       "    <tr>\n",
       "      <th>services</th>\n",
       "      <td>1235</td>\n",
       "      <td>2463</td>\n",
       "      <td>250</td>\n",
       "      <td>274</td>\n",
       "      <td>4222</td>\n",
       "    </tr>\n",
       "    <tr>\n",
       "      <th>student</th>\n",
       "      <td>116</td>\n",
       "      <td>289</td>\n",
       "      <td>33</td>\n",
       "      <td>146</td>\n",
       "      <td>584</td>\n",
       "    </tr>\n",
       "    <tr>\n",
       "      <th>All</th>\n",
       "      <td>10921</td>\n",
       "      <td>8194</td>\n",
       "      <td>4626</td>\n",
       "      <td>10663</td>\n",
       "      <td>34404</td>\n",
       "    </tr>\n",
       "  </tbody>\n",
       "</table>\n",
       "</div>"
      ],
      "text/plain": [
       "education                  basic_school  high.school  professional.course  \\\n",
       "job                                                                         \n",
       "administration_management           956         3142                  384   \n",
       "blue-collar                        6961         1530                 3365   \n",
       "no_active_income                    984          470                  336   \n",
       "self-employed                       669          300                  258   \n",
       "services                           1235         2463                  250   \n",
       "student                             116          289                   33   \n",
       "All                               10921         8194                 4626   \n",
       "\n",
       "education                  university.degree    All  \n",
       "job                                                  \n",
       "administration_management               6890  11372  \n",
       "blue-collar                             1683  13539  \n",
       "no_active_income                         469   2259  \n",
       "self-employed                           1201   2428  \n",
       "services                                 274   4222  \n",
       "student                                  146    584  \n",
       "All                                    10663  34404  "
      ]
     },
     "execution_count": 111,
     "metadata": {},
     "output_type": "execute_result"
    }
   ],
   "source": [
    "#Creating the contingency table for comparing 'job' and 'education'\n",
    "contingency_table = pd.crosstab(index=df_cleaned['job'], columns=df_cleaned['education'], margins=True)\n",
    "contingency_table"
   ]
  },
  {
   "cell_type": "code",
   "execution_count": 112,
   "metadata": {},
   "outputs": [
    {
     "data": {
      "text/plain": [
       "(15401.719799238672, 0.0, 24)"
      ]
     },
     "execution_count": 112,
     "metadata": {},
     "output_type": "execute_result"
    }
   ],
   "source": [
    "#Calculating chi-squared and p-value\n",
    "chi2, p, dof, ex =stats.chi2_contingency(contingency_table)\n",
    "chi2, p, dof"
   ]
  },
  {
   "cell_type": "code",
   "execution_count": 113,
   "metadata": {},
   "outputs": [
    {
     "data": {
      "text/html": [
       "<div>\n",
       "<style>\n",
       "    .dataframe thead tr:only-child th {\n",
       "        text-align: right;\n",
       "    }\n",
       "\n",
       "    .dataframe thead th {\n",
       "        text-align: left;\n",
       "    }\n",
       "\n",
       "    .dataframe tbody tr th {\n",
       "        vertical-align: top;\n",
       "    }\n",
       "</style>\n",
       "<table border=\"1\" class=\"dataframe\">\n",
       "  <thead>\n",
       "    <tr style=\"text-align: right;\">\n",
       "      <th>marital</th>\n",
       "      <th>married</th>\n",
       "      <th>single</th>\n",
       "      <th>All</th>\n",
       "    </tr>\n",
       "    <tr>\n",
       "      <th>job</th>\n",
       "      <th></th>\n",
       "      <th></th>\n",
       "      <th></th>\n",
       "    </tr>\n",
       "  </thead>\n",
       "  <tbody>\n",
       "    <tr>\n",
       "      <th>administration_management</th>\n",
       "      <td>6270</td>\n",
       "      <td>5102</td>\n",
       "      <td>11372</td>\n",
       "    </tr>\n",
       "    <tr>\n",
       "      <th>blue-collar</th>\n",
       "      <td>8861</td>\n",
       "      <td>4678</td>\n",
       "      <td>13539</td>\n",
       "    </tr>\n",
       "    <tr>\n",
       "      <th>no_active_income</th>\n",
       "      <td>1560</td>\n",
       "      <td>699</td>\n",
       "      <td>2259</td>\n",
       "    </tr>\n",
       "    <tr>\n",
       "      <th>self-employed</th>\n",
       "      <td>1673</td>\n",
       "      <td>755</td>\n",
       "      <td>2428</td>\n",
       "    </tr>\n",
       "    <tr>\n",
       "      <th>services</th>\n",
       "      <td>2609</td>\n",
       "      <td>1613</td>\n",
       "      <td>4222</td>\n",
       "    </tr>\n",
       "    <tr>\n",
       "      <th>student</th>\n",
       "      <td>35</td>\n",
       "      <td>549</td>\n",
       "      <td>584</td>\n",
       "    </tr>\n",
       "    <tr>\n",
       "      <th>All</th>\n",
       "      <td>21008</td>\n",
       "      <td>13396</td>\n",
       "      <td>34404</td>\n",
       "    </tr>\n",
       "  </tbody>\n",
       "</table>\n",
       "</div>"
      ],
      "text/plain": [
       "marital                    married  single    All\n",
       "job                                              \n",
       "administration_management     6270    5102  11372\n",
       "blue-collar                   8861    4678  13539\n",
       "no_active_income              1560     699   2259\n",
       "self-employed                 1673     755   2428\n",
       "services                      2609    1613   4222\n",
       "student                         35     549    584\n",
       "All                          21008   13396  34404"
      ]
     },
     "execution_count": 113,
     "metadata": {},
     "output_type": "execute_result"
    }
   ],
   "source": [
    "#Creating the contingency table for comparing 'job' and 'marital'\n",
    "contingency_table = pd.crosstab(index=df_cleaned['job'], columns=df_cleaned['marital'], margins=True)\n",
    "contingency_table"
   ]
  },
  {
   "cell_type": "code",
   "execution_count": 114,
   "metadata": {},
   "outputs": [
    {
     "data": {
      "text/plain": [
       "(1146.9072875893796, 4.6703967524795622e-238, 12)"
      ]
     },
     "execution_count": 114,
     "metadata": {},
     "output_type": "execute_result"
    }
   ],
   "source": [
    "#Calculating chi-squared and p-value\n",
    "chi2, p, dof, ex =stats.chi2_contingency(contingency_table)\n",
    "chi2, p, dof"
   ]
  },
  {
   "cell_type": "code",
   "execution_count": 115,
   "metadata": {},
   "outputs": [
    {
     "data": {
      "text/html": [
       "<div>\n",
       "<style>\n",
       "    .dataframe thead tr:only-child th {\n",
       "        text-align: right;\n",
       "    }\n",
       "\n",
       "    .dataframe thead th {\n",
       "        text-align: left;\n",
       "    }\n",
       "\n",
       "    .dataframe tbody tr th {\n",
       "        vertical-align: top;\n",
       "    }\n",
       "</style>\n",
       "<table border=\"1\" class=\"dataframe\">\n",
       "  <thead>\n",
       "    <tr style=\"text-align: right;\">\n",
       "      <th>housing</th>\n",
       "      <th>no</th>\n",
       "      <th>yes</th>\n",
       "      <th>All</th>\n",
       "    </tr>\n",
       "    <tr>\n",
       "      <th>job</th>\n",
       "      <th></th>\n",
       "      <th></th>\n",
       "      <th></th>\n",
       "    </tr>\n",
       "  </thead>\n",
       "  <tbody>\n",
       "    <tr>\n",
       "      <th>administration_management</th>\n",
       "      <td>5297</td>\n",
       "      <td>6075</td>\n",
       "      <td>11372</td>\n",
       "    </tr>\n",
       "    <tr>\n",
       "      <th>blue-collar</th>\n",
       "      <td>6306</td>\n",
       "      <td>7233</td>\n",
       "      <td>13539</td>\n",
       "    </tr>\n",
       "    <tr>\n",
       "      <th>no_active_income</th>\n",
       "      <td>1011</td>\n",
       "      <td>1248</td>\n",
       "      <td>2259</td>\n",
       "    </tr>\n",
       "    <tr>\n",
       "      <th>self-employed</th>\n",
       "      <td>1119</td>\n",
       "      <td>1309</td>\n",
       "      <td>2428</td>\n",
       "    </tr>\n",
       "    <tr>\n",
       "      <th>services</th>\n",
       "      <td>2014</td>\n",
       "      <td>2208</td>\n",
       "      <td>4222</td>\n",
       "    </tr>\n",
       "    <tr>\n",
       "      <th>student</th>\n",
       "      <td>272</td>\n",
       "      <td>312</td>\n",
       "      <td>584</td>\n",
       "    </tr>\n",
       "    <tr>\n",
       "      <th>All</th>\n",
       "      <td>16019</td>\n",
       "      <td>18385</td>\n",
       "      <td>34404</td>\n",
       "    </tr>\n",
       "  </tbody>\n",
       "</table>\n",
       "</div>"
      ],
      "text/plain": [
       "housing                       no    yes    All\n",
       "job                                           \n",
       "administration_management   5297   6075  11372\n",
       "blue-collar                 6306   7233  13539\n",
       "no_active_income            1011   1248   2259\n",
       "self-employed               1119   1309   2428\n",
       "services                    2014   2208   4222\n",
       "student                      272    312    584\n",
       "All                        16019  18385  34404"
      ]
     },
     "execution_count": 115,
     "metadata": {},
     "output_type": "execute_result"
    }
   ],
   "source": [
    "#Creating the contingency table for comparing 'job' and 'housing'\n",
    "contingency_table = pd.crosstab(index=df_cleaned['job'], columns=df_cleaned['housing'], margins=True)\n",
    "contingency_table"
   ]
  },
  {
   "cell_type": "code",
   "execution_count": 116,
   "metadata": {},
   "outputs": [
    {
     "data": {
      "text/plain": [
       "(5.3963517634649607, 0.94341480681562429, 12)"
      ]
     },
     "execution_count": 116,
     "metadata": {},
     "output_type": "execute_result"
    }
   ],
   "source": [
    "#Calculating chi-squared and p-value\n",
    "chi2, p, dof, ex =stats.chi2_contingency(contingency_table)\n",
    "chi2, p, dof"
   ]
  },
  {
   "cell_type": "code",
   "execution_count": 117,
   "metadata": {},
   "outputs": [
    {
     "data": {
      "text/html": [
       "<div>\n",
       "<style>\n",
       "    .dataframe thead tr:only-child th {\n",
       "        text-align: right;\n",
       "    }\n",
       "\n",
       "    .dataframe thead th {\n",
       "        text-align: left;\n",
       "    }\n",
       "\n",
       "    .dataframe tbody tr th {\n",
       "        vertical-align: top;\n",
       "    }\n",
       "</style>\n",
       "<table border=\"1\" class=\"dataframe\">\n",
       "  <thead>\n",
       "    <tr style=\"text-align: right;\">\n",
       "      <th>loan</th>\n",
       "      <th>no</th>\n",
       "      <th>yes</th>\n",
       "      <th>All</th>\n",
       "    </tr>\n",
       "    <tr>\n",
       "      <th>job</th>\n",
       "      <th></th>\n",
       "      <th></th>\n",
       "      <th></th>\n",
       "    </tr>\n",
       "  </thead>\n",
       "  <tbody>\n",
       "    <tr>\n",
       "      <th>administration_management</th>\n",
       "      <td>9480</td>\n",
       "      <td>1892</td>\n",
       "      <td>11372</td>\n",
       "    </tr>\n",
       "    <tr>\n",
       "      <th>blue-collar</th>\n",
       "      <td>11489</td>\n",
       "      <td>2050</td>\n",
       "      <td>13539</td>\n",
       "    </tr>\n",
       "    <tr>\n",
       "      <th>no_active_income</th>\n",
       "      <td>1932</td>\n",
       "      <td>327</td>\n",
       "      <td>2259</td>\n",
       "    </tr>\n",
       "    <tr>\n",
       "      <th>self-employed</th>\n",
       "      <td>2085</td>\n",
       "      <td>343</td>\n",
       "      <td>2428</td>\n",
       "    </tr>\n",
       "    <tr>\n",
       "      <th>services</th>\n",
       "      <td>3571</td>\n",
       "      <td>651</td>\n",
       "      <td>4222</td>\n",
       "    </tr>\n",
       "    <tr>\n",
       "      <th>student</th>\n",
       "      <td>485</td>\n",
       "      <td>99</td>\n",
       "      <td>584</td>\n",
       "    </tr>\n",
       "    <tr>\n",
       "      <th>All</th>\n",
       "      <td>29042</td>\n",
       "      <td>5362</td>\n",
       "      <td>34404</td>\n",
       "    </tr>\n",
       "  </tbody>\n",
       "</table>\n",
       "</div>"
      ],
      "text/plain": [
       "loan                          no   yes    All\n",
       "job                                          \n",
       "administration_management   9480  1892  11372\n",
       "blue-collar                11489  2050  13539\n",
       "no_active_income            1932   327   2259\n",
       "self-employed               2085   343   2428\n",
       "services                    3571   651   4222\n",
       "student                      485    99    584\n",
       "All                        29042  5362  34404"
      ]
     },
     "execution_count": 117,
     "metadata": {},
     "output_type": "execute_result"
    }
   ],
   "source": [
    "#Creating the contingency table for comparing 'job' and 'loan'\n",
    "contingency_table = pd.crosstab(index=df_cleaned['job'], columns=df_cleaned['loan'], margins=True)\n",
    "contingency_table"
   ]
  },
  {
   "cell_type": "code",
   "execution_count": 118,
   "metadata": {},
   "outputs": [
    {
     "data": {
      "text/plain": [
       "(18.552700603242883, 0.099910136295762841, 12)"
      ]
     },
     "execution_count": 118,
     "metadata": {},
     "output_type": "execute_result"
    }
   ],
   "source": [
    "#Calculating chi-squared and p-value\n",
    "chi2, p, dof, ex =stats.chi2_contingency(contingency_table)\n",
    "chi2, p, dof"
   ]
  },
  {
   "cell_type": "code",
   "execution_count": 119,
   "metadata": {},
   "outputs": [
    {
     "data": {
      "text/html": [
       "<div>\n",
       "<style>\n",
       "    .dataframe thead tr:only-child th {\n",
       "        text-align: right;\n",
       "    }\n",
       "\n",
       "    .dataframe thead th {\n",
       "        text-align: left;\n",
       "    }\n",
       "\n",
       "    .dataframe tbody tr th {\n",
       "        vertical-align: top;\n",
       "    }\n",
       "</style>\n",
       "<table border=\"1\" class=\"dataframe\">\n",
       "  <thead>\n",
       "    <tr style=\"text-align: right;\">\n",
       "      <th>contact</th>\n",
       "      <th>cellular</th>\n",
       "      <th>telephone</th>\n",
       "      <th>All</th>\n",
       "    </tr>\n",
       "    <tr>\n",
       "      <th>job</th>\n",
       "      <th></th>\n",
       "      <th></th>\n",
       "      <th></th>\n",
       "    </tr>\n",
       "  </thead>\n",
       "  <tbody>\n",
       "    <tr>\n",
       "      <th>administration_management</th>\n",
       "      <td>7417</td>\n",
       "      <td>3955</td>\n",
       "      <td>11372</td>\n",
       "    </tr>\n",
       "    <tr>\n",
       "      <th>blue-collar</th>\n",
       "      <td>7857</td>\n",
       "      <td>5682</td>\n",
       "      <td>13539</td>\n",
       "    </tr>\n",
       "    <tr>\n",
       "      <th>no_active_income</th>\n",
       "      <td>1460</td>\n",
       "      <td>799</td>\n",
       "      <td>2259</td>\n",
       "    </tr>\n",
       "    <tr>\n",
       "      <th>self-employed</th>\n",
       "      <td>1386</td>\n",
       "      <td>1042</td>\n",
       "      <td>2428</td>\n",
       "    </tr>\n",
       "    <tr>\n",
       "      <th>services</th>\n",
       "      <td>2337</td>\n",
       "      <td>1885</td>\n",
       "      <td>4222</td>\n",
       "    </tr>\n",
       "    <tr>\n",
       "      <th>student</th>\n",
       "      <td>421</td>\n",
       "      <td>163</td>\n",
       "      <td>584</td>\n",
       "    </tr>\n",
       "    <tr>\n",
       "      <th>All</th>\n",
       "      <td>20878</td>\n",
       "      <td>13526</td>\n",
       "      <td>34404</td>\n",
       "    </tr>\n",
       "  </tbody>\n",
       "</table>\n",
       "</div>"
      ],
      "text/plain": [
       "contact                    cellular  telephone    All\n",
       "job                                                  \n",
       "administration_management      7417       3955  11372\n",
       "blue-collar                    7857       5682  13539\n",
       "no_active_income               1460        799   2259\n",
       "self-employed                  1386       1042   2428\n",
       "services                       2337       1885   4222\n",
       "student                         421        163    584\n",
       "All                           20878      13526  34404"
      ]
     },
     "execution_count": 119,
     "metadata": {},
     "output_type": "execute_result"
    }
   ],
   "source": [
    "#Creating the contingency table for comparing 'job' and 'contact'\n",
    "contingency_table = pd.crosstab(index=df_cleaned['job'], columns=df_cleaned['contact'], margins=True)\n",
    "contingency_table"
   ]
  },
  {
   "cell_type": "code",
   "execution_count": 120,
   "metadata": {},
   "outputs": [
    {
     "data": {
      "text/plain": [
       "(248.10847073292709, 3.392524875498881e-46, 12)"
      ]
     },
     "execution_count": 120,
     "metadata": {},
     "output_type": "execute_result"
    }
   ],
   "source": [
    "#Calculating chi-squared and p-value\n",
    "chi2, p, dof, ex =stats.chi2_contingency(contingency_table)\n",
    "chi2, p, dof"
   ]
  },
  {
   "cell_type": "code",
   "execution_count": 121,
   "metadata": {},
   "outputs": [
    {
     "data": {
      "text/html": [
       "<div>\n",
       "<style>\n",
       "    .dataframe thead tr:only-child th {\n",
       "        text-align: right;\n",
       "    }\n",
       "\n",
       "    .dataframe thead th {\n",
       "        text-align: left;\n",
       "    }\n",
       "\n",
       "    .dataframe tbody tr th {\n",
       "        vertical-align: top;\n",
       "    }\n",
       "</style>\n",
       "<table border=\"1\" class=\"dataframe\">\n",
       "  <thead>\n",
       "    <tr style=\"text-align: right;\">\n",
       "      <th>contact</th>\n",
       "      <th>cellular</th>\n",
       "      <th>telephone</th>\n",
       "      <th>All</th>\n",
       "    </tr>\n",
       "    <tr>\n",
       "      <th>job</th>\n",
       "      <th></th>\n",
       "      <th></th>\n",
       "      <th></th>\n",
       "    </tr>\n",
       "  </thead>\n",
       "  <tbody>\n",
       "    <tr>\n",
       "      <th>administration_management</th>\n",
       "      <td>7417</td>\n",
       "      <td>3955</td>\n",
       "      <td>11372</td>\n",
       "    </tr>\n",
       "    <tr>\n",
       "      <th>blue-collar</th>\n",
       "      <td>7857</td>\n",
       "      <td>5682</td>\n",
       "      <td>13539</td>\n",
       "    </tr>\n",
       "    <tr>\n",
       "      <th>no_active_income</th>\n",
       "      <td>1460</td>\n",
       "      <td>799</td>\n",
       "      <td>2259</td>\n",
       "    </tr>\n",
       "    <tr>\n",
       "      <th>self-employed</th>\n",
       "      <td>1386</td>\n",
       "      <td>1042</td>\n",
       "      <td>2428</td>\n",
       "    </tr>\n",
       "    <tr>\n",
       "      <th>services</th>\n",
       "      <td>2337</td>\n",
       "      <td>1885</td>\n",
       "      <td>4222</td>\n",
       "    </tr>\n",
       "    <tr>\n",
       "      <th>student</th>\n",
       "      <td>421</td>\n",
       "      <td>163</td>\n",
       "      <td>584</td>\n",
       "    </tr>\n",
       "    <tr>\n",
       "      <th>All</th>\n",
       "      <td>20878</td>\n",
       "      <td>13526</td>\n",
       "      <td>34404</td>\n",
       "    </tr>\n",
       "  </tbody>\n",
       "</table>\n",
       "</div>"
      ],
      "text/plain": [
       "contact                    cellular  telephone    All\n",
       "job                                                  \n",
       "administration_management      7417       3955  11372\n",
       "blue-collar                    7857       5682  13539\n",
       "no_active_income               1460        799   2259\n",
       "self-employed                  1386       1042   2428\n",
       "services                       2337       1885   4222\n",
       "student                         421        163    584\n",
       "All                           20878      13526  34404"
      ]
     },
     "execution_count": 121,
     "metadata": {},
     "output_type": "execute_result"
    }
   ],
   "source": [
    "#Creating the contingency table for comparing 'job' and 'contact'\n",
    "contingency_table = pd.crosstab(index=df_cleaned['job'], columns=df_cleaned['contact'], margins=True)\n",
    "contingency_table"
   ]
  },
  {
   "cell_type": "code",
   "execution_count": 122,
   "metadata": {},
   "outputs": [
    {
     "data": {
      "text/html": [
       "<div>\n",
       "<style>\n",
       "    .dataframe thead tr:only-child th {\n",
       "        text-align: right;\n",
       "    }\n",
       "\n",
       "    .dataframe thead th {\n",
       "        text-align: left;\n",
       "    }\n",
       "\n",
       "    .dataframe tbody tr th {\n",
       "        vertical-align: top;\n",
       "    }\n",
       "</style>\n",
       "<table border=\"1\" class=\"dataframe\">\n",
       "  <thead>\n",
       "    <tr style=\"text-align: right;\">\n",
       "      <th>education</th>\n",
       "      <th>basic_school</th>\n",
       "      <th>high.school</th>\n",
       "      <th>professional.course</th>\n",
       "      <th>university.degree</th>\n",
       "      <th>All</th>\n",
       "    </tr>\n",
       "    <tr>\n",
       "      <th>marital</th>\n",
       "      <th></th>\n",
       "      <th></th>\n",
       "      <th></th>\n",
       "      <th></th>\n",
       "      <th></th>\n",
       "    </tr>\n",
       "  </thead>\n",
       "  <tbody>\n",
       "    <tr>\n",
       "      <th>divorced</th>\n",
       "      <td>0</td>\n",
       "      <td>0</td>\n",
       "      <td>0</td>\n",
       "      <td>0</td>\n",
       "      <td>0</td>\n",
       "    </tr>\n",
       "    <tr>\n",
       "      <th>married</th>\n",
       "      <td>8043</td>\n",
       "      <td>4504</td>\n",
       "      <td>2823</td>\n",
       "      <td>5638</td>\n",
       "      <td>21008</td>\n",
       "    </tr>\n",
       "    <tr>\n",
       "      <th>single</th>\n",
       "      <td>2878</td>\n",
       "      <td>3690</td>\n",
       "      <td>1803</td>\n",
       "      <td>5025</td>\n",
       "      <td>13396</td>\n",
       "    </tr>\n",
       "    <tr>\n",
       "      <th>unknown</th>\n",
       "      <td>0</td>\n",
       "      <td>0</td>\n",
       "      <td>0</td>\n",
       "      <td>0</td>\n",
       "      <td>0</td>\n",
       "    </tr>\n",
       "    <tr>\n",
       "      <th>All</th>\n",
       "      <td>10921</td>\n",
       "      <td>8194</td>\n",
       "      <td>4626</td>\n",
       "      <td>10663</td>\n",
       "      <td>34404</td>\n",
       "    </tr>\n",
       "  </tbody>\n",
       "</table>\n",
       "</div>"
      ],
      "text/plain": [
       "education  basic_school  high.school  professional.course  university.degree  \\\n",
       "marital                                                                        \n",
       "divorced              0            0                    0                  0   \n",
       "married            8043         4504                 2823               5638   \n",
       "single             2878         3690                 1803               5025   \n",
       "unknown               0            0                    0                  0   \n",
       "All               10921         8194                 4626              10663   \n",
       "\n",
       "education    All  \n",
       "marital           \n",
       "divorced       0  \n",
       "married    21008  \n",
       "single     13396  \n",
       "unknown        0  \n",
       "All        34404  "
      ]
     },
     "execution_count": 122,
     "metadata": {},
     "output_type": "execute_result"
    }
   ],
   "source": [
    "#Creating the contingency table for comparing'marital' and 'education'\n",
    "contingency_table = pd.crosstab(index=df_cleaned['marital'], columns=df_cleaned['education'], margins=True)\n",
    "contingency_table"
   ]
  },
  {
   "cell_type": "code",
   "execution_count": 123,
   "metadata": {},
   "outputs": [
    {
     "data": {
      "text/plain": [
       "married     21008\n",
       "single      13396\n",
       "unknown         0\n",
       "divorced        0\n",
       "Name: marital, dtype: int64"
      ]
     },
     "execution_count": 123,
     "metadata": {},
     "output_type": "execute_result"
    }
   ],
   "source": [
    "df_cleaned.marital.value_counts()"
   ]
  },
  {
   "cell_type": "code",
   "execution_count": 124,
   "metadata": {
    "collapsed": true
   },
   "outputs": [],
   "source": [
    "#df_cleaned = df_cleaned[df_cleaned.marital == ['married', 'single']]"
   ]
  },
  {
   "cell_type": "code",
   "execution_count": 125,
   "metadata": {},
   "outputs": [
    {
     "data": {
      "text/plain": [
       "married     21008\n",
       "single      13396\n",
       "unknown         0\n",
       "divorced        0\n",
       "Name: marital, dtype: int64"
      ]
     },
     "execution_count": 125,
     "metadata": {},
     "output_type": "execute_result"
    }
   ],
   "source": [
    "df_cleaned.marital.value_counts()"
   ]
  },
  {
   "cell_type": "code",
   "execution_count": 126,
   "metadata": {},
   "outputs": [
    {
     "ename": "ValueError",
     "evalue": "The internally computed table of expected frequencies has a zero element at (0, 0).",
     "output_type": "error",
     "traceback": [
      "\u001b[0;31m---------------------------------------------------------------------------\u001b[0m",
      "\u001b[0;31mValueError\u001b[0m                                Traceback (most recent call last)",
      "\u001b[0;32m<ipython-input-126-f2f400e44d2e>\u001b[0m in \u001b[0;36m<module>\u001b[0;34m()\u001b[0m\n\u001b[1;32m      1\u001b[0m \u001b[0;31m#Calculating chi-squared and p-value\u001b[0m\u001b[0;34m\u001b[0m\u001b[0;34m\u001b[0m\u001b[0m\n\u001b[0;32m----> 2\u001b[0;31m \u001b[0mchi2\u001b[0m\u001b[0;34m,\u001b[0m \u001b[0mp\u001b[0m\u001b[0;34m,\u001b[0m \u001b[0mdof\u001b[0m\u001b[0;34m,\u001b[0m \u001b[0mex\u001b[0m \u001b[0;34m=\u001b[0m\u001b[0mstats\u001b[0m\u001b[0;34m.\u001b[0m\u001b[0mchi2_contingency\u001b[0m\u001b[0;34m(\u001b[0m\u001b[0mcontingency_table\u001b[0m\u001b[0;34m)\u001b[0m\u001b[0;34m\u001b[0m\u001b[0m\n\u001b[0m\u001b[1;32m      3\u001b[0m \u001b[0mchi2\u001b[0m\u001b[0;34m,\u001b[0m \u001b[0mp\u001b[0m\u001b[0;34m,\u001b[0m \u001b[0mdof\u001b[0m\u001b[0;34m\u001b[0m\u001b[0m\n",
      "\u001b[0;32m/Users/abdarabdar/anaconda/lib/python3.5/site-packages/scipy/stats/contingency.py\u001b[0m in \u001b[0;36mchi2_contingency\u001b[0;34m(observed, correction, lambda_)\u001b[0m\n\u001b[1;32m    251\u001b[0m         \u001b[0mzeropos\u001b[0m \u001b[0;34m=\u001b[0m \u001b[0mlist\u001b[0m\u001b[0;34m(\u001b[0m\u001b[0mzip\u001b[0m\u001b[0;34m(\u001b[0m\u001b[0;34m*\u001b[0m\u001b[0mnp\u001b[0m\u001b[0;34m.\u001b[0m\u001b[0mwhere\u001b[0m\u001b[0;34m(\u001b[0m\u001b[0mexpected\u001b[0m \u001b[0;34m==\u001b[0m \u001b[0;36m0\u001b[0m\u001b[0;34m)\u001b[0m\u001b[0;34m)\u001b[0m\u001b[0;34m)\u001b[0m\u001b[0;34m[\u001b[0m\u001b[0;36m0\u001b[0m\u001b[0;34m]\u001b[0m\u001b[0;34m\u001b[0m\u001b[0m\n\u001b[1;32m    252\u001b[0m         raise ValueError(\"The internally computed table of expected \"\n\u001b[0;32m--> 253\u001b[0;31m                          \"frequencies has a zero element at %s.\" % (zeropos,))\n\u001b[0m\u001b[1;32m    254\u001b[0m \u001b[0;34m\u001b[0m\u001b[0m\n\u001b[1;32m    255\u001b[0m     \u001b[0;31m# The degrees of freedom\u001b[0m\u001b[0;34m\u001b[0m\u001b[0;34m\u001b[0m\u001b[0m\n",
      "\u001b[0;31mValueError\u001b[0m: The internally computed table of expected frequencies has a zero element at (0, 0)."
     ]
    }
   ],
   "source": [
    "#Calculating chi-squared and p-value\n",
    "chi2, p, dof, ex =stats.chi2_contingency(contingency_table)\n",
    "chi2, p, dof"
   ]
  },
  {
   "cell_type": "code",
   "execution_count": null,
   "metadata": {},
   "outputs": [],
   "source": [
    "#Creating the contingency table for comparing'marital' and 'education'\n",
    "contingency_table = pd.crosstab(index=df_cleaned['marital'], columns=df_cleaned['housing'], margins=True)\n",
    "contingency_table\n"
   ]
  },
  {
   "cell_type": "markdown",
   "metadata": {},
   "source": [
    "\n",
    "1) chi square\n",
    "\n",
    "2) Is the data analyzed for biases? non responce, selection, etc? some review needed.\n",
    "\n",
    "3) fit logistic regression and analyze the outcome"
   ]
  },
  {
   "cell_type": "markdown",
   "metadata": {},
   "source": [
    "## Imbalanced data classes\n",
    "\n",
    "The data are highly imbalanced, as can be seen from the count of the responce variable's values below. This means that we will need to define a proper metric to evaluate the quality of the predictive models. Additionally, we may want to try to test the model on upsampled/downsampled dataset. Hence, we will use 3 dataset - an imbalanced cleaned one, an upsampled one, and a downsampled one.\n",
    "\n",
    "More on addressing imbalanced data classes:\n",
    "https://machinelearningmastery.com/tactics-to-combat-imbalanced-classes-in-your-machine-learning-dataset/"
   ]
  },
  {
   "cell_type": "code",
   "execution_count": null,
   "metadata": {},
   "outputs": [],
   "source": [
    "#Checking the degree of imbalance\n",
    "df_cleaned.y.value_counts()"
   ]
  },
  {
   "cell_type": "markdown",
   "metadata": {},
   "source": [
    "- separate into never contacted before and existing customers?"
   ]
  },
  {
   "cell_type": "code",
   "execution_count": null,
   "metadata": {
    "collapsed": true
   },
   "outputs": [],
   "source": []
  }
 ],
 "metadata": {
  "kernelspec": {
   "display_name": "Python [default]",
   "language": "python",
   "name": "python3"
  },
  "language_info": {
   "codemirror_mode": {
    "name": "ipython",
    "version": 3
   },
   "file_extension": ".py",
   "mimetype": "text/x-python",
   "name": "python",
   "nbconvert_exporter": "python",
   "pygments_lexer": "ipython3",
   "version": "3.5.3"
  }
 },
 "nbformat": 4,
 "nbformat_minor": 2
}
