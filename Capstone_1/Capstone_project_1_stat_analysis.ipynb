{
 "cells": [
  {
   "cell_type": "markdown",
   "metadata": {},
   "source": [
    "# Capstone Project 1 - Statistical Analysis"
   ]
  },
  {
   "cell_type": "code",
   "execution_count": 126,
   "metadata": {},
   "outputs": [
    {
     "name": "stdout",
     "output_type": "stream",
     "text": [
      "<class 'pandas.core.frame.DataFrame'>\n",
      "RangeIndex: 34404 entries, 0 to 34403\n",
      "Data columns (total 20 columns):\n",
      "Unnamed: 0        34404 non-null int64\n",
      "age               34404 non-null int64\n",
      "job               34404 non-null object\n",
      "marital           34404 non-null object\n",
      "education         34404 non-null object\n",
      "housing           34404 non-null object\n",
      "loan              34404 non-null object\n",
      "contact           34404 non-null object\n",
      "month             34404 non-null object\n",
      "day_of_week       34404 non-null object\n",
      "campaign          34404 non-null int64\n",
      "pdays             34404 non-null float64\n",
      "previous          34404 non-null int64\n",
      "poutcome          34404 non-null object\n",
      "emp.var.rate      34404 non-null float64\n",
      "cons.price.idx    34404 non-null float64\n",
      "cons.conf.idx     34404 non-null float64\n",
      "euribor3m         34404 non-null float64\n",
      "nr.employed       34404 non-null float64\n",
      "y                 34404 non-null object\n",
      "dtypes: float64(6), int64(4), object(10)\n",
      "memory usage: 5.2+ MB\n"
     ]
    }
   ],
   "source": [
    "#Pandas for dataframes\n",
    "import pandas as pd\n",
    "import numpy as np\n",
    "import seaborn as sns\n",
    "import matplotlib.pyplot as plt\n",
    "from scipy import stats\n",
    "\n",
    "df_cleaned = pd.read_csv('cleaned_data.csv')\n",
    "df_cleaned.info()"
   ]
  },
  {
   "cell_type": "markdown",
   "metadata": {},
   "source": [
    "Let's look at how the numerical variables correlate:"
   ]
  },
  {
   "cell_type": "code",
   "execution_count": 127,
   "metadata": {},
   "outputs": [
    {
     "data": {
      "image/png": "[encoded data removed]",
      "text/plain": [
       "<matplotlib.figure.Figure at 0x118976780>"
      ]
     },
     "metadata": {},
     "output_type": "display_data"
    }
   ],
   "source": [
    "#Calculate correlations between numeric features\n",
    "correlations = df_cleaned.corr()\n",
    "#Make the figsize 7 x 6\n",
    "plt.figure(figsize=(7,6))\n",
    "#Plot heatmap of correlations\n",
    "_ = sns.heatmap(correlations, cmap=\"Greens\")\n",
    "plt.show()"
   ]
  },
  {
   "cell_type": "markdown",
   "metadata": {},
   "source": [
    "As can be seen, the economic indicators strongly correlate with each other. Additionally, the 'previous' and 'pdays' variables have a strong negative correlation, as expected, since the largest value of 'pdays' (999) corresponds to the smallest value of 'previous' (0).\n",
    "\n",
    "If the strong correlation between the above variables is statistically significant, we may group or drop some of them, as having multiple strongly correlated variables in our prediction model will not substantially increase the accuracy of our model.\n",
    "\n",
    "Let's test the statistical significance of the strongly correlated variables representing the state of economy, i.e. of the below pairs using permutation:\n",
    "\n",
    "- 'emp.var.rate' - 'cons.price.idx'\n",
    "- 'emp.var.rate' - 'euribor3m'\n",
    "- 'emp.var.rate' - 'nr.employed'\n",
    "- 'cons.price.idx' - 'euribor3m'\n",
    "- 'cons.price.idx' - 'nr.employed'\n",
    "- 'euribor3m' - 'nr.employed'"
   ]
  },
  {
   "cell_type": "markdown",
   "metadata": {},
   "source": [
    "## Permutation tests for numerical variables"
   ]
  },
  {
   "cell_type": "code",
   "execution_count": 128,
   "metadata": {},
   "outputs": [
    {
     "data": {
      "text/plain": [
       "0.76525912324329981"
      ]
     },
     "execution_count": 128,
     "metadata": {},
     "output_type": "execute_result"
    }
   ],
   "source": [
    "#Defining the permutation function\n",
    "def perm_sample(data):\n",
    "\n",
    "    #Doing the permutation\n",
    "    perm_data = np.random.permutation(data)\n",
    "\n",
    "    return perm_data\n",
    "\n",
    "#Defining a function to generate permuted correlation coefficients\n",
    "def calculate_perm_corr(data1, data2, size=1):\n",
    "\n",
    "    #Empty array\n",
    "    perm_replicates = np.empty(size)\n",
    "\n",
    "    for i in range(size):\n",
    "        #Generating permutation samples\n",
    "        perm_data1 = perm_sample(data1)\n",
    "        perm_data2 =  perm_sample(data2)\n",
    "\n",
    "        #Calculating the desired function\n",
    "        perm_replicates[i] = np.corrcoef(perm_data1, perm_data2)[0,1]\n",
    "\n",
    "    return perm_replicates\n",
    "\n",
    "#Saving 'emp.var.rate' and 'cons.price.idx' as separate variables\n",
    "emp_var = df_cleaned['emp.var.rate']\n",
    "cons_price = df_cleaned['cons.price.idx'] \n",
    "\n",
    "#Calculating the correlation coefficient\n",
    "r_emp_var_cons_price = np.corrcoef(emp_var, cons_price)[0,1]\n",
    "r_emp_var_cons_price"
   ]
  },
  {
   "cell_type": "code",
   "execution_count": 129,
   "metadata": {},
   "outputs": [
    {
     "data": {
      "text/plain": [
       "0.0"
      ]
     },
     "execution_count": 129,
     "metadata": {},
     "output_type": "execute_result"
    }
   ],
   "source": [
    "#Calculating the permuted coefficients for 'emp.var.rate' and 'cons.price.idx'\n",
    "permuted_corr_coef = calculate_perm_corr(emp_var, cons_price, size=10000)\n",
    "\n",
    "#Calculating the p-value for 'emp.var.rate' and 'cons.price.idx'\n",
    "p = np.sum(permuted_corr_coef >= r_emp_var_cons_price) / len(permuted_corr_coef)\n",
    "p"
   ]
  },
  {
   "cell_type": "code",
   "execution_count": 130,
   "metadata": {},
   "outputs": [
    {
     "data": {
      "text/plain": [
       "0.97326701970334073"
      ]
     },
     "execution_count": 130,
     "metadata": {},
     "output_type": "execute_result"
    }
   ],
   "source": [
    "#Saving 'euribor3m' as a separate variable\n",
    "euribor = df_cleaned['euribor3m'] \n",
    "\n",
    "#Calculating the correlation coefficient for 'emp.var.rate' and 'euribor3m'\n",
    "r_emp_var_euribor = np.corrcoef(emp_var, euribor)[0,1]\n",
    "r_emp_var_euribor"
   ]
  },
  {
   "cell_type": "code",
   "execution_count": 131,
   "metadata": {},
   "outputs": [
    {
     "data": {
      "text/plain": [
       "0.0"
      ]
     },
     "execution_count": 131,
     "metadata": {},
     "output_type": "execute_result"
    }
   ],
   "source": [
    "#Calculating the permuted coefficients for 'emp.var.rate' and 'euribor3m'\n",
    "permuted_corr_coef = calculate_perm_corr(emp_var, euribor, size=10000)\n",
    "\n",
    "#Calculating the p-value for 'emp.var.rate' and 'euribor3m'\n",
    "p = np.sum(permuted_corr_coef >= r_emp_var_euribor) / len(permuted_corr_coef)\n",
    "p"
   ]
  },
  {
   "cell_type": "code",
   "execution_count": 132,
   "metadata": {},
   "outputs": [
    {
     "data": {
      "text/plain": [
       "0.91133820849660041"
      ]
     },
     "execution_count": 132,
     "metadata": {},
     "output_type": "execute_result"
    }
   ],
   "source": [
    "#Saving 'nr.employed' as a separate variable\n",
    "nr_empl = df_cleaned['nr.employed'] \n",
    "\n",
    "#Calculating the correlation coefficient for 'emp.var.rate' and 'nr.employed'\n",
    "r_emp_var_nr_empl = np.corrcoef(emp_var, nr_empl)[0,1]\n",
    "r_emp_var_nr_empl"
   ]
  },
  {
   "cell_type": "code",
   "execution_count": 133,
   "metadata": {},
   "outputs": [
    {
     "data": {
      "text/plain": [
       "0.0"
      ]
     },
     "execution_count": 133,
     "metadata": {},
     "output_type": "execute_result"
    }
   ],
   "source": [
    "#Calculating the permuted coefficients for 'emp.var.rate' and 'nr.employed'\n",
    "permuted_corr_coef = calculate_perm_corr(emp_var, nr_empl, size=10000)\n",
    "\n",
    "#Calculating the p-value for 'emp.var.rate' and 'nr.employed'\n",
    "p = np.sum(permuted_corr_coef >= r_emp_var_nr_empl) / len(permuted_corr_coef)\n",
    "p"
   ]
  },
  {
   "cell_type": "code",
   "execution_count": 134,
   "metadata": {},
   "outputs": [
    {
     "data": {
      "text/plain": [
       "0.68506099624043693"
      ]
     },
     "execution_count": 134,
     "metadata": {},
     "output_type": "execute_result"
    }
   ],
   "source": [
    "#Calculating the correlation coefficient for 'cons.price.idx' and 'euribor3m'\n",
    "r_cons_price_euribor = np.corrcoef(cons_price, euribor)[0,1]\n",
    "r_cons_price_euribor"
   ]
  },
  {
   "cell_type": "code",
   "execution_count": 135,
   "metadata": {},
   "outputs": [
    {
     "data": {
      "text/plain": [
       "0.0"
      ]
     },
     "execution_count": 135,
     "metadata": {},
     "output_type": "execute_result"
    }
   ],
   "source": [
    "#Calculating the permuted coefficients for 'cons.price.idx' and 'euribor3m'\n",
    "permuted_corr_coef = calculate_perm_corr(cons_price, euribor, size=10000)\n",
    "\n",
    "#Calculating the p-value for 'cons.price.idx' and 'euribor3m'\n",
    "p = np.sum(permuted_corr_coef >= r_cons_price_euribor) / len(permuted_corr_coef)\n",
    "p"
   ]
  },
  {
   "cell_type": "code",
   "execution_count": 136,
   "metadata": {},
   "outputs": [
    {
     "data": {
      "text/plain": [
       "0.52778244815648823"
      ]
     },
     "execution_count": 136,
     "metadata": {},
     "output_type": "execute_result"
    }
   ],
   "source": [
    "#Calculating the correlation coefficient for 'cons.price.idx' and 'nr.employed'\n",
    "r_cons_price_nr_empl = np.corrcoef(cons_price, nr_empl)[0,1]\n",
    "r_cons_price_nr_empl"
   ]
  },
  {
   "cell_type": "code",
   "execution_count": 137,
   "metadata": {},
   "outputs": [
    {
     "data": {
      "text/plain": [
       "0.0"
      ]
     },
     "execution_count": 137,
     "metadata": {},
     "output_type": "execute_result"
    }
   ],
   "source": [
    "#Calculating the permuted coefficients for 'cons.price.idx' and 'nr.employed'\n",
    "permuted_corr_coef = calculate_perm_corr(cons_price, nr_empl, size=10000)\n",
    "\n",
    "#Calculating the p-value for 'cons.price.idx' and 'nr.employed'\n",
    "p = np.sum(permuted_corr_coef >= r_cons_price_nr_empl) / len(permuted_corr_coef)\n",
    "p"
   ]
  },
  {
   "cell_type": "code",
   "execution_count": 138,
   "metadata": {},
   "outputs": [
    {
     "data": {
      "text/plain": [
       "0.94543694957355884"
      ]
     },
     "execution_count": 138,
     "metadata": {},
     "output_type": "execute_result"
    }
   ],
   "source": [
    "#Calculating the correlation coefficient for 'euribor3m' and 'nr.employed'\n",
    "r_euribor_nr_empl = np.corrcoef(euribor, nr_empl)[0,1]\n",
    "r_euribor_nr_empl"
   ]
  },
  {
   "cell_type": "code",
   "execution_count": 139,
   "metadata": {},
   "outputs": [
    {
     "data": {
      "text/plain": [
       "0.0"
      ]
     },
     "execution_count": 139,
     "metadata": {},
     "output_type": "execute_result"
    }
   ],
   "source": [
    "#Calculating the permuted coefficients for 'euribor3m' and 'nr.employed'\n",
    "permuted_corr_coef = calculate_perm_corr(euribor, nr_empl, size=10000)\n",
    "\n",
    "#Calculating the p-value for 'euribor3m' and 'nr.employed'\n",
    "p = np.sum(permuted_corr_coef >= r_euribor_nr_empl) / len(permuted_corr_coef)\n",
    "p"
   ]
  },
  {
   "cell_type": "markdown",
   "metadata": {},
   "source": [
    "As can be seen, all correlations of the above pairs are statistically significant, since the p-values are very close to zero. For two of the pairs, though - namely, 'cons.price.idx' - 'euribor3m' and 'cons.price.idx' - 'nr.employed' - the correlation coefficient isn't high.\n",
    "\n",
    "We can potentially combine these variables into one weighted variable that would represent the state of the economy."
   ]
  },
  {
   "cell_type": "markdown",
   "metadata": {},
   "source": [
    "Let's look at the mean age of the dataset and use bootstrapping to see if this mean is significantly different from the mean of the sampling distributin of means drawn from 10,000 bootstrap replicates:"
   ]
  },
  {
   "cell_type": "code",
   "execution_count": 140,
   "metadata": {},
   "outputs": [
    {
     "data": {
      "text/plain": [
       "39.85803976281828"
      ]
     },
     "execution_count": 140,
     "metadata": {},
     "output_type": "execute_result"
    }
   ],
   "source": [
    "#Calculating the mean age of our dataset\n",
    "mean_age = np.mean(df_cleaned['age'])\n",
    "mean_age"
   ]
  },
  {
   "cell_type": "code",
   "execution_count": 141,
   "metadata": {},
   "outputs": [
    {
     "data": {
      "text/plain": [
       "0.49869999999999998"
      ]
     },
     "execution_count": 141,
     "metadata": {},
     "output_type": "execute_result"
    }
   ],
   "source": [
    "#Defining function to draw bootstrap replicates\n",
    "def draw_bs_reps(data, func, size=1):\n",
    "    \n",
    "    # Initialize array of replicates: bs_replicates\n",
    "    bs_replicates = np.empty(size)\n",
    "\n",
    "    # Generate replicates\n",
    "    for i in range(size):\n",
    "        bs_replicates[i] = func(np.random.choice(data, size=len(data)))\n",
    "\n",
    "    return bs_replicates\n",
    "\n",
    "#Setting random seed\n",
    "np.random.seed(42)\n",
    "\n",
    "#Generating 10000 bootstrap replicates with the shifted data\n",
    "bs_replicates = draw_bs_reps(df_cleaned['age'], np.mean, size=10000)\n",
    "\n",
    "#Calculating the p-value for the dataset mean \n",
    "p = np.sum(bs_replicates >= mean_age) / len(bs_replicates)\n",
    "p"
   ]
  },
  {
   "cell_type": "markdown",
   "metadata": {},
   "source": [
    "As we can see, the mean of our dataset is very close to the mean of the sampling distribution of the bootstrapped samples' means, so our dataset represents the overall population well, and there's no skew towards any particular age."
   ]
  },
  {
   "cell_type": "markdown",
   "metadata": {},
   "source": [
    "## Chi-square test for independence\n",
    "\n",
    "Now, let's check if our categorical variables are independent of each other using a chi-square test with a 95% level of confidence. We will need to check the following pairs (it doesn't make much sense to do a chi-square test for days of the week or months, and the dependence/independence of the outcome of the previous campaign should be checked by a more comprehensive method, like logistic regression).\n",
    "\n",
    "- 'job' - 'marital'\n",
    "- 'job' - 'education'\n",
    "- 'job' - 'housing'\n",
    "- 'job' - 'loan'\n",
    "- 'job' - 'contact'\n",
    "- 'marital' - 'education'\n",
    "- 'marital' - 'housing'\n",
    "- 'marital' - 'loan'\n",
    "- 'marital' - 'contact'\n",
    "- 'education' - 'housing'\n",
    "- 'education' - 'loan'\n",
    "- 'education' - 'contact'\n",
    "- 'housing' - 'loan'\n",
    "- 'housing' - 'contact'\n",
    "- 'loan' - 'contact'  \n",
    "\n",
    "To use chi-square test, our dataset must meet the following criteria:\n",
    "\n",
    "- Sampled observations must be independent\n",
    "- Random sampling/assignment should be used\n",
    "- If sampling without replacement, the data should be <10% of population\n",
    "- Each category should contribute to only one cell in the contingency table\n",
    "- Each particular scenario (i.e. cell) should have at least 5 expected cases\n",
    "\n",
    "In the dataset description, there's no information on how the data were collected, so we can only assume that the observations are independent and that the random sampling was used. We will also assume that each category contributes to only one cell in the contingency table. Our dataset is definitely less than 10% of population. Last, we will see if there are scenarios with less than 5 cases.\n",
    "\n",
    "Our null-hypothesis for each pair will be that the variables are independent from each other. The high chi-squared value or low p-value will allow us to reject this null-hypothesis and conclude that the variables are dependent."
   ]
  },
  {
   "cell_type": "code",
   "execution_count": 142,
   "metadata": {},
   "outputs": [
    {
     "data": {
      "text/html": [
       "<div>\n",
       "<style>\n",
       "    .dataframe thead tr:only-child th {\n",
       "        text-align: right;\n",
       "    }\n",
       "\n",
       "    .dataframe thead th {\n",
       "        text-align: left;\n",
       "    }\n",
       "\n",
       "    .dataframe tbody tr th {\n",
       "        vertical-align: top;\n",
       "    }\n",
       "</style>\n",
       "<table border=\"1\" class=\"dataframe\">\n",
       "  <thead>\n",
       "    <tr style=\"text-align: right;\">\n",
       "      <th>education</th>\n",
       "      <th>basic_school</th>\n",
       "      <th>high.school</th>\n",
       "      <th>professional.course</th>\n",
       "      <th>university.degree</th>\n",
       "      <th>All</th>\n",
       "    </tr>\n",
       "    <tr>\n",
       "      <th>job</th>\n",
       "      <th></th>\n",
       "      <th></th>\n",
       "      <th></th>\n",
       "      <th></th>\n",
       "      <th></th>\n",
       "    </tr>\n",
       "  </thead>\n",
       "  <tbody>\n",
       "    <tr>\n",
       "      <th>administration_management</th>\n",
       "      <td>956</td>\n",
       "      <td>3142</td>\n",
       "      <td>384</td>\n",
       "      <td>6890</td>\n",
       "      <td>11372</td>\n",
       "    </tr>\n",
       "    <tr>\n",
       "      <th>blue-collar</th>\n",
       "      <td>6961</td>\n",
       "      <td>1530</td>\n",
       "      <td>3365</td>\n",
       "      <td>1683</td>\n",
       "      <td>13539</td>\n",
       "    </tr>\n",
       "    <tr>\n",
       "      <th>no_active_income</th>\n",
       "      <td>984</td>\n",
       "      <td>470</td>\n",
       "      <td>336</td>\n",
       "      <td>469</td>\n",
       "      <td>2259</td>\n",
       "    </tr>\n",
       "    <tr>\n",
       "      <th>self-employed</th>\n",
       "      <td>669</td>\n",
       "      <td>300</td>\n",
       "      <td>258</td>\n",
       "      <td>1201</td>\n",
       "      <td>2428</td>\n",
       "    </tr>\n",
       "    <tr>\n",
       "      <th>services</th>\n",
       "      <td>1235</td>\n",
       "      <td>2463</td>\n",
       "      <td>250</td>\n",
       "      <td>274</td>\n",
       "      <td>4222</td>\n",
       "    </tr>\n",
       "    <tr>\n",
       "      <th>student</th>\n",
       "      <td>116</td>\n",
       "      <td>289</td>\n",
       "      <td>33</td>\n",
       "      <td>146</td>\n",
       "      <td>584</td>\n",
       "    </tr>\n",
       "    <tr>\n",
       "      <th>All</th>\n",
       "      <td>10921</td>\n",
       "      <td>8194</td>\n",
       "      <td>4626</td>\n",
       "      <td>10663</td>\n",
       "      <td>34404</td>\n",
       "    </tr>\n",
       "  </tbody>\n",
       "</table>\n",
       "</div>"
      ],
      "text/plain": [
       "education                  basic_school  high.school  professional.course  \\\n",
       "job                                                                         \n",
       "administration_management           956         3142                  384   \n",
       "blue-collar                        6961         1530                 3365   \n",
       "no_active_income                    984          470                  336   \n",
       "self-employed                       669          300                  258   \n",
       "services                           1235         2463                  250   \n",
       "student                             116          289                   33   \n",
       "All                               10921         8194                 4626   \n",
       "\n",
       "education                  university.degree    All  \n",
       "job                                                  \n",
       "administration_management               6890  11372  \n",
       "blue-collar                             1683  13539  \n",
       "no_active_income                         469   2259  \n",
       "self-employed                           1201   2428  \n",
       "services                                 274   4222  \n",
       "student                                  146    584  \n",
       "All                                    10663  34404  "
      ]
     },
     "execution_count": 142,
     "metadata": {},
     "output_type": "execute_result"
    }
   ],
   "source": [
    "#Creating the contingency table for comparing 'job' and 'education'\n",
    "contingency_table = pd.crosstab(index=df_cleaned['job'], columns=df_cleaned['education'], margins=True)\n",
    "contingency_table"
   ]
  },
  {
   "cell_type": "code",
   "execution_count": 143,
   "metadata": {},
   "outputs": [
    {
     "data": {
      "text/plain": [
       "(15401.719799238672, 0.0, 24)"
      ]
     },
     "execution_count": 143,
     "metadata": {},
     "output_type": "execute_result"
    }
   ],
   "source": [
    "#Calculating chi-squared and p-value\n",
    "chi2, p, dof, ex =stats.chi2_contingency(contingency_table)\n",
    "chi2, p, dof"
   ]
  },
  {
   "cell_type": "code",
   "execution_count": 144,
   "metadata": {},
   "outputs": [
    {
     "data": {
      "text/html": [
       "<div>\n",
       "<style>\n",
       "    .dataframe thead tr:only-child th {\n",
       "        text-align: right;\n",
       "    }\n",
       "\n",
       "    .dataframe thead th {\n",
       "        text-align: left;\n",
       "    }\n",
       "\n",
       "    .dataframe tbody tr th {\n",
       "        vertical-align: top;\n",
       "    }\n",
       "</style>\n",
       "<table border=\"1\" class=\"dataframe\">\n",
       "  <thead>\n",
       "    <tr style=\"text-align: right;\">\n",
       "      <th>marital</th>\n",
       "      <th>married</th>\n",
       "      <th>single</th>\n",
       "      <th>All</th>\n",
       "    </tr>\n",
       "    <tr>\n",
       "      <th>job</th>\n",
       "      <th></th>\n",
       "      <th></th>\n",
       "      <th></th>\n",
       "    </tr>\n",
       "  </thead>\n",
       "  <tbody>\n",
       "    <tr>\n",
       "      <th>administration_management</th>\n",
       "      <td>6270</td>\n",
       "      <td>5102</td>\n",
       "      <td>11372</td>\n",
       "    </tr>\n",
       "    <tr>\n",
       "      <th>blue-collar</th>\n",
       "      <td>8861</td>\n",
       "      <td>4678</td>\n",
       "      <td>13539</td>\n",
       "    </tr>\n",
       "    <tr>\n",
       "      <th>no_active_income</th>\n",
       "      <td>1560</td>\n",
       "      <td>699</td>\n",
       "      <td>2259</td>\n",
       "    </tr>\n",
       "    <tr>\n",
       "      <th>self-employed</th>\n",
       "      <td>1673</td>\n",
       "      <td>755</td>\n",
       "      <td>2428</td>\n",
       "    </tr>\n",
       "    <tr>\n",
       "      <th>services</th>\n",
       "      <td>2609</td>\n",
       "      <td>1613</td>\n",
       "      <td>4222</td>\n",
       "    </tr>\n",
       "    <tr>\n",
       "      <th>student</th>\n",
       "      <td>35</td>\n",
       "      <td>549</td>\n",
       "      <td>584</td>\n",
       "    </tr>\n",
       "    <tr>\n",
       "      <th>All</th>\n",
       "      <td>21008</td>\n",
       "      <td>13396</td>\n",
       "      <td>34404</td>\n",
       "    </tr>\n",
       "  </tbody>\n",
       "</table>\n",
       "</div>"
      ],
      "text/plain": [
       "marital                    married  single    All\n",
       "job                                              \n",
       "administration_management     6270    5102  11372\n",
       "blue-collar                   8861    4678  13539\n",
       "no_active_income              1560     699   2259\n",
       "self-employed                 1673     755   2428\n",
       "services                      2609    1613   4222\n",
       "student                         35     549    584\n",
       "All                          21008   13396  34404"
      ]
     },
     "execution_count": 144,
     "metadata": {},
     "output_type": "execute_result"
    }
   ],
   "source": [
    "#Creating the contingency table for comparing 'job' and 'marital'\n",
    "contingency_table = pd.crosstab(index=df_cleaned['job'], columns=df_cleaned['marital'], margins=True)\n",
    "contingency_table"
   ]
  },
  {
   "cell_type": "code",
   "execution_count": 145,
   "metadata": {},
   "outputs": [
    {
     "data": {
      "text/plain": [
       "(1146.9072875893796, 4.6703967524795622e-238, 12)"
      ]
     },
     "execution_count": 145,
     "metadata": {},
     "output_type": "execute_result"
    }
   ],
   "source": [
    "#Calculating chi-squared and p-value\n",
    "chi2, p, dof, ex =stats.chi2_contingency(contingency_table)\n",
    "chi2, p, dof"
   ]
  },
  {
   "cell_type": "code",
   "execution_count": 146,
   "metadata": {},
   "outputs": [
    {
     "data": {
      "text/html": [
       "<div>\n",
       "<style>\n",
       "    .dataframe thead tr:only-child th {\n",
       "        text-align: right;\n",
       "    }\n",
       "\n",
       "    .dataframe thead th {\n",
       "        text-align: left;\n",
       "    }\n",
       "\n",
       "    .dataframe tbody tr th {\n",
       "        vertical-align: top;\n",
       "    }\n",
       "</style>\n",
       "<table border=\"1\" class=\"dataframe\">\n",
       "  <thead>\n",
       "    <tr style=\"text-align: right;\">\n",
       "      <th>housing</th>\n",
       "      <th>no</th>\n",
       "      <th>yes</th>\n",
       "      <th>All</th>\n",
       "    </tr>\n",
       "    <tr>\n",
       "      <th>job</th>\n",
       "      <th></th>\n",
       "      <th></th>\n",
       "      <th></th>\n",
       "    </tr>\n",
       "  </thead>\n",
       "  <tbody>\n",
       "    <tr>\n",
       "      <th>administration_management</th>\n",
       "      <td>5297</td>\n",
       "      <td>6075</td>\n",
       "      <td>11372</td>\n",
       "    </tr>\n",
       "    <tr>\n",
       "      <th>blue-collar</th>\n",
       "      <td>6306</td>\n",
       "      <td>7233</td>\n",
       "      <td>13539</td>\n",
       "    </tr>\n",
       "    <tr>\n",
       "      <th>no_active_income</th>\n",
       "      <td>1011</td>\n",
       "      <td>1248</td>\n",
       "      <td>2259</td>\n",
       "    </tr>\n",
       "    <tr>\n",
       "      <th>self-employed</th>\n",
       "      <td>1119</td>\n",
       "      <td>1309</td>\n",
       "      <td>2428</td>\n",
       "    </tr>\n",
       "    <tr>\n",
       "      <th>services</th>\n",
       "      <td>2014</td>\n",
       "      <td>2208</td>\n",
       "      <td>4222</td>\n",
       "    </tr>\n",
       "    <tr>\n",
       "      <th>student</th>\n",
       "      <td>272</td>\n",
       "      <td>312</td>\n",
       "      <td>584</td>\n",
       "    </tr>\n",
       "    <tr>\n",
       "      <th>All</th>\n",
       "      <td>16019</td>\n",
       "      <td>18385</td>\n",
       "      <td>34404</td>\n",
       "    </tr>\n",
       "  </tbody>\n",
       "</table>\n",
       "</div>"
      ],
      "text/plain": [
       "housing                       no    yes    All\n",
       "job                                           \n",
       "administration_management   5297   6075  11372\n",
       "blue-collar                 6306   7233  13539\n",
       "no_active_income            1011   1248   2259\n",
       "self-employed               1119   1309   2428\n",
       "services                    2014   2208   4222\n",
       "student                      272    312    584\n",
       "All                        16019  18385  34404"
      ]
     },
     "execution_count": 146,
     "metadata": {},
     "output_type": "execute_result"
    }
   ],
   "source": [
    "#Creating the contingency table for comparing 'job' and 'housing'\n",
    "contingency_table = pd.crosstab(index=df_cleaned['job'], columns=df_cleaned['housing'], margins=True)\n",
    "contingency_table"
   ]
  },
  {
   "cell_type": "code",
   "execution_count": 147,
   "metadata": {},
   "outputs": [
    {
     "data": {
      "text/plain": [
       "(5.3963517634649607, 0.94341480681562429, 12)"
      ]
     },
     "execution_count": 147,
     "metadata": {},
     "output_type": "execute_result"
    }
   ],
   "source": [
    "#Calculating chi-squared and p-value\n",
    "chi2, p, dof, ex =stats.chi2_contingency(contingency_table)\n",
    "chi2, p, dof"
   ]
  },
  {
   "cell_type": "code",
   "execution_count": 148,
   "metadata": {},
   "outputs": [
    {
     "data": {
      "text/html": [
       "<div>\n",
       "<style>\n",
       "    .dataframe thead tr:only-child th {\n",
       "        text-align: right;\n",
       "    }\n",
       "\n",
       "    .dataframe thead th {\n",
       "        text-align: left;\n",
       "    }\n",
       "\n",
       "    .dataframe tbody tr th {\n",
       "        vertical-align: top;\n",
       "    }\n",
       "</style>\n",
       "<table border=\"1\" class=\"dataframe\">\n",
       "  <thead>\n",
       "    <tr style=\"text-align: right;\">\n",
       "      <th>loan</th>\n",
       "      <th>no</th>\n",
       "      <th>yes</th>\n",
       "      <th>All</th>\n",
       "    </tr>\n",
       "    <tr>\n",
       "      <th>job</th>\n",
       "      <th></th>\n",
       "      <th></th>\n",
       "      <th></th>\n",
       "    </tr>\n",
       "  </thead>\n",
       "  <tbody>\n",
       "    <tr>\n",
       "      <th>administration_management</th>\n",
       "      <td>9480</td>\n",
       "      <td>1892</td>\n",
       "      <td>11372</td>\n",
       "    </tr>\n",
       "    <tr>\n",
       "      <th>blue-collar</th>\n",
       "      <td>11489</td>\n",
       "      <td>2050</td>\n",
       "      <td>13539</td>\n",
       "    </tr>\n",
       "    <tr>\n",
       "      <th>no_active_income</th>\n",
       "      <td>1932</td>\n",
       "      <td>327</td>\n",
       "      <td>2259</td>\n",
       "    </tr>\n",
       "    <tr>\n",
       "      <th>self-employed</th>\n",
       "      <td>2085</td>\n",
       "      <td>343</td>\n",
       "      <td>2428</td>\n",
       "    </tr>\n",
       "    <tr>\n",
       "      <th>services</th>\n",
       "      <td>3571</td>\n",
       "      <td>651</td>\n",
       "      <td>4222</td>\n",
       "    </tr>\n",
       "    <tr>\n",
       "      <th>student</th>\n",
       "      <td>485</td>\n",
       "      <td>99</td>\n",
       "      <td>584</td>\n",
       "    </tr>\n",
       "    <tr>\n",
       "      <th>All</th>\n",
       "      <td>29042</td>\n",
       "      <td>5362</td>\n",
       "      <td>34404</td>\n",
       "    </tr>\n",
       "  </tbody>\n",
       "</table>\n",
       "</div>"
      ],
      "text/plain": [
       "loan                          no   yes    All\n",
       "job                                          \n",
       "administration_management   9480  1892  11372\n",
       "blue-collar                11489  2050  13539\n",
       "no_active_income            1932   327   2259\n",
       "self-employed               2085   343   2428\n",
       "services                    3571   651   4222\n",
       "student                      485    99    584\n",
       "All                        29042  5362  34404"
      ]
     },
     "execution_count": 148,
     "metadata": {},
     "output_type": "execute_result"
    }
   ],
   "source": [
    "#Creating the contingency table for comparing 'job' and 'loan'\n",
    "contingency_table = pd.crosstab(index=df_cleaned['job'], columns=df_cleaned['loan'], margins=True)\n",
    "contingency_table"
   ]
  },
  {
   "cell_type": "code",
   "execution_count": 149,
   "metadata": {},
   "outputs": [
    {
     "data": {
      "text/plain": [
       "(18.552700603242883, 0.099910136295762841, 12)"
      ]
     },
     "execution_count": 149,
     "metadata": {},
     "output_type": "execute_result"
    }
   ],
   "source": [
    "#Calculating chi-squared and p-value\n",
    "chi2, p, dof, ex =stats.chi2_contingency(contingency_table)\n",
    "chi2, p, dof"
   ]
  },
  {
   "cell_type": "code",
   "execution_count": 150,
   "metadata": {},
   "outputs": [
    {
     "data": {
      "text/html": [
       "<div>\n",
       "<style>\n",
       "    .dataframe thead tr:only-child th {\n",
       "        text-align: right;\n",
       "    }\n",
       "\n",
       "    .dataframe thead th {\n",
       "        text-align: left;\n",
       "    }\n",
       "\n",
       "    .dataframe tbody tr th {\n",
       "        vertical-align: top;\n",
       "    }\n",
       "</style>\n",
       "<table border=\"1\" class=\"dataframe\">\n",
       "  <thead>\n",
       "    <tr style=\"text-align: right;\">\n",
       "      <th>contact</th>\n",
       "      <th>cellular</th>\n",
       "      <th>telephone</th>\n",
       "      <th>All</th>\n",
       "    </tr>\n",
       "    <tr>\n",
       "      <th>job</th>\n",
       "      <th></th>\n",
       "      <th></th>\n",
       "      <th></th>\n",
       "    </tr>\n",
       "  </thead>\n",
       "  <tbody>\n",
       "    <tr>\n",
       "      <th>administration_management</th>\n",
       "      <td>7417</td>\n",
       "      <td>3955</td>\n",
       "      <td>11372</td>\n",
       "    </tr>\n",
       "    <tr>\n",
       "      <th>blue-collar</th>\n",
       "      <td>7857</td>\n",
       "      <td>5682</td>\n",
       "      <td>13539</td>\n",
       "    </tr>\n",
       "    <tr>\n",
       "      <th>no_active_income</th>\n",
       "      <td>1460</td>\n",
       "      <td>799</td>\n",
       "      <td>2259</td>\n",
       "    </tr>\n",
       "    <tr>\n",
       "      <th>self-employed</th>\n",
       "      <td>1386</td>\n",
       "      <td>1042</td>\n",
       "      <td>2428</td>\n",
       "    </tr>\n",
       "    <tr>\n",
       "      <th>services</th>\n",
       "      <td>2337</td>\n",
       "      <td>1885</td>\n",
       "      <td>4222</td>\n",
       "    </tr>\n",
       "    <tr>\n",
       "      <th>student</th>\n",
       "      <td>421</td>\n",
       "      <td>163</td>\n",
       "      <td>584</td>\n",
       "    </tr>\n",
       "    <tr>\n",
       "      <th>All</th>\n",
       "      <td>20878</td>\n",
       "      <td>13526</td>\n",
       "      <td>34404</td>\n",
       "    </tr>\n",
       "  </tbody>\n",
       "</table>\n",
       "</div>"
      ],
      "text/plain": [
       "contact                    cellular  telephone    All\n",
       "job                                                  \n",
       "administration_management      7417       3955  11372\n",
       "blue-collar                    7857       5682  13539\n",
       "no_active_income               1460        799   2259\n",
       "self-employed                  1386       1042   2428\n",
       "services                       2337       1885   4222\n",
       "student                         421        163    584\n",
       "All                           20878      13526  34404"
      ]
     },
     "execution_count": 150,
     "metadata": {},
     "output_type": "execute_result"
    }
   ],
   "source": [
    "#Creating the contingency table for comparing 'job' and 'contact'\n",
    "contingency_table = pd.crosstab(index=df_cleaned['job'], columns=df_cleaned['contact'], margins=True)\n",
    "contingency_table"
   ]
  },
  {
   "cell_type": "code",
   "execution_count": 151,
   "metadata": {},
   "outputs": [
    {
     "data": {
      "text/plain": [
       "(248.10847073292709, 3.392524875498881e-46, 12)"
      ]
     },
     "execution_count": 151,
     "metadata": {},
     "output_type": "execute_result"
    }
   ],
   "source": [
    "#Calculating chi-squared and p-value\n",
    "chi2, p, dof, ex =stats.chi2_contingency(contingency_table)\n",
    "chi2, p, dof"
   ]
  },
  {
   "cell_type": "code",
   "execution_count": 152,
   "metadata": {},
   "outputs": [
    {
     "data": {
      "text/html": [
       "<div>\n",
       "<style>\n",
       "    .dataframe thead tr:only-child th {\n",
       "        text-align: right;\n",
       "    }\n",
       "\n",
       "    .dataframe thead th {\n",
       "        text-align: left;\n",
       "    }\n",
       "\n",
       "    .dataframe tbody tr th {\n",
       "        vertical-align: top;\n",
       "    }\n",
       "</style>\n",
       "<table border=\"1\" class=\"dataframe\">\n",
       "  <thead>\n",
       "    <tr style=\"text-align: right;\">\n",
       "      <th>education</th>\n",
       "      <th>basic_school</th>\n",
       "      <th>high.school</th>\n",
       "      <th>professional.course</th>\n",
       "      <th>university.degree</th>\n",
       "      <th>All</th>\n",
       "    </tr>\n",
       "    <tr>\n",
       "      <th>marital</th>\n",
       "      <th></th>\n",
       "      <th></th>\n",
       "      <th></th>\n",
       "      <th></th>\n",
       "      <th></th>\n",
       "    </tr>\n",
       "  </thead>\n",
       "  <tbody>\n",
       "    <tr>\n",
       "      <th>married</th>\n",
       "      <td>8043</td>\n",
       "      <td>4504</td>\n",
       "      <td>2823</td>\n",
       "      <td>5638</td>\n",
       "      <td>21008</td>\n",
       "    </tr>\n",
       "    <tr>\n",
       "      <th>single</th>\n",
       "      <td>2878</td>\n",
       "      <td>3690</td>\n",
       "      <td>1803</td>\n",
       "      <td>5025</td>\n",
       "      <td>13396</td>\n",
       "    </tr>\n",
       "    <tr>\n",
       "      <th>All</th>\n",
       "      <td>10921</td>\n",
       "      <td>8194</td>\n",
       "      <td>4626</td>\n",
       "      <td>10663</td>\n",
       "      <td>34404</td>\n",
       "    </tr>\n",
       "  </tbody>\n",
       "</table>\n",
       "</div>"
      ],
      "text/plain": [
       "education  basic_school  high.school  professional.course  university.degree  \\\n",
       "marital                                                                        \n",
       "married            8043         4504                 2823               5638   \n",
       "single             2878         3690                 1803               5025   \n",
       "All               10921         8194                 4626              10663   \n",
       "\n",
       "education    All  \n",
       "marital           \n",
       "married    21008  \n",
       "single     13396  \n",
       "All        34404  "
      ]
     },
     "execution_count": 152,
     "metadata": {},
     "output_type": "execute_result"
    }
   ],
   "source": [
    "#Creating the contingency table for comparing'marital' and 'education'\n",
    "contingency_table = pd.crosstab(index=df_cleaned['marital'], columns=df_cleaned['education'], margins=True)\n",
    "contingency_table"
   ]
  },
  {
   "cell_type": "markdown",
   "metadata": {},
   "source": [
    "Since the table contains zero values, they should be dropped before the chi-square test is performed."
   ]
  },
  {
   "cell_type": "code",
   "execution_count": 153,
   "metadata": {},
   "outputs": [
    {
     "data": {
      "text/plain": [
       "(1156.1699598205375, 2.8246373319745929e-244, 8)"
      ]
     },
     "execution_count": 153,
     "metadata": {},
     "output_type": "execute_result"
    }
   ],
   "source": [
    "#Filtering out zero values\n",
    "contingency_table = contingency_table.loc[['married', 'single', 'All'], :]\n",
    "\n",
    "#Calculating chi-squared and p-value\n",
    "chi2, p, dof, ex =stats.chi2_contingency(contingency_table)\n",
    "chi2, p, dof"
   ]
  },
  {
   "cell_type": "code",
   "execution_count": 154,
   "metadata": {},
   "outputs": [
    {
     "data": {
      "text/html": [
       "<div>\n",
       "<style>\n",
       "    .dataframe thead tr:only-child th {\n",
       "        text-align: right;\n",
       "    }\n",
       "\n",
       "    .dataframe thead th {\n",
       "        text-align: left;\n",
       "    }\n",
       "\n",
       "    .dataframe tbody tr th {\n",
       "        vertical-align: top;\n",
       "    }\n",
       "</style>\n",
       "<table border=\"1\" class=\"dataframe\">\n",
       "  <thead>\n",
       "    <tr style=\"text-align: right;\">\n",
       "      <th>housing</th>\n",
       "      <th>no</th>\n",
       "      <th>yes</th>\n",
       "      <th>All</th>\n",
       "    </tr>\n",
       "    <tr>\n",
       "      <th>marital</th>\n",
       "      <th></th>\n",
       "      <th></th>\n",
       "      <th></th>\n",
       "    </tr>\n",
       "  </thead>\n",
       "  <tbody>\n",
       "    <tr>\n",
       "      <th>married</th>\n",
       "      <td>9860</td>\n",
       "      <td>11148</td>\n",
       "      <td>21008</td>\n",
       "    </tr>\n",
       "    <tr>\n",
       "      <th>single</th>\n",
       "      <td>6159</td>\n",
       "      <td>7237</td>\n",
       "      <td>13396</td>\n",
       "    </tr>\n",
       "    <tr>\n",
       "      <th>All</th>\n",
       "      <td>16019</td>\n",
       "      <td>18385</td>\n",
       "      <td>34404</td>\n",
       "    </tr>\n",
       "  </tbody>\n",
       "</table>\n",
       "</div>"
      ],
      "text/plain": [
       "housing     no    yes    All\n",
       "marital                     \n",
       "married   9860  11148  21008\n",
       "single    6159   7237  13396\n",
       "All      16019  18385  34404"
      ]
     },
     "execution_count": 154,
     "metadata": {},
     "output_type": "execute_result"
    }
   ],
   "source": [
    "#Creating the contingency table for comparing'marital' and 'housing'\n",
    "contingency_table = pd.crosstab(index=df_cleaned['marital'], columns=df_cleaned['housing'], margins=True)\n",
    "contingency_table"
   ]
  },
  {
   "cell_type": "code",
   "execution_count": 155,
   "metadata": {},
   "outputs": [
    {
     "data": {
      "text/plain": [
       "(3.0177455175832089, 0.55486013466582684, 4)"
      ]
     },
     "execution_count": 155,
     "metadata": {},
     "output_type": "execute_result"
    }
   ],
   "source": [
    "#Filtering out zero values\n",
    "contingency_table = contingency_table.loc[['married', 'single', 'All'], :]\n",
    "\n",
    "#Calculating chi-squared and p-value\n",
    "chi2, p, dof, ex =stats.chi2_contingency(contingency_table)\n",
    "chi2, p, dof"
   ]
  },
  {
   "cell_type": "code",
   "execution_count": 156,
   "metadata": {},
   "outputs": [
    {
     "data": {
      "text/html": [
       "<div>\n",
       "<style>\n",
       "    .dataframe thead tr:only-child th {\n",
       "        text-align: right;\n",
       "    }\n",
       "\n",
       "    .dataframe thead th {\n",
       "        text-align: left;\n",
       "    }\n",
       "\n",
       "    .dataframe tbody tr th {\n",
       "        vertical-align: top;\n",
       "    }\n",
       "</style>\n",
       "<table border=\"1\" class=\"dataframe\">\n",
       "  <thead>\n",
       "    <tr style=\"text-align: right;\">\n",
       "      <th>loan</th>\n",
       "      <th>no</th>\n",
       "      <th>yes</th>\n",
       "      <th>All</th>\n",
       "    </tr>\n",
       "    <tr>\n",
       "      <th>marital</th>\n",
       "      <th></th>\n",
       "      <th></th>\n",
       "      <th></th>\n",
       "    </tr>\n",
       "  </thead>\n",
       "  <tbody>\n",
       "    <tr>\n",
       "      <th>married</th>\n",
       "      <td>17751</td>\n",
       "      <td>3257</td>\n",
       "      <td>21008</td>\n",
       "    </tr>\n",
       "    <tr>\n",
       "      <th>single</th>\n",
       "      <td>11291</td>\n",
       "      <td>2105</td>\n",
       "      <td>13396</td>\n",
       "    </tr>\n",
       "    <tr>\n",
       "      <th>All</th>\n",
       "      <td>29042</td>\n",
       "      <td>5362</td>\n",
       "      <td>34404</td>\n",
       "    </tr>\n",
       "  </tbody>\n",
       "</table>\n",
       "</div>"
      ],
      "text/plain": [
       "loan        no   yes    All\n",
       "marital                    \n",
       "married  17751  3257  21008\n",
       "single   11291  2105  13396\n",
       "All      29042  5362  34404"
      ]
     },
     "execution_count": 156,
     "metadata": {},
     "output_type": "execute_result"
    }
   ],
   "source": [
    "#Creating the contingency table for comparing'marital' and 'loan'\n",
    "contingency_table = pd.crosstab(index=df_cleaned['marital'], columns=df_cleaned['loan'], margins=True)\n",
    "contingency_table"
   ]
  },
  {
   "cell_type": "code",
   "execution_count": 157,
   "metadata": {},
   "outputs": [
    {
     "data": {
      "text/plain": [
       "(0.27426516840179938, 0.99141430200064906, 4)"
      ]
     },
     "execution_count": 157,
     "metadata": {},
     "output_type": "execute_result"
    }
   ],
   "source": [
    "#Filtering out zero values\n",
    "contingency_table = contingency_table.loc[['married', 'single', 'All'], :]\n",
    "\n",
    "#Calculating chi-squared and p-value\n",
    "chi2, p, dof, ex =stats.chi2_contingency(contingency_table)\n",
    "chi2, p, dof"
   ]
  },
  {
   "cell_type": "code",
   "execution_count": 158,
   "metadata": {},
   "outputs": [
    {
     "data": {
      "text/html": [
       "<div>\n",
       "<style>\n",
       "    .dataframe thead tr:only-child th {\n",
       "        text-align: right;\n",
       "    }\n",
       "\n",
       "    .dataframe thead th {\n",
       "        text-align: left;\n",
       "    }\n",
       "\n",
       "    .dataframe tbody tr th {\n",
       "        vertical-align: top;\n",
       "    }\n",
       "</style>\n",
       "<table border=\"1\" class=\"dataframe\">\n",
       "  <thead>\n",
       "    <tr style=\"text-align: right;\">\n",
       "      <th>contact</th>\n",
       "      <th>cellular</th>\n",
       "      <th>telephone</th>\n",
       "      <th>All</th>\n",
       "    </tr>\n",
       "    <tr>\n",
       "      <th>marital</th>\n",
       "      <th></th>\n",
       "      <th></th>\n",
       "      <th></th>\n",
       "    </tr>\n",
       "  </thead>\n",
       "  <tbody>\n",
       "    <tr>\n",
       "      <th>married</th>\n",
       "      <td>12208</td>\n",
       "      <td>8800</td>\n",
       "      <td>21008</td>\n",
       "    </tr>\n",
       "    <tr>\n",
       "      <th>single</th>\n",
       "      <td>8670</td>\n",
       "      <td>4726</td>\n",
       "      <td>13396</td>\n",
       "    </tr>\n",
       "    <tr>\n",
       "      <th>All</th>\n",
       "      <td>20878</td>\n",
       "      <td>13526</td>\n",
       "      <td>34404</td>\n",
       "    </tr>\n",
       "  </tbody>\n",
       "</table>\n",
       "</div>"
      ],
      "text/plain": [
       "contact  cellular  telephone    All\n",
       "marital                            \n",
       "married     12208       8800  21008\n",
       "single       8670       4726  13396\n",
       "All         20878      13526  34404"
      ]
     },
     "execution_count": 158,
     "metadata": {},
     "output_type": "execute_result"
    }
   ],
   "source": [
    "#Creating the contingency table for comparing'marital' and 'contact'\n",
    "contingency_table = pd.crosstab(index=df_cleaned['marital'], columns=df_cleaned['contact'], margins=True)\n",
    "contingency_table"
   ]
  },
  {
   "cell_type": "code",
   "execution_count": 159,
   "metadata": {},
   "outputs": [
    {
     "data": {
      "text/plain": [
       "(149.78317319473658, 2.2656396272034556e-31, 4)"
      ]
     },
     "execution_count": 159,
     "metadata": {},
     "output_type": "execute_result"
    }
   ],
   "source": [
    "#Filtering out zero values\n",
    "contingency_table = contingency_table.loc[['married', 'single', 'All'], :]\n",
    "\n",
    "#Calculating chi-squared and p-value\n",
    "chi2, p, dof, ex =stats.chi2_contingency(contingency_table)\n",
    "chi2, p, dof"
   ]
  },
  {
   "cell_type": "code",
   "execution_count": 160,
   "metadata": {},
   "outputs": [
    {
     "data": {
      "text/html": [
       "<div>\n",
       "<style>\n",
       "    .dataframe thead tr:only-child th {\n",
       "        text-align: right;\n",
       "    }\n",
       "\n",
       "    .dataframe thead th {\n",
       "        text-align: left;\n",
       "    }\n",
       "\n",
       "    .dataframe tbody tr th {\n",
       "        vertical-align: top;\n",
       "    }\n",
       "</style>\n",
       "<table border=\"1\" class=\"dataframe\">\n",
       "  <thead>\n",
       "    <tr style=\"text-align: right;\">\n",
       "      <th>housing</th>\n",
       "      <th>no</th>\n",
       "      <th>yes</th>\n",
       "      <th>All</th>\n",
       "    </tr>\n",
       "    <tr>\n",
       "      <th>education</th>\n",
       "      <th></th>\n",
       "      <th></th>\n",
       "      <th></th>\n",
       "    </tr>\n",
       "  </thead>\n",
       "  <tbody>\n",
       "    <tr>\n",
       "      <th>basic_school</th>\n",
       "      <td>5186</td>\n",
       "      <td>5735</td>\n",
       "      <td>10921</td>\n",
       "    </tr>\n",
       "    <tr>\n",
       "      <th>high.school</th>\n",
       "      <td>3896</td>\n",
       "      <td>4298</td>\n",
       "      <td>8194</td>\n",
       "    </tr>\n",
       "    <tr>\n",
       "      <th>professional.course</th>\n",
       "      <td>2074</td>\n",
       "      <td>2552</td>\n",
       "      <td>4626</td>\n",
       "    </tr>\n",
       "    <tr>\n",
       "      <th>university.degree</th>\n",
       "      <td>4863</td>\n",
       "      <td>5800</td>\n",
       "      <td>10663</td>\n",
       "    </tr>\n",
       "    <tr>\n",
       "      <th>All</th>\n",
       "      <td>16019</td>\n",
       "      <td>18385</td>\n",
       "      <td>34404</td>\n",
       "    </tr>\n",
       "  </tbody>\n",
       "</table>\n",
       "</div>"
      ],
      "text/plain": [
       "housing                 no    yes    All\n",
       "education                               \n",
       "basic_school          5186   5735  10921\n",
       "high.school           3896   4298   8194\n",
       "professional.course   2074   2552   4626\n",
       "university.degree     4863   5800  10663\n",
       "All                  16019  18385  34404"
      ]
     },
     "execution_count": 160,
     "metadata": {},
     "output_type": "execute_result"
    }
   ],
   "source": [
    "#Creating the contingency table for comparing 'education' and 'housing'\n",
    "contingency_table = pd.crosstab(index=df_cleaned['education'], columns=df_cleaned['housing'], margins=True)\n",
    "contingency_table"
   ]
  },
  {
   "cell_type": "code",
   "execution_count": 161,
   "metadata": {},
   "outputs": [
    {
     "data": {
      "text/plain": [
       "(16.414971729283764, 0.036811374730507836, 8)"
      ]
     },
     "execution_count": 161,
     "metadata": {},
     "output_type": "execute_result"
    }
   ],
   "source": [
    "#Calculating chi-squared and p-value\n",
    "chi2, p, dof, ex =stats.chi2_contingency(contingency_table)\n",
    "chi2, p, dof"
   ]
  },
  {
   "cell_type": "code",
   "execution_count": 162,
   "metadata": {},
   "outputs": [
    {
     "data": {
      "text/html": [
       "<div>\n",
       "<style>\n",
       "    .dataframe thead tr:only-child th {\n",
       "        text-align: right;\n",
       "    }\n",
       "\n",
       "    .dataframe thead th {\n",
       "        text-align: left;\n",
       "    }\n",
       "\n",
       "    .dataframe tbody tr th {\n",
       "        vertical-align: top;\n",
       "    }\n",
       "</style>\n",
       "<table border=\"1\" class=\"dataframe\">\n",
       "  <thead>\n",
       "    <tr style=\"text-align: right;\">\n",
       "      <th>loan</th>\n",
       "      <th>no</th>\n",
       "      <th>yes</th>\n",
       "      <th>All</th>\n",
       "    </tr>\n",
       "    <tr>\n",
       "      <th>education</th>\n",
       "      <th></th>\n",
       "      <th></th>\n",
       "      <th></th>\n",
       "    </tr>\n",
       "  </thead>\n",
       "  <tbody>\n",
       "    <tr>\n",
       "      <th>basic_school</th>\n",
       "      <td>9284</td>\n",
       "      <td>1637</td>\n",
       "      <td>10921</td>\n",
       "    </tr>\n",
       "    <tr>\n",
       "      <th>high.school</th>\n",
       "      <td>6915</td>\n",
       "      <td>1279</td>\n",
       "      <td>8194</td>\n",
       "    </tr>\n",
       "    <tr>\n",
       "      <th>professional.course</th>\n",
       "      <td>3907</td>\n",
       "      <td>719</td>\n",
       "      <td>4626</td>\n",
       "    </tr>\n",
       "    <tr>\n",
       "      <th>university.degree</th>\n",
       "      <td>8936</td>\n",
       "      <td>1727</td>\n",
       "      <td>10663</td>\n",
       "    </tr>\n",
       "    <tr>\n",
       "      <th>All</th>\n",
       "      <td>29042</td>\n",
       "      <td>5362</td>\n",
       "      <td>34404</td>\n",
       "    </tr>\n",
       "  </tbody>\n",
       "</table>\n",
       "</div>"
      ],
      "text/plain": [
       "loan                    no   yes    All\n",
       "education                              \n",
       "basic_school          9284  1637  10921\n",
       "high.school           6915  1279   8194\n",
       "professional.course   3907   719   4626\n",
       "university.degree     8936  1727  10663\n",
       "All                  29042  5362  34404"
      ]
     },
     "execution_count": 162,
     "metadata": {},
     "output_type": "execute_result"
    }
   ],
   "source": [
    "#Creating the contingency table for comparing 'education' and 'loan'\n",
    "contingency_table = pd.crosstab(index=df_cleaned['education'], columns=df_cleaned['loan'], margins=True)\n",
    "contingency_table"
   ]
  },
  {
   "cell_type": "code",
   "execution_count": 163,
   "metadata": {},
   "outputs": [
    {
     "data": {
      "text/plain": [
       "(5.9814909326695673, 0.6493052813528668, 8)"
      ]
     },
     "execution_count": 163,
     "metadata": {},
     "output_type": "execute_result"
    }
   ],
   "source": [
    "#Calculating chi-squared and p-value\n",
    "chi2, p, dof, ex =stats.chi2_contingency(contingency_table)\n",
    "chi2, p, dof"
   ]
  },
  {
   "cell_type": "code",
   "execution_count": 164,
   "metadata": {},
   "outputs": [
    {
     "data": {
      "text/html": [
       "<div>\n",
       "<style>\n",
       "    .dataframe thead tr:only-child th {\n",
       "        text-align: right;\n",
       "    }\n",
       "\n",
       "    .dataframe thead th {\n",
       "        text-align: left;\n",
       "    }\n",
       "\n",
       "    .dataframe tbody tr th {\n",
       "        vertical-align: top;\n",
       "    }\n",
       "</style>\n",
       "<table border=\"1\" class=\"dataframe\">\n",
       "  <thead>\n",
       "    <tr style=\"text-align: right;\">\n",
       "      <th>contact</th>\n",
       "      <th>cellular</th>\n",
       "      <th>telephone</th>\n",
       "      <th>All</th>\n",
       "    </tr>\n",
       "    <tr>\n",
       "      <th>education</th>\n",
       "      <th></th>\n",
       "      <th></th>\n",
       "      <th></th>\n",
       "    </tr>\n",
       "  </thead>\n",
       "  <tbody>\n",
       "    <tr>\n",
       "      <th>basic_school</th>\n",
       "      <td>5782</td>\n",
       "      <td>5139</td>\n",
       "      <td>10921</td>\n",
       "    </tr>\n",
       "    <tr>\n",
       "      <th>high.school</th>\n",
       "      <td>4800</td>\n",
       "      <td>3394</td>\n",
       "      <td>8194</td>\n",
       "    </tr>\n",
       "    <tr>\n",
       "      <th>professional.course</th>\n",
       "      <td>2952</td>\n",
       "      <td>1674</td>\n",
       "      <td>4626</td>\n",
       "    </tr>\n",
       "    <tr>\n",
       "      <th>university.degree</th>\n",
       "      <td>7344</td>\n",
       "      <td>3319</td>\n",
       "      <td>10663</td>\n",
       "    </tr>\n",
       "    <tr>\n",
       "      <th>All</th>\n",
       "      <td>20878</td>\n",
       "      <td>13526</td>\n",
       "      <td>34404</td>\n",
       "    </tr>\n",
       "  </tbody>\n",
       "</table>\n",
       "</div>"
      ],
      "text/plain": [
       "contact              cellular  telephone    All\n",
       "education                                      \n",
       "basic_school             5782       5139  10921\n",
       "high.school              4800       3394   8194\n",
       "professional.course      2952       1674   4626\n",
       "university.degree        7344       3319  10663\n",
       "All                     20878      13526  34404"
      ]
     },
     "execution_count": 164,
     "metadata": {},
     "output_type": "execute_result"
    }
   ],
   "source": [
    "#Creating the contingency table for comparing 'education' and 'contact'\n",
    "contingency_table = pd.crosstab(index=df_cleaned['education'], columns=df_cleaned['contact'], margins=True)\n",
    "contingency_table"
   ]
  },
  {
   "cell_type": "code",
   "execution_count": 165,
   "metadata": {},
   "outputs": [
    {
     "data": {
      "text/plain": [
       "(608.18924896371664, 4.0602152260228977e-126, 8)"
      ]
     },
     "execution_count": 165,
     "metadata": {},
     "output_type": "execute_result"
    }
   ],
   "source": [
    "#Calculating chi-squared and p-value\n",
    "chi2, p, dof, ex =stats.chi2_contingency(contingency_table)\n",
    "chi2, p, dof"
   ]
  },
  {
   "cell_type": "code",
   "execution_count": 166,
   "metadata": {},
   "outputs": [
    {
     "data": {
      "text/html": [
       "<div>\n",
       "<style>\n",
       "    .dataframe thead tr:only-child th {\n",
       "        text-align: right;\n",
       "    }\n",
       "\n",
       "    .dataframe thead th {\n",
       "        text-align: left;\n",
       "    }\n",
       "\n",
       "    .dataframe tbody tr th {\n",
       "        vertical-align: top;\n",
       "    }\n",
       "</style>\n",
       "<table border=\"1\" class=\"dataframe\">\n",
       "  <thead>\n",
       "    <tr style=\"text-align: right;\">\n",
       "      <th>loan</th>\n",
       "      <th>no</th>\n",
       "      <th>yes</th>\n",
       "      <th>All</th>\n",
       "    </tr>\n",
       "    <tr>\n",
       "      <th>housing</th>\n",
       "      <th></th>\n",
       "      <th></th>\n",
       "      <th></th>\n",
       "    </tr>\n",
       "  </thead>\n",
       "  <tbody>\n",
       "    <tr>\n",
       "      <th>no</th>\n",
       "      <td>13814</td>\n",
       "      <td>2205</td>\n",
       "      <td>16019</td>\n",
       "    </tr>\n",
       "    <tr>\n",
       "      <th>yes</th>\n",
       "      <td>15228</td>\n",
       "      <td>3157</td>\n",
       "      <td>18385</td>\n",
       "    </tr>\n",
       "    <tr>\n",
       "      <th>All</th>\n",
       "      <td>29042</td>\n",
       "      <td>5362</td>\n",
       "      <td>34404</td>\n",
       "    </tr>\n",
       "  </tbody>\n",
       "</table>\n",
       "</div>"
      ],
      "text/plain": [
       "loan        no   yes    All\n",
       "housing                    \n",
       "no       13814  2205  16019\n",
       "yes      15228  3157  18385\n",
       "All      29042  5362  34404"
      ]
     },
     "execution_count": 166,
     "metadata": {},
     "output_type": "execute_result"
    }
   ],
   "source": [
    "#Creating the contingency table for comparing 'housing' and 'loan'\n",
    "contingency_table = pd.crosstab(index=df_cleaned['housing'], columns=df_cleaned['loan'], margins=True)\n",
    "contingency_table"
   ]
  },
  {
   "cell_type": "code",
   "execution_count": 167,
   "metadata": {},
   "outputs": [
    {
     "data": {
      "text/plain": [
       "(75.513259773675955, 1.5518508930673284e-15, 4)"
      ]
     },
     "execution_count": 167,
     "metadata": {},
     "output_type": "execute_result"
    }
   ],
   "source": [
    "#Filtering out zero values\n",
    "contingency_table = contingency_table.loc[['no', 'yes', 'All'], :]\n",
    "\n",
    "#Calculating chi-squared and p-value\n",
    "chi2, p, dof, ex =stats.chi2_contingency(contingency_table)\n",
    "chi2, p, dof"
   ]
  },
  {
   "cell_type": "code",
   "execution_count": 216,
   "metadata": {},
   "outputs": [
    {
     "data": {
      "text/html": [
       "<div>\n",
       "<style>\n",
       "    .dataframe thead tr:only-child th {\n",
       "        text-align: right;\n",
       "    }\n",
       "\n",
       "    .dataframe thead th {\n",
       "        text-align: left;\n",
       "    }\n",
       "\n",
       "    .dataframe tbody tr th {\n",
       "        vertical-align: top;\n",
       "    }\n",
       "</style>\n",
       "<table border=\"1\" class=\"dataframe\">\n",
       "  <thead>\n",
       "    <tr style=\"text-align: right;\">\n",
       "      <th>contact</th>\n",
       "      <th>cellular</th>\n",
       "      <th>telephone</th>\n",
       "      <th>All</th>\n",
       "    </tr>\n",
       "    <tr>\n",
       "      <th>housing</th>\n",
       "      <th></th>\n",
       "      <th></th>\n",
       "      <th></th>\n",
       "    </tr>\n",
       "  </thead>\n",
       "  <tbody>\n",
       "    <tr>\n",
       "      <th>no</th>\n",
       "      <td>8997</td>\n",
       "      <td>7022</td>\n",
       "      <td>16019</td>\n",
       "    </tr>\n",
       "    <tr>\n",
       "      <th>yes</th>\n",
       "      <td>11881</td>\n",
       "      <td>6504</td>\n",
       "      <td>18385</td>\n",
       "    </tr>\n",
       "    <tr>\n",
       "      <th>All</th>\n",
       "      <td>20878</td>\n",
       "      <td>13526</td>\n",
       "      <td>34404</td>\n",
       "    </tr>\n",
       "  </tbody>\n",
       "</table>\n",
       "</div>"
      ],
      "text/plain": [
       "contact  cellular  telephone    All\n",
       "housing                            \n",
       "no           8997       7022  16019\n",
       "yes         11881       6504  18385\n",
       "All         20878      13526  34404"
      ]
     },
     "execution_count": 216,
     "metadata": {},
     "output_type": "execute_result"
    }
   ],
   "source": [
    "#Creating the contingency table for comparing 'housing' and 'contact'\n",
    "contingency_table = pd.crosstab(index=df_cleaned['housing'], columns=df_cleaned['contact'], margins=True)\n",
    "contingency_table"
   ]
  },
  {
   "cell_type": "code",
   "execution_count": 169,
   "metadata": {},
   "outputs": [
    {
     "data": {
      "text/plain": [
       "(256.72320246552039, 2.3177696887187032e-54, 4)"
      ]
     },
     "execution_count": 169,
     "metadata": {},
     "output_type": "execute_result"
    }
   ],
   "source": [
    "#Filtering out zero values\n",
    "contingency_table = contingency_table.loc[['no', 'yes', 'All'], :]\n",
    "\n",
    "#Calculating chi-squared and p-value\n",
    "chi2, p, dof, ex =stats.chi2_contingency(contingency_table)\n",
    "chi2, p, dof"
   ]
  },
  {
   "cell_type": "code",
   "execution_count": 170,
   "metadata": {},
   "outputs": [
    {
     "data": {
      "text/html": [
       "<div>\n",
       "<style>\n",
       "    .dataframe thead tr:only-child th {\n",
       "        text-align: right;\n",
       "    }\n",
       "\n",
       "    .dataframe thead th {\n",
       "        text-align: left;\n",
       "    }\n",
       "\n",
       "    .dataframe tbody tr th {\n",
       "        vertical-align: top;\n",
       "    }\n",
       "</style>\n",
       "<table border=\"1\" class=\"dataframe\">\n",
       "  <thead>\n",
       "    <tr style=\"text-align: right;\">\n",
       "      <th>contact</th>\n",
       "      <th>cellular</th>\n",
       "      <th>telephone</th>\n",
       "      <th>All</th>\n",
       "    </tr>\n",
       "    <tr>\n",
       "      <th>loan</th>\n",
       "      <th></th>\n",
       "      <th></th>\n",
       "      <th></th>\n",
       "    </tr>\n",
       "  </thead>\n",
       "  <tbody>\n",
       "    <tr>\n",
       "      <th>no</th>\n",
       "      <td>17552</td>\n",
       "      <td>11490</td>\n",
       "      <td>29042</td>\n",
       "    </tr>\n",
       "    <tr>\n",
       "      <th>yes</th>\n",
       "      <td>3326</td>\n",
       "      <td>2036</td>\n",
       "      <td>5362</td>\n",
       "    </tr>\n",
       "    <tr>\n",
       "      <th>All</th>\n",
       "      <td>20878</td>\n",
       "      <td>13526</td>\n",
       "      <td>34404</td>\n",
       "    </tr>\n",
       "  </tbody>\n",
       "</table>\n",
       "</div>"
      ],
      "text/plain": [
       "contact  cellular  telephone    All\n",
       "loan                               \n",
       "no          17552      11490  29042\n",
       "yes          3326       2036   5362\n",
       "All         20878      13526  34404"
      ]
     },
     "execution_count": 170,
     "metadata": {},
     "output_type": "execute_result"
    }
   ],
   "source": [
    "#Creating the contingency table for comparing 'loan' and 'contact'\n",
    "contingency_table = pd.crosstab(index=df_cleaned['loan'], columns=df_cleaned['contact'], margins=True)\n",
    "contingency_table"
   ]
  },
  {
   "cell_type": "code",
   "execution_count": 171,
   "metadata": {},
   "outputs": [
    {
     "data": {
      "text/plain": [
       "(4.8112116347748017, 0.30722251982474919, 4)"
      ]
     },
     "execution_count": 171,
     "metadata": {},
     "output_type": "execute_result"
    }
   ],
   "source": [
    "#Filtering out zero values\n",
    "contingency_table = contingency_table.loc[['no', 'yes', 'All'], :]\n",
    "\n",
    "#Calculating chi-squared and p-value\n",
    "chi2, p, dof, ex =stats.chi2_contingency(contingency_table)\n",
    "chi2, p, dof"
   ]
  },
  {
   "cell_type": "markdown",
   "metadata": {},
   "source": [
    "Based on the results of the chi-squared tests, we conclude that:\n",
    "\n",
    "- Job level depends on the level of education\n",
    "- Job level is independend from the absence or presence of a housing loan\n",
    "- Job level depends on the marital status\n",
    "- Job level is independend from the absence or presence of a personal loan\n",
    "- Job level depends on the type of contact\n",
    "- Marital status depends on the level of education\n",
    "- Marital status is independend from the absence or presence of a housing loan\n",
    "- Marital status is independend from the absence or presence of a personal loan\n",
    "- Marital status depends on the type of contact\n",
    "- Level of education is independend from the absence or presence of a housing loan\n",
    "- Level of education is independend from the absence or presence of a personal loan\n",
    "- Level of education depends on the type of contact\n",
    "- Absence or presence of a housing loan depends on the absence or presence of a personal loan\n",
    "- Absence or presence of a housing loan depends on the type of contact\n",
    "- Absence or presence of a personal loan is independent from the type of contact"
   ]
  },
  {
   "cell_type": "markdown",
   "metadata": {},
   "source": [
    "## Two-sample z-test\n",
    "\n",
    "Let's also perform a two-sample z-test to evaluate if the groups within our categorical variables differ significantly in whether they subscribe for the deposit or not. To do that, we will need to group different levels of each categorical variable into two groups and calculate the z-score and the p-value. The null hypothesis for the test will be that there's no difference between those two groups with respect to the subscription to the deposit. \n",
    "\n",
    "The formula for the two-sample $z$-test:\n",
    "\n",
    "$$z = \\frac{\\left( \\hat{p}_1 - \\hat{p}_2 \\right) - 0}{\\sqrt{\\hat{p} (1 - \\hat{p)} \\left( \\frac{1}{n_1} + \\frac{1}{n_2}\\right)}}$$\n",
    "\n",
    "where the overall sample proportion is defined as\n",
    "\n",
    "$$\\hat{p} = \\frac{y_1 + y_2}{n_1 + n_2}$$\n",
    "\n",
    "The null and alternate hypotheses:\n",
    "\n",
    "$$H_0: p_1 = p_2$$\n",
    "$$H_A: p_1 \\ne p_2$$\n",
    "\n",
    "We'll use the 95% confidence level.\n",
    "\n",
    "We will need to test this hypothesis for the below categorical variables vs. variable 'y' (has the customer subscribed for a deposit). \n",
    "\n",
    "- 'job'               \n",
    "- 'marital'          \n",
    "- 'education'        \n",
    "- 'housing'           \n",
    "- 'loan'              \n",
    "- 'contact'           \n",
    "- 'month'             \n",
    "- 'day_of_week'       \n",
    "- 'poutcome' \n",
    "\n",
    "Let's first re-group the categories of each variable into two:"
   ]
  },
  {
   "cell_type": "code",
   "execution_count": 172,
   "metadata": {},
   "outputs": [
    {
     "data": {
      "text/plain": [
       "array(['services', 'administration_management', 'blue-collar',\n",
       "       'no_active_income', 'self-employed', 'student'], dtype=object)"
      ]
     },
     "execution_count": 172,
     "metadata": {},
     "output_type": "execute_result"
    }
   ],
   "source": [
    "#Defining the levels of the 'job' variable\n",
    "df_cleaned.job.unique()"
   ]
  },
  {
   "cell_type": "code",
   "execution_count": 173,
   "metadata": {
    "collapsed": true
   },
   "outputs": [],
   "source": [
    "#Re-grouping the job categories into two new categories\n",
    "df_grouped = df_cleaned.copy()\n",
    "df_grouped.job.replace(['services', 'blue-collar',\n",
    "       'no_active_income', 'self-employed', 'student'], 'lower salary', inplace=True)\n",
    "df_grouped.job.replace(['administration_management'], 'higher salary', inplace=True)"
   ]
  },
  {
   "cell_type": "code",
   "execution_count": 174,
   "metadata": {},
   "outputs": [
    {
     "data": {
      "text/plain": [
       "array(['married', 'single'], dtype=object)"
      ]
     },
     "execution_count": 174,
     "metadata": {},
     "output_type": "execute_result"
    }
   ],
   "source": [
    "#Defining the levels of the 'marital' variable\n",
    "df_grouped.marital.unique()"
   ]
  },
  {
   "cell_type": "code",
   "execution_count": 175,
   "metadata": {},
   "outputs": [
    {
     "data": {
      "text/plain": [
       "array(['basic_school', 'high.school', 'professional.course',\n",
       "       'university.degree'], dtype=object)"
      ]
     },
     "execution_count": 175,
     "metadata": {},
     "output_type": "execute_result"
    }
   ],
   "source": [
    "#Defining the levels of the 'education' variable\n",
    "df_grouped.education.unique()"
   ]
  },
  {
   "cell_type": "code",
   "execution_count": 176,
   "metadata": {
    "collapsed": true
   },
   "outputs": [],
   "source": [
    "#Re-grouping the education categories into two new categories\n",
    "df_grouped.education.replace('university.degree', 'university', inplace=True)\n",
    "df_grouped.education.replace(['basic_school', 'high.school', 'professional.course'], 'basic education', inplace=True)"
   ]
  },
  {
   "cell_type": "code",
   "execution_count": 177,
   "metadata": {},
   "outputs": [
    {
     "data": {
      "text/plain": [
       "array(['no', 'yes'], dtype=object)"
      ]
     },
     "execution_count": 177,
     "metadata": {},
     "output_type": "execute_result"
    }
   ],
   "source": [
    "#Defining the levels of the 'housing' variable\n",
    "df_grouped.housing.unique()"
   ]
  },
  {
   "cell_type": "code",
   "execution_count": 178,
   "metadata": {},
   "outputs": [
    {
     "data": {
      "text/plain": [
       "array(['no', 'yes'], dtype=object)"
      ]
     },
     "execution_count": 178,
     "metadata": {},
     "output_type": "execute_result"
    }
   ],
   "source": [
    "#Defining the levels of the 'loan' variable\n",
    "df_grouped.loan.unique()"
   ]
  },
  {
   "cell_type": "code",
   "execution_count": 179,
   "metadata": {},
   "outputs": [
    {
     "data": {
      "text/plain": [
       "array(['telephone', 'cellular'], dtype=object)"
      ]
     },
     "execution_count": 179,
     "metadata": {},
     "output_type": "execute_result"
    }
   ],
   "source": [
    "#Defining the levels of the 'contact' variable\n",
    "df_grouped.contact.unique()"
   ]
  },
  {
   "cell_type": "code",
   "execution_count": 180,
   "metadata": {},
   "outputs": [
    {
     "data": {
      "text/plain": [
       "array(['may', 'jun', 'jul', 'aug', 'oct', 'nov', 'dec', 'mar', 'apr', 'sep'], dtype=object)"
      ]
     },
     "execution_count": 180,
     "metadata": {},
     "output_type": "execute_result"
    }
   ],
   "source": [
    "#Defining the levels of the 'month' variable\n",
    "df_grouped.month.unique()"
   ]
  },
  {
   "cell_type": "code",
   "execution_count": 181,
   "metadata": {
    "collapsed": true
   },
   "outputs": [],
   "source": [
    "#Re-grouping the month categories into two new categories\n",
    "df_grouped.month.replace(['oct', 'nov', 'dec', 'sep'], 'autumn_winter', inplace=True)\n",
    "df_grouped.month.replace(['may', 'jun', 'jul', 'aug', 'mar', 'apr'], 'spring_summer', inplace=True)"
   ]
  },
  {
   "cell_type": "code",
   "execution_count": 182,
   "metadata": {},
   "outputs": [
    {
     "data": {
      "text/plain": [
       "array(['mon', 'tue', 'wed', 'thu', 'fri'], dtype=object)"
      ]
     },
     "execution_count": 182,
     "metadata": {},
     "output_type": "execute_result"
    }
   ],
   "source": [
    "#Defining the levels of the 'day_of_week' variable\n",
    "df_grouped.day_of_week.unique()"
   ]
  },
  {
   "cell_type": "code",
   "execution_count": 183,
   "metadata": {
    "collapsed": true
   },
   "outputs": [],
   "source": [
    "#Re-grouping the day of week categories into two new categories\n",
    "df_grouped.day_of_week.replace(['mon', 'tue', 'wed'], 'first_half', inplace=True)\n",
    "df_grouped.day_of_week.replace(['thu', 'fri'], 'second_half', inplace=True)"
   ]
  },
  {
   "cell_type": "code",
   "execution_count": 188,
   "metadata": {
    "collapsed": true
   },
   "outputs": [],
   "source": [
    "#Converting variable 'y' into ones and zeroes\n",
    "df_grouped.y.replace('no', 0, inplace=True)\n",
    "df_grouped.y.replace('yes', 1, inplace=True)"
   ]
  },
  {
   "cell_type": "markdown",
   "metadata": {
    "collapsed": true
   },
   "source": [
    "Next, let's do the two sample tests:"
   ]
  },
  {
   "cell_type": "code",
   "execution_count": 192,
   "metadata": {},
   "outputs": [
    {
     "name": "stdout",
     "output_type": "stream",
     "text": [
      "Difference in proportions between 'higher salary' and 'lower salary' groups: 0.022183774166319184\n",
      "Z score: 6.1879474663853635\n",
      "P-value: 6.095263287957264e-10\n"
     ]
    }
   ],
   "source": [
    "#Splitting the 'job' variable into two datasets\n",
    "a = df_grouped[df_grouped.job=='higher salary']\n",
    "b = df_grouped[df_grouped.job=='lower salary']\n",
    "\n",
    "n_a = len(a)\n",
    "n_b = len(b)\n",
    "\n",
    "#Calculating the proportions of two levels of the variable for the response variable 'y'\n",
    "prop_a = np.sum(a.y) / len(a)\n",
    "prop_b = np.sum(b.y) / len(b)\n",
    "\n",
    "#Calculating difference in proportions\n",
    "prop_diff = prop_a - prop_b\n",
    "\n",
    "#Calculating overall sample proportion\n",
    "p_hat = (np.sum(a.y) + np.sum(b.y)) / (len(a) + len(b))\n",
    "\n",
    "z = prop_diff / np.sqrt(p_hat * (1 - p_hat) * ((1 / n_a) + (1 / n_b)))\n",
    "\n",
    "#Calculating a 'two-tail' p-value\n",
    "p = stats.norm.cdf(-z) * 2\n",
    "\n",
    "print(\"Difference in proportions between 'higher salary' and 'lower salary' groups: {}\".format(prop_diff))\n",
    "print(\"Z score: {}\".format(z))\n",
    "print(\"P-value: {}\".format(p))"
   ]
  },
  {
   "cell_type": "markdown",
   "metadata": {},
   "source": [
    "The p-value is very small, so we reject the null-hypothesis that there's no difference between the level of salary with respect to the subscription to the deposit as a result of the marketing campaign. For the 95% level of confidence, the z-score should be 1.96 or higher or -1.96 or lower. Our z-score is substantially higher than 1.96, so we once again reject the null-hypothesis."
   ]
  },
  {
   "cell_type": "code",
   "execution_count": 203,
   "metadata": {},
   "outputs": [
    {
     "name": "stdout",
     "output_type": "stream",
     "text": [
      "Difference in proportions between 'married' and 'single' groups: -0.028898701047953515\n",
      "Z score: -8.355744991443245\n",
      "P-value: 6.502103737414796e-17\n"
     ]
    }
   ],
   "source": [
    "#Splitting the 'marital' variable into two datasets\n",
    "a = df_grouped[df_grouped.marital=='married']\n",
    "b = df_grouped[df_grouped.marital=='single']\n",
    "\n",
    "n_a = len(a)\n",
    "n_b = len(b)\n",
    "\n",
    "#Calculating the proportions of two levels of the variable for the response variable 'y'\n",
    "prop_a = np.sum(a.y) / len(a)\n",
    "prop_b = np.sum(b.y) / len(b)\n",
    "\n",
    "#Calculating difference in proportions\n",
    "prop_diff = prop_a - prop_b\n",
    "\n",
    "#Calculating overall sample proportion\n",
    "p_hat = (np.sum(a.y) + np.sum(b.y)) / (len(a) + len(b))\n",
    "\n",
    "z = prop_diff / np.sqrt(p_hat * (1 - p_hat) * ((1 / n_a) + (1 / n_b)))\n",
    "\n",
    "#Calculating a 'two-tail' p-value\n",
    "p = stats.norm.cdf(z) * 2\n",
    "\n",
    "print(\"Difference in proportions between 'married' and 'single' groups: {}\".format(prop_diff))\n",
    "print(\"Z score: {}\".format(z))\n",
    "print(\"P-value: {}\".format(p))"
   ]
  },
  {
   "cell_type": "markdown",
   "metadata": {},
   "source": [
    "The p-value is very small, so we reject the null-hypothesis that there's no difference between the marital status with respect to the subscription to the deposit as a result of the marketing campaign. For the 95% level of confidence, the z-score should be 1.96 or higher or -1.96 or lower. Our z-score is substantially higher than 1.96, so we once again reject the null-hypothesis."
   ]
  },
  {
   "cell_type": "code",
   "execution_count": 205,
   "metadata": {},
   "outputs": [
    {
     "name": "stdout",
     "output_type": "stream",
     "text": [
      "Difference in proportions between 'university' and 'basic education' groups: 0.037078030839096485\n",
      "Z score: 10.167935932827127\n",
      "P-value: 2.7568869150718265e-24\n"
     ]
    }
   ],
   "source": [
    "#Splitting the 'education' variable into two datasets\n",
    "a = df_grouped[df_grouped.education=='university']\n",
    "b = df_grouped[df_grouped.education=='basic education']\n",
    "\n",
    "n_a = len(a)\n",
    "n_b = len(b)\n",
    "\n",
    "#Calculating the proportions of two levels of the variable for the response variable 'y'\n",
    "prop_a = np.sum(a.y) / len(a)\n",
    "prop_b = np.sum(b.y) / len(b)\n",
    "\n",
    "#Calculating difference in proportions\n",
    "prop_diff = prop_a - prop_b\n",
    "\n",
    "#Calculating overall sample proportion\n",
    "p_hat = (np.sum(a.y) + np.sum(b.y)) / (len(a) + len(b))\n",
    "\n",
    "z = prop_diff / np.sqrt(p_hat * (1 - p_hat) * ((1 / n_a) + (1 / n_b)))\n",
    "\n",
    "#Calculating a 'two-tail' p-value\n",
    "p = stats.norm.cdf(-z) * 2\n",
    "\n",
    "print(\"Difference in proportions between 'university' and 'basic education' groups: {}\".format(prop_diff))\n",
    "print(\"Z score: {}\".format(z))\n",
    "print(\"P-value: {}\".format(p))"
   ]
  },
  {
   "cell_type": "markdown",
   "metadata": {},
   "source": [
    "The p-value is very small, so we reject the null-hypothesis that there's no difference between the level of education with respect to the subscription to the deposit as a result of the marketing campaign. For the 95% level of confidence, the z-score should be 1.96 or higher or -1.96 or lower. Our z-score is substantially higher than 1.96, so we once again reject the null-hypothesis."
   ]
  },
  {
   "cell_type": "code",
   "execution_count": 207,
   "metadata": {},
   "outputs": [
    {
     "name": "stdout",
     "output_type": "stream",
     "text": [
      "Difference in proportions between 'yes' and 'no' groups: 0.0073541510902634805\n",
      "Z score: 2.1752490973836656\n",
      "P-value: 0.029611454762112032\n"
     ]
    }
   ],
   "source": [
    "#Splitting the 'housing' variable into two datasets\n",
    "a = df_grouped[df_grouped.housing=='yes']\n",
    "b = df_grouped[df_grouped.housing=='no']\n",
    "\n",
    "n_a = len(a)\n",
    "n_b = len(b)\n",
    "\n",
    "#Calculating the proportions of two levels of the variable for the response variable 'y'\n",
    "prop_a = np.sum(a.y) / len(a)\n",
    "prop_b = np.sum(b.y) / len(b)\n",
    "\n",
    "#Calculating difference in proportions\n",
    "prop_diff = prop_a - prop_b\n",
    "\n",
    "#Calculating overall sample proportion\n",
    "p_hat = (np.sum(a.y) + np.sum(b.y)) / (len(a) + len(b))\n",
    "\n",
    "z = prop_diff / np.sqrt(p_hat * (1 - p_hat) * ((1 / n_a) + (1 / n_b)))\n",
    "\n",
    "#Calculating a 'two-tail' p-value\n",
    "p = stats.norm.cdf(-z) * 2\n",
    "\n",
    "print(\"Difference in proportions between 'yes' and 'no' groups: {}\".format(prop_diff))\n",
    "print(\"Z score: {}\".format(z))\n",
    "print(\"P-value: {}\".format(p))"
   ]
  },
  {
   "cell_type": "markdown",
   "metadata": {},
   "source": [
    "The p-value is small (though not as for the previous variables), so we reject the null-hypothesis that there's no difference between the presence or absence of the housing loan with respect to the subscription to the deposit as a result of the marketing campaign. For the 95% level of confidence, the z-score should be 1.96 or higher or -1.96 or lower. Our z-score is higher than 1.96, so we once again reject the null-hypothesis."
   ]
  },
  {
   "cell_type": "code",
   "execution_count": 209,
   "metadata": {},
   "outputs": [
    {
     "name": "stdout",
     "output_type": "stream",
     "text": [
      "Difference in proportions between 'yes' and 'no' groups: -0.002527381853766636\n",
      "Z score: -0.543593755960452\n",
      "P-value: 0.5867210575181085\n"
     ]
    }
   ],
   "source": [
    "#Splitting the 'loan' variable into two datasets\n",
    "a = df_grouped[df_grouped.loan=='yes']\n",
    "b = df_grouped[df_grouped.loan=='no']\n",
    "\n",
    "n_a = len(a)\n",
    "n_b = len(b)\n",
    "\n",
    "#Calculating the proportions of two levels of the variable for the response variable 'y'\n",
    "prop_a = np.sum(a.y) / len(a)\n",
    "prop_b = np.sum(b.y) / len(b)\n",
    "\n",
    "#Calculating difference in proportions\n",
    "prop_diff = prop_a - prop_b\n",
    "\n",
    "#Calculating overall sample proportion\n",
    "p_hat = (np.sum(a.y) + np.sum(b.y)) / (len(a) + len(b))\n",
    "\n",
    "z = prop_diff / np.sqrt(p_hat * (1 - p_hat) * ((1 / n_a) + (1 / n_b)))\n",
    "\n",
    "#Calculating a 'two-tail' p-value\n",
    "p = stats.norm.cdf(z) * 2\n",
    "\n",
    "print(\"Difference in proportions between 'yes' and 'no' groups: {}\".format(prop_diff))\n",
    "print(\"Z score: {}\".format(z))\n",
    "print(\"P-value: {}\".format(p))"
   ]
  },
  {
   "cell_type": "markdown",
   "metadata": {},
   "source": [
    "The p-value is very high, so we fail to reject the null-hypothesis that there's no difference between the absence or presence of a personal loan with respect to the subscription to the deposit as a result of the marketing campaign. There's no evidence of statistically significant difference for the people with and without personal loan.\n",
    "\n",
    "For the 95% level of confidence, the z-score should be 1.96 or higher or -1.96 or lower. Our z-score is lower than 1.96, so we once again fail to reject the null-hypothesis."
   ]
  },
  {
   "cell_type": "code",
   "execution_count": 210,
   "metadata": {},
   "outputs": [
    {
     "name": "stdout",
     "output_type": "stream",
     "text": [
      "Difference in proportions between 'telephone' and 'cellular' groups: -0.0963546387802868\n",
      "Z score: -27.90799888610296\n",
      "P-value: 2.1337168339064525e-171\n"
     ]
    }
   ],
   "source": [
    "#Splitting the 'contact' variable into two datasets\n",
    "a = df_grouped[df_grouped.contact=='telephone']\n",
    "b = df_grouped[df_grouped.contact=='cellular']\n",
    "\n",
    "n_a = len(a)\n",
    "n_b = len(b)\n",
    "\n",
    "#Calculating the proportions of two levels of the variable for the response variable 'y'\n",
    "prop_a = np.sum(a.y) / len(a)\n",
    "prop_b = np.sum(b.y) / len(b)\n",
    "\n",
    "#Calculating difference in proportions\n",
    "prop_diff = prop_a - prop_b\n",
    "\n",
    "#Calculating overall sample proportion\n",
    "p_hat = (np.sum(a.y) + np.sum(b.y)) / (len(a) + len(b))\n",
    "\n",
    "z = prop_diff / np.sqrt(p_hat * (1 - p_hat) * ((1 / n_a) + (1 / n_b)))\n",
    "\n",
    "#Calculating a 'two-tail' p-value\n",
    "p = stats.norm.cdf(z) * 2\n",
    "\n",
    "print(\"Difference in proportions between 'telephone' and 'cellular' groups: {}\".format(prop_diff))\n",
    "print(\"Z score: {}\".format(z))\n",
    "print(\"P-value: {}\".format(p))"
   ]
  },
  {
   "cell_type": "markdown",
   "metadata": {},
   "source": [
    "The p-value is extremely small, so we reject the null-hypothesis that there's no difference between the way of contacting the respondent with respect to the subscription to the deposit as a result of the marketing campaign. For the 95% level of confidence, the z-score should be 1.96 or higher or -1.96 or lower. Our z-score is significantly higher than 1.96, so we once again reject the null-hypothesis."
   ]
  },
  {
   "cell_type": "code",
   "execution_count": 213,
   "metadata": {},
   "outputs": [
    {
     "name": "stdout",
     "output_type": "stream",
     "text": [
      "Difference in proportions between'autumn_winter' and 'spring_summer' groups: 0.10589917847856661\n",
      "Z score: 20.51134214462948\n",
      "P-value: 1.7052352137787725e-93\n"
     ]
    }
   ],
   "source": [
    "#Splitting the 'month' variable into two datasets\n",
    "a = df_grouped[df_grouped.month=='autumn_winter']\n",
    "b = df_grouped[df_grouped.month=='spring_summer']\n",
    "\n",
    "n_a = len(a)\n",
    "n_b = len(b)\n",
    "\n",
    "#Calculating the proportions of two levels of the variable for the response variable 'y'\n",
    "prop_a = np.sum(a.y) / len(a)\n",
    "prop_b = np.sum(b.y) / len(b)\n",
    "\n",
    "#Calculating difference in proportions\n",
    "prop_diff = prop_a - prop_b\n",
    "\n",
    "#Calculating overall sample proportion\n",
    "p_hat = (np.sum(a.y) + np.sum(b.y)) / (len(a) + len(b))\n",
    "\n",
    "z = prop_diff / np.sqrt(p_hat * (1 - p_hat) * ((1 / n_a) + (1 / n_b)))\n",
    "\n",
    "#Calculating a 'two-tail' p-value\n",
    "p = stats.norm.cdf(-z) * 2\n",
    "\n",
    "print(\"Difference in proportions between'autumn_winter' and 'spring_summer' groups: {}\".format(prop_diff))\n",
    "print(\"Z score: {}\".format(z))\n",
    "print(\"P-value: {}\".format(p))"
   ]
  },
  {
   "cell_type": "markdown",
   "metadata": {},
   "source": [
    "The p-value is extremely small, so we reject the null-hypothesis that there's no difference between the season of the year with respect to the subscription to the deposit as a result of the marketing campaign. For the 95% level of confidence, the z-score should be 1.96 or higher or -1.96 or lower. Our z-score is significantly higher than 1.96, so we once again reject the null-hypothesis."
   ]
  },
  {
   "cell_type": "code",
   "execution_count": 215,
   "metadata": {},
   "outputs": [
    {
     "name": "stdout",
     "output_type": "stream",
     "text": [
      "Difference in proportions between 'first_half' and 'second_half' groups: -0.005319369704561025\n",
      "Z score: -1.5430784108976967\n",
      "P-value: 0.12281175219974018\n"
     ]
    }
   ],
   "source": [
    "#Splitting the 'day_of_week' variable into two datasets\n",
    "a = df_grouped[df_grouped.day_of_week=='first_half']\n",
    "b = df_grouped[df_grouped.day_of_week=='second_half']\n",
    "\n",
    "n_a = len(a)\n",
    "n_b = len(b)\n",
    "\n",
    "#Calculating the proportions of two levels of the variable for the response variable 'y'\n",
    "prop_a = np.sum(a.y) / len(a)\n",
    "prop_b = np.sum(b.y) / len(b)\n",
    "\n",
    "#Calculating difference in proportions\n",
    "prop_diff = prop_a - prop_b\n",
    "\n",
    "#Calculating overall sample proportion\n",
    "p_hat = (np.sum(a.y) + np.sum(b.y)) / (len(a) + len(b))\n",
    "\n",
    "z = prop_diff / np.sqrt(p_hat * (1 - p_hat) * ((1 / n_a) + (1 / n_b)))\n",
    "\n",
    "#Calculating a 'two-tail' p-value\n",
    "p = stats.norm.cdf(z) * 2\n",
    "\n",
    "print(\"Difference in proportions between 'first_half' and 'second_half' groups: {}\".format(prop_diff))\n",
    "print(\"Z score: {}\".format(z))\n",
    "print(\"P-value: {}\".format(p))"
   ]
  },
  {
   "cell_type": "markdown",
   "metadata": {},
   "source": [
    "The p-value is high, so we fail to reject the null-hypothesis that there's no difference between the two parts of the week with respect to the subscription to the deposit as a result of the marketing campaign. There's no evidence of statistically significant difference for the rates of deposit subscription for the first or the second half of the week.\n",
    "\n",
    "For the 95% level of confidence, the z-score should be 1.96 or higher or -1.96 or lower. Our z-score is lower than 1.96, so we once again fail to reject the null-hypothesis."
   ]
  }
 ],
 "metadata": {
  "kernelspec": {
   "display_name": "Python [default]",
   "language": "python",
   "name": "python3"
  },
  "language_info": {
   "codemirror_mode": {
    "name": "ipython",
    "version": 3
   },
   "file_extension": ".py",
   "mimetype": "text/x-python",
   "name": "python",
   "nbconvert_exporter": "python",
   "pygments_lexer": "ipython3",
   "version": "3.5.3"
  }
 },
 "nbformat": 4,
 "nbformat_minor": 2
}
