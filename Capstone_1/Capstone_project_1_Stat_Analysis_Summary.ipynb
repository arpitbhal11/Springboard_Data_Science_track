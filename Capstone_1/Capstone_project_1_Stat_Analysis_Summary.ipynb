{
 "cells": [
  {
   "cell_type": "markdown",
   "metadata": {},
   "source": [
    "# Capstone Project 1 - Statistical Analysis - Summary"
   ]
  },
  {
   "cell_type": "markdown",
   "metadata": {},
   "source": [
    "## Approach\n",
    "\n",
    "First, I looked at the heatmap of the numeric variables to identify how they correlate, which were mostly the variables showing the current strength of economy. The economic indicators demonstrated a strong correlation with each other. Additionally, the 'previous' and 'pdays' variables demonstrated a strong negative correlation, as expected, since the largest value of 'pdays' (999) corresponds to the smallest value of 'previous' (0)."
   ]
  },
  {
   "cell_type": "markdown",
   "metadata": {},
   "source": [
    "I tested the statistical significance of the strongly correlated variables representing the state of economy, i.e. of the below pairs using permutation:\n",
    "\n",
    "- 'emp.var.rate' - 'cons.price.idx'\n",
    "- 'emp.var.rate' - 'euribor3m'\n",
    "- 'emp.var.rate' - 'nr.employed'\n",
    "- 'cons.price.idx' - 'euribor3m'\n",
    "- 'cons.price.idx' - 'nr.employed'\n",
    "- 'euribor3m' - 'nr.employed'\n",
    "\n",
    "Additionally, I checked if the categorical variables were independent of each other using a chi-square test with a 95% level of confidence. I checked the following pairs (it didn't make much sense to do a chi-square test for days of the week or months, and the dependence/independence of the outcome of the previous campaign should have been checked by a more comprehensive method, like logistic regression).\n",
    "\n",
    "- 'job' - 'marital'\n",
    "- 'job' - 'education'\n",
    "- 'job' - 'housing'\n",
    "- 'job' - 'loan'\n",
    "- 'job' - 'contact'\n",
    "- 'marital' - 'education'\n",
    "- 'marital' - 'housing'\n",
    "- 'marital' - 'loan'\n",
    "- 'marital' - 'contact'\n",
    "- 'education' - 'housing'\n",
    "- 'education' - 'loan'\n",
    "- 'education' - 'contact'\n",
    "- 'housing' - 'loan'\n",
    "- 'housing' - 'contact'\n",
    "- 'loan' - 'contact'  \n",
    "\n",
    "Finally, I performed a two-sample z-test to evaluate if the groups within our categorical variables differed significantly in whether they subscribe for the deposit or not. To do that, I grouped different levels of each categorical variable into two groups and calculated the z-score and the p-value. The null hypothesis for the test was that there's no difference between those two groups with respect to the subscription to the deposit. \n",
    "\n",
    "The detailed statistical analysis can be found [here](Capstone_project_1_stat_analysis.ipynb)."
   ]
  },
  {
   "cell_type": "markdown",
   "metadata": {},
   "source": [
    "## Conclusions"
   ]
  },
  {
   "cell_type": "markdown",
   "metadata": {},
   "source": [
    "1) All correlations between the pairs of the numeric variables are statistically significant, since the p-values are very close to zero. For two of the pairs, though - namely, 'cons.price.idx' - 'euribor3m' and 'cons.price.idx' - 'nr.employed' - the correlation coefficient isn't high. We can potentially combine these variables into one weighted variable that would represent the state of the economy.\n",
    "\n",
    "2) Bootstrapping of the mean age of the dataset demonstrated that the mean of our dataset is very close to the mean of the sampling distribution of the bootstrapped samples' means. Hence, our dataset represents the overall population well, and there's no skew towards any particular age.\n",
    "\n",
    "3) Based on the results of the chi-squared tests, we conclude that:\n",
    "\n",
    "- Job level depends on the level of education\n",
    "- Job level is independend from the absence or presence of a housing loan\n",
    "- Job level depends on the marital status\n",
    "- Job level is independend from the absence or presence of a personal loan\n",
    "- Job level depends on the type of contact\n",
    "- Marital status depends on the level of education\n",
    "- Marital status is independend from the absence or presence of a housing loan\n",
    "- Marital status is independend from the absence or presence of a personal loan\n",
    "- Marital status depends on the type of contact\n",
    "- Level of education is independend from the absence or presence of a housing loan\n",
    "- Level of education is independend from the absence or presence of a personal loan\n",
    "- Level of education depends on the type of contact\n",
    "- Absence or presence of a housing loan depends on the absence or presence of a personal loan\n",
    "- Absence or presence of a housing loan depends on the type of contact\n",
    "- Absence or presence of a personal loan is independent from the type of contact\n",
    "\n",
    "4) Based on the results of the two-sample z-test, we conclude that:\n",
    "\n",
    "- The subscription to deposit is different for different levels of salary\n",
    "- The subscription to deposit is different for different marital statuses\n",
    "- The subscription to deposit is different for different levels of education\n",
    "- The subscription to deposit is different for people with and without a housing loan\n",
    "- The subscription to deposit is the same for people with and without a personal loan\n",
    "- The subscription to deposit is different for different modes of contact\n",
    "- The subscription to deposit is different for different seasons of the year\n",
    "- The subscription to deposit is the same for the first and the second half of the week"
   ]
  }
 ],
 "metadata": {
  "kernelspec": {
   "display_name": "Python [default]",
   "language": "python",
   "name": "python3"
  },
  "language_info": {
   "codemirror_mode": {
    "name": "ipython",
    "version": 3
   },
   "file_extension": ".py",
   "mimetype": "text/x-python",
   "name": "python",
   "nbconvert_exporter": "python",
   "pygments_lexer": "ipython3",
   "version": "3.5.3"
  }
 },
 "nbformat": 4,
 "nbformat_minor": 2
}
