{
 "cells": [
  {
   "cell_type": "markdown",
   "metadata": {},
   "source": [
    "# What is the True Normal Human Body Temperature? \n",
    "\n",
    "#### Background\n",
    "\n",
    "The mean normal body temperature was held to be 37$^{\\circ}$C or 98.6$^{\\circ}$F for more than 120 years since it was first conceptualized and reported by Carl Wunderlich in a famous 1868 book. But, is this value statistically correct?"
   ]
  },
  {
   "cell_type": "markdown",
   "metadata": {},
   "source": [
    "<h3>Exercises</h3>\n",
    "\n",
    "<p>In this exercise, you will analyze a dataset of human body temperatures and employ the concepts of hypothesis testing, confidence intervals, and statistical significance.</p>\n",
    "\n",
    "<p>Answer the following questions <b>in this notebook below and submit to your Github account</b>.</p> \n",
    "\n",
    "<ol>\n",
    "<li>  Is the distribution of body temperatures normal? \n",
    "    <ul>\n",
    "    <li> Although this is not a requirement for the Central Limit Theorem to hold (read the introduction on Wikipedia's page about the CLT carefully: https://en.wikipedia.org/wiki/Central_limit_theorem), it gives us some peace of mind that the population may also be normally distributed if we assume that this sample is representative of the population.\n",
    "    <li> Think about the way you're going to check for the normality of the distribution. Graphical methods are usually used first, but there are also other ways: https://en.wikipedia.org/wiki/Normality_test\n",
    "    </ul>\n",
    "<li>  Is the sample size large? Are the observations independent?\n",
    "    <ul>\n",
    "    <li> Remember that this is a condition for the Central Limit Theorem, and hence the statistical tests we are using, to apply.\n",
    "    </ul>\n",
    "<li>  Is the true population mean really 98.6 degrees F?\n",
    "    <ul>\n",
    "    <li> First, try a bootstrap hypothesis test.\n",
    "    <li> Now, let's try frequentist statistical testing. Would you use a one-sample or two-sample test? Why?\n",
    "    <li> In this situation, is it appropriate to use the $t$ or $z$ statistic? \n",
    "    <li> Now try using the other test. How is the result be different? Why?\n",
    "    </ul>\n",
    "<li>  Draw a small sample of size 10 from the data and repeat both frequentist tests. \n",
    "    <ul>\n",
    "    <li> Which one is the correct one to use? \n",
    "    <li> What do you notice? What does this tell you about the difference in application of the $t$ and $z$ statistic?\n",
    "    </ul>\n",
    "<li>  At what temperature should we consider someone's temperature to be \"abnormal\"?\n",
    "    <ul>\n",
    "    <li> As in the previous example, try calculating everything using the boostrap approach, as well as the frequentist approach.\n",
    "    <li> Start by computing the margin of error and confidence interval. When calculating the confidence interval, keep in mind that you should use the appropriate formula for one draw, and not N draws.\n",
    "    </ul>\n",
    "<li>  Is there a significant difference between males and females in normal temperature?\n",
    "    <ul>\n",
    "    <li> What testing approach did you use and why?\n",
    "    <li> Write a story with your conclusion in the context of the original problem.\n",
    "    </ul>\n",
    "</ol>\n",
    "\n",
    "You can include written notes in notebook cells using Markdown: \n",
    "   - In the control panel at the top, choose Cell > Cell Type > Markdown\n",
    "   - Markdown syntax: http://nestacms.com/docs/creating-content/markdown-cheat-sheet\n",
    "\n",
    "#### Resources\n",
    "\n",
    "+ Information and data sources: http://www.amstat.org/publications/jse/datasets/normtemp.txt, http://www.amstat.org/publications/jse/jse_data_archive.htm\n",
    "+ Markdown syntax: http://nestacms.com/docs/creating-content/markdown-cheat-sheet\n",
    "\n",
    "****"
   ]
  },
  {
   "cell_type": "code",
   "execution_count": 16,
   "metadata": {
    "collapsed": true
   },
   "outputs": [],
   "source": [
    "#Importing necessary libraries and the dataset\n",
    "import pandas as pd\n",
    "import matplotlib.pyplot as plt\n",
    "import numpy as np\n",
    "import seaborn as sns\n",
    "import scipy.stats as stats\n",
    "\n",
    "df = pd.read_csv('data/human_body_temperature.csv')"
   ]
  },
  {
   "cell_type": "markdown",
   "metadata": {
    "collapsed": true
   },
   "source": [
    "# 1. Is the distribution of body temperatures normal?\n",
    "\n",
    "According to the description of the dataset, the data were sampled randomly. Hence, the distribution of the data can be generalized to the overall population (?? what about dependency?). Let's examine the dataset:"
   ]
  },
  {
   "cell_type": "code",
   "execution_count": 2,
   "metadata": {},
   "outputs": [
    {
     "data": {
      "text/html": [
       "<div>\n",
       "<style>\n",
       "    .dataframe thead tr:only-child th {\n",
       "        text-align: right;\n",
       "    }\n",
       "\n",
       "    .dataframe thead th {\n",
       "        text-align: left;\n",
       "    }\n",
       "\n",
       "    .dataframe tbody tr th {\n",
       "        vertical-align: top;\n",
       "    }\n",
       "</style>\n",
       "<table border=\"1\" class=\"dataframe\">\n",
       "  <thead>\n",
       "    <tr style=\"text-align: right;\">\n",
       "      <th></th>\n",
       "      <th>temperature</th>\n",
       "      <th>gender</th>\n",
       "      <th>heart_rate</th>\n",
       "    </tr>\n",
       "  </thead>\n",
       "  <tbody>\n",
       "    <tr>\n",
       "      <th>0</th>\n",
       "      <td>99.3</td>\n",
       "      <td>F</td>\n",
       "      <td>68.0</td>\n",
       "    </tr>\n",
       "    <tr>\n",
       "      <th>1</th>\n",
       "      <td>98.4</td>\n",
       "      <td>F</td>\n",
       "      <td>81.0</td>\n",
       "    </tr>\n",
       "    <tr>\n",
       "      <th>2</th>\n",
       "      <td>97.8</td>\n",
       "      <td>M</td>\n",
       "      <td>73.0</td>\n",
       "    </tr>\n",
       "    <tr>\n",
       "      <th>3</th>\n",
       "      <td>99.2</td>\n",
       "      <td>F</td>\n",
       "      <td>66.0</td>\n",
       "    </tr>\n",
       "    <tr>\n",
       "      <th>4</th>\n",
       "      <td>98.0</td>\n",
       "      <td>F</td>\n",
       "      <td>73.0</td>\n",
       "    </tr>\n",
       "  </tbody>\n",
       "</table>\n",
       "</div>"
      ],
      "text/plain": [
       "   temperature gender  heart_rate\n",
       "0         99.3      F        68.0\n",
       "1         98.4      F        81.0\n",
       "2         97.8      M        73.0\n",
       "3         99.2      F        66.0\n",
       "4         98.0      F        73.0"
      ]
     },
     "execution_count": 2,
     "metadata": {},
     "output_type": "execute_result"
    }
   ],
   "source": [
    "#First 10 records\n",
    "df.head()"
   ]
  },
  {
   "cell_type": "code",
   "execution_count": 3,
   "metadata": {},
   "outputs": [
    {
     "data": {
      "text/plain": [
       "count    130.000000\n",
       "mean      98.249231\n",
       "std        0.733183\n",
       "min       96.300000\n",
       "25%       97.800000\n",
       "50%       98.300000\n",
       "75%       98.700000\n",
       "max      100.800000\n",
       "Name: temperature, dtype: float64"
      ]
     },
     "execution_count": 3,
     "metadata": {},
     "output_type": "execute_result"
    }
   ],
   "source": [
    "#Summary statistic\n",
    "df.temperature.describe()"
   ]
  },
  {
   "cell_type": "markdown",
   "metadata": {},
   "source": [
    "The mean and the median are almost equal, hence there's very little skew in the distribution. Let's look at the histogram:"
   ]
  },
  {
   "cell_type": "code",
   "execution_count": 33,
   "metadata": {},
   "outputs": [
    {
     "data": {
      "image/png": "[encoded data removed]",
      "text/plain": [
       "<matplotlib.figure.Figure at 0x117c09358>"
      ]
     },
     "metadata": {},
     "output_type": "display_data"
    }
   ],
   "source": [
    "#Plotting the histogram\n",
    "sns.distplot(df.temperature, bins = 20)\n",
    "plt.show()"
   ]
  },
  {
   "cell_type": "markdown",
   "metadata": {},
   "source": [
    "The overall shape of the distribution resembles normal, but there are some peaks. Let's look at the empirical cumulative distribution for comparison. "
   ]
  },
  {
   "cell_type": "code",
   "execution_count": 5,
   "metadata": {},
   "outputs": [
    {
     "data": {
      "image/png": "[encoded data removed]",
      "text/plain": [
       "<matplotlib.figure.Figure at 0x117997f28>"
      ]
     },
     "metadata": {},
     "output_type": "display_data"
    }
   ],
   "source": [
    "#Sorting the values and creating the x and y axes\n",
    "\n",
    "#Sorted x axis\n",
    "x = np.sort(df['temperature'])\n",
    "\n",
    "#Y axis - evenly spaced datapoints with a maximum of 1\n",
    "y = np.arange(1, len(x)+1) / len(x)\n",
    "\n",
    "#Plotting the ECDF with the 25-50-75 percentile marks\n",
    "_ = plt.plot(x, y, marker='.', linestyle= 'none')\n",
    "_ = plt.xlabel('Body temperature')\n",
    "_ = plt.ylabel('ECDF')\n",
    "#Percentiles (from the summary above)\n",
    "_ = plt.axvline(x=98.3, color ='red')\n",
    "_ = plt.axvline(x=97.8)\n",
    "_ = plt.axvline(x=98.7)\n",
    "plt.margins(0.02)\n",
    "plt.show()"
   ]
  },
  {
   "cell_type": "markdown",
   "metadata": {},
   "source": [
    "There's a slight skew to the right, but, with enough sample sizes, the distribution can be treated as normal. Let's also compare the distribution to the theoretical ECDF with the same mean and standard deviation:"
   ]
  },
  {
   "cell_type": "code",
   "execution_count": 6,
   "metadata": {},
   "outputs": [
    {
     "data": {
      "image/png": "[encoded data removed]",
      "text/plain": [
       "<matplotlib.figure.Figure at 0x117b34358>"
      ]
     },
     "metadata": {},
     "output_type": "display_data"
    }
   ],
   "source": [
    "#Calculating mean and standard deviation: mu, sigma\n",
    "mu = np.mean(x)\n",
    "sigma = np.std(x)\n",
    "\n",
    "#Generating random normal distribution\n",
    "samples = np.random.normal(mu, sigma, 10000)\n",
    "\n",
    "#Generating theoretical x and y\n",
    "x_theor = np.sort(samples)\n",
    "y_theor = np.arange(1, len(x_theor)+1) / len(x_theor)\n",
    "\n",
    "#Plotting the ECDFs with the 25-50-75 percentile marks\n",
    "_ = plt.plot(x_theor, y_theor)\n",
    "_ = plt.plot(x, y, marker='.', linestyle= 'none')\n",
    "_ = plt.xlabel('Body temperature')\n",
    "_ = plt.ylabel('ECDF')\n",
    "#Percentiles (from the summary above)\n",
    "_ = plt.axvline(x=98.3, color ='red')\n",
    "_ = plt.axvline(x=97.8)\n",
    "_ = plt.axvline(x=98.7)\n",
    "plt.margins(0.02)\n",
    "plt.show()"
   ]
  },
  {
   "cell_type": "markdown",
   "metadata": {},
   "source": [
    "As can be seen on the plot, the data fit theoretical normal distribution very well. Let's also do the \"back of the envelope\" analysis of normality by calculating how far the minimum and maximum observations are from the mean."
   ]
  },
  {
   "cell_type": "code",
   "execution_count": 7,
   "metadata": {},
   "outputs": [
    {
     "data": {
      "text/plain": [
       "-2.6688711006174173"
      ]
     },
     "execution_count": 7,
     "metadata": {},
     "output_type": "execute_result"
    }
   ],
   "source": [
    "#Min value - distance from the mean in standard deviations\n",
    "(min(df.temperature) - np.mean(df.temperature)) / np.std(df.temperature)"
   ]
  },
  {
   "cell_type": "code",
   "execution_count": 8,
   "metadata": {},
   "outputs": [
    {
     "data": {
      "text/plain": [
       "3.4924927267747696"
      ]
     },
     "execution_count": 8,
     "metadata": {},
     "output_type": "execute_result"
    }
   ],
   "source": [
    "#Max value - distance from the mean in standard deviations\n",
    "(max(df.temperature) - np.mean(df.temperature)) / np.std(df.temperature)"
   ]
  },
  {
   "cell_type": "markdown",
   "metadata": {},
   "source": [
    "The minimum value is within 3 standard deviations from the mean, and the maximum value is 3.5 standard deviations from the mean. Let's see how many values exactly are above 3 standard deviations from the mean:"
   ]
  },
  {
   "cell_type": "code",
   "execution_count": 9,
   "metadata": {},
   "outputs": [
    {
     "data": {
      "text/html": [
       "<div>\n",
       "<style>\n",
       "    .dataframe thead tr:only-child th {\n",
       "        text-align: right;\n",
       "    }\n",
       "\n",
       "    .dataframe thead th {\n",
       "        text-align: left;\n",
       "    }\n",
       "\n",
       "    .dataframe tbody tr th {\n",
       "        vertical-align: top;\n",
       "    }\n",
       "</style>\n",
       "<table border=\"1\" class=\"dataframe\">\n",
       "  <thead>\n",
       "    <tr style=\"text-align: right;\">\n",
       "      <th></th>\n",
       "      <th>0</th>\n",
       "    </tr>\n",
       "  </thead>\n",
       "  <tbody>\n",
       "    <tr>\n",
       "      <th>125</th>\n",
       "      <td>1.575624</td>\n",
       "    </tr>\n",
       "    <tr>\n",
       "      <th>126</th>\n",
       "      <td>1.712543</td>\n",
       "    </tr>\n",
       "    <tr>\n",
       "      <th>127</th>\n",
       "      <td>2.260220</td>\n",
       "    </tr>\n",
       "    <tr>\n",
       "      <th>128</th>\n",
       "      <td>2.397139</td>\n",
       "    </tr>\n",
       "    <tr>\n",
       "      <th>129</th>\n",
       "      <td>3.492493</td>\n",
       "    </tr>\n",
       "  </tbody>\n",
       "</table>\n",
       "</div>"
      ],
      "text/plain": [
       "            0\n",
       "125  1.575624\n",
       "126  1.712543\n",
       "127  2.260220\n",
       "128  2.397139\n",
       "129  3.492493"
      ]
     },
     "execution_count": 9,
     "metadata": {},
     "output_type": "execute_result"
    }
   ],
   "source": [
    "#Calculating the distance from the mean for the last 5 observations sorted in ascending order\n",
    "(pd.DataFrame(x).tail() - np.mean(df.temperature)) / np.std(df.temperature)"
   ]
  },
  {
   "cell_type": "markdown",
   "metadata": {},
   "source": [
    "Only 1 out of 130 observations is beyond 3 standard deviations from the mean, so we can consider the distribution to be be well-described by the normal model."
   ]
  },
  {
   "cell_type": "markdown",
   "metadata": {},
   "source": [
    "# 2. Is the sample size large? Are the observations independent?"
   ]
  },
  {
   "cell_type": "markdown",
   "metadata": {},
   "source": [
    "As a rule of thumb, the distribution should have at least 30 observations in order for the normal distribution to be a valid model. Since we have 130 observations, this condition is met. The description for the data states that the data were collected through random sampling, but there's no information on whether the sampled data are independent. Since other conditions of \"normality\" are met and since we have no information on independency, we will consider the samples to be independent."
   ]
  },
  {
   "cell_type": "markdown",
   "metadata": {},
   "source": [
    "# 3. Is the true population mean really 98.6 degrees F?"
   ]
  },
  {
   "cell_type": "markdown",
   "metadata": {},
   "source": [
    "Let's start with a a bootstrap hypothesis test. Our null hypothesis is that the true population mean for our sample is really 98.6 F. That is, we will check if it is possible to obtain the distribution of the values in the sample that we observed above if the true population mean is 98.6 F. Another way to state the hypothesis is to say that the difference between the true population mean of our sample and Wunderlich's value is zero.\n",
    "\n",
    "First, we'll need to shift our sample, so that the mean of our sample matches the Wunderlich's value:\n",
    "\n",
    "- define test statistic\n",
    "\n",
    "- generate many sets of simulated data, assuming that the null hypothesis is true\n",
    "\n",
    "- compute test statistic for each simulated data set\n",
    "\n",
    "- p-value - fraction of the simulated data sets for which the test statistic is at least as extreme as for the real data"
   ]
  },
  {
   "cell_type": "code",
   "execution_count": 10,
   "metadata": {},
   "outputs": [
    {
     "data": {
      "text/plain": [
       "count    130.000000\n",
       "mean      98.600000\n",
       "std        0.733183\n",
       "min       96.650769\n",
       "25%       98.150769\n",
       "50%       98.650769\n",
       "75%       99.050769\n",
       "max      101.150769\n",
       "Name: temperature, dtype: float64"
      ]
     },
     "execution_count": 10,
     "metadata": {},
     "output_type": "execute_result"
    }
   ],
   "source": [
    "#Wunderlich's value\n",
    "wun_mean = 98.6\n",
    "\n",
    "sample_shifted = df.temperature - np.mean(df.temperature) + wun_mean\n",
    "\n",
    "#Checking if the mean shifted correctly\n",
    "sample_shifted.describe()"
   ]
  },
  {
   "cell_type": "markdown",
   "metadata": {},
   "source": [
    "The test statistic is the mean of the bootstrapped sample minus the Wunderlich's value. Let's write a function to compute it:"
   ]
  },
  {
   "cell_type": "code",
   "execution_count": 11,
   "metadata": {},
   "outputs": [
    {
     "data": {
      "text/plain": [
       "-0.35076923076921673"
      ]
     },
     "execution_count": 11,
     "metadata": {},
     "output_type": "execute_result"
    }
   ],
   "source": [
    "#Function to compute difference of means\n",
    "def diff_from_wun(data, wun_value = 98.6):\n",
    "    return np.mean(data) - wun_value\n",
    "\n",
    "#Computing the observed test statistic\n",
    "diff_obs = diff_from_wun(df.temperature)\n",
    "diff_obs"
   ]
  },
  {
   "cell_type": "markdown",
   "metadata": {},
   "source": [
    "We need to identify if this difference is statistically significant. For that, let's define the bootstrap function and generate bootstrap replicates:"
   ]
  },
  {
   "cell_type": "code",
   "execution_count": 12,
   "metadata": {
    "collapsed": true
   },
   "outputs": [],
   "source": [
    "#Defining function to draw bootstrap replicates\n",
    "def draw_bs_reps(data, func, size=1):\n",
    "    \n",
    "    # Initialize array of replicates: bs_replicates\n",
    "    bs_replicates = np.empty(size)\n",
    "\n",
    "    # Generate replicates\n",
    "    for i in range(size):\n",
    "        bs_replicates[i] = func(np.random.choice(data, size=len(data)))\n",
    "\n",
    "    return bs_replicates\n",
    "\n",
    "#Generating 10000 bootstrap replicates with the shifted data\n",
    "bs_replicates = draw_bs_reps(sample_shifted, diff_from_wun, size=10000)"
   ]
  },
  {
   "cell_type": "markdown",
   "metadata": {},
   "source": [
    "To calculate the p-value for our sample's mean, we'll use the following formula. We'll use \"less than or equal\" because the observed sample mean was less than Wunderlich's value."
   ]
  },
  {
   "cell_type": "code",
   "execution_count": 13,
   "metadata": {},
   "outputs": [
    {
     "data": {
      "text/plain": [
       "0.0"
      ]
     },
     "execution_count": 13,
     "metadata": {},
     "output_type": "execute_result"
    }
   ],
   "source": [
    "#Getting the bootstrap p value\n",
    "p_value = np.sum(bs_replicates <= diff_obs)/10000\n",
    "p_value"
   ]
  },
  {
   "cell_type": "markdown",
   "metadata": {},
   "source": [
    "P-value is very small, so we reject the null hypothesis, according to which the true population mean for our sample is 98.6 F. The p-value is so small, actually, that our observed difference doesn't even appear in the bootstrapped dataset. Here's the minimum value in the dataset:"
   ]
  },
  {
   "cell_type": "code",
   "execution_count": 14,
   "metadata": {},
   "outputs": [
    {
     "data": {
      "text/plain": [
       "-0.24692307692308191"
      ]
     },
     "execution_count": 14,
     "metadata": {},
     "output_type": "execute_result"
    }
   ],
   "source": [
    "min(bs_replicates)"
   ]
  },
  {
   "cell_type": "markdown",
   "metadata": {},
   "source": [
    "Now, let's try the frequentist's approach. We will use the one-sample approach (same as in the bootstrapped example above), since we're comparing our sample to a single value. For our case, we will use the t-statistic, since the population standard deviation is unknown. A standard case for t-statistic is a small sample, and, since our sample size is not small, the results of using t-statistic and z-statistic should be close.\n",
    "\n",
    "Our null-hypothesis is the same: our true population mean is equal to Wunderlich's value. To do a t-test, we'll use the ttest_1samp function from the scipy.stats package. The function returns the t-score and the two-sided value as array."
   ]
  },
  {
   "cell_type": "code",
   "execution_count": 17,
   "metadata": {},
   "outputs": [
    {
     "name": "stdout",
     "output_type": "stream",
     "text": [
      "t: -5.45482329236\n",
      "p: 2.41063204156e-07\n"
     ]
    }
   ],
   "source": [
    "#Getting t and p\n",
    "t, p = stats.ttest_1samp(df.temperature, wun_mean)\n",
    "\n",
    "print('t:', t)\n",
    "print('p:', p)"
   ]
  },
  {
   "cell_type": "markdown",
   "metadata": {},
   "source": [
    "As we can see, the t-statistic is large (in absolute terms) and the p-value is very small, so we again reject the null-hypothesis. Let's compare it to the z-statistic approach:"
   ]
  },
  {
   "cell_type": "code",
   "execution_count": 18,
   "metadata": {},
   "outputs": [
    {
     "name": "stdout",
     "output_type": "stream",
     "text": [
      "z: -5.47592520208\n",
      "p norm: 2.41063204156e-07\n"
     ]
    }
   ],
   "source": [
    "#Calculating the standard error of the mean\n",
    "mse = np.std(df.temperature)/np.sqrt(len(df.temperature))\n",
    "\n",
    "#Calculating the z-score\n",
    "z = (np.mean(df.temperature) - wun_mean) / mse\n",
    "\n",
    "#Calculating two-sided p-value\n",
    "p_norm = stats.norm.cdf(z) * 2\n",
    "\n",
    "print('z:', z)\n",
    "print('p norm:', p)"
   ]
  },
  {
   "cell_type": "markdown",
   "metadata": {},
   "source": [
    "As we can see, the values are almost identical to the values generated by the t-test, so we reject the null-hypothesis once again."
   ]
  },
  {
   "cell_type": "markdown",
   "metadata": {},
   "source": [
    "# 4. Draw a small sample of size 10 from the data and repeat both frequentist tests\n",
    "\n",
    "Let's draw the sample and calculate both test statistics. Since we have only 10 samples and the standard deviation of the population is not known, we should use t-statistic."
   ]
  },
  {
   "cell_type": "code",
   "execution_count": 19,
   "metadata": {},
   "outputs": [
    {
     "name": "stdout",
     "output_type": "stream",
     "text": [
      "t_10: -3.09344792023\n",
      "p_10: 0.0128577046048\n",
      "z_10: -3.26078041701\n",
      "p_norm_10: 4.35231516588e-08\n"
     ]
    }
   ],
   "source": [
    "#Setting the seed\n",
    "np.random.seed(42)\n",
    "\n",
    "#Drawing the sample\n",
    "sample = np.random.choice(df.temperature, size=10)\n",
    "\n",
    "#Calculating the t-statistic\n",
    "t_10, p_10 = stats.ttest_1samp(sample, wun_mean)\n",
    "\n",
    "print('t_10:', t_10)\n",
    "print('p_10:', p_10)\n",
    "\n",
    "#Calculating the z-statistic\n",
    "#mse = stats.sem(sample)\n",
    "mse_10 = np.std(sample)/np.sqrt(len(sample))\n",
    "z_10 = (np.mean(sample) - wun_mean) / mse_10\n",
    "\n",
    "#Calculating two-sided p-value\n",
    "p_norm_10 = stats.norm.cdf(z) * 2\n",
    "\n",
    "print('z_10:', z_10)\n",
    "print('p_norm_10:', p_norm_10)"
   ]
  },
  {
   "cell_type": "markdown",
   "metadata": {},
   "source": [
    "Z-statistic gives a smaller p-value, but, since the sample is small and the standard deviation of the population not known (we use the standard deviation of the sample as approximation), it is more appropriate to use t-statistic. In general, t-distribution has thicker \"tails\" compared to the normal distribution, which requires larger t-statistic values in order to reach statistical significance.\n",
    "\n",
    "Since our sample mean is less than Wunderlich's value, we're only interested in one-sided significance test, which will give us a significance level of 99.4%: "
   ]
  },
  {
   "cell_type": "code",
   "execution_count": 20,
   "metadata": {},
   "outputs": [
    {
     "data": {
      "text/plain": [
       "0.99357114769759536"
      ]
     },
     "execution_count": 20,
     "metadata": {},
     "output_type": "execute_result"
    }
   ],
   "source": [
    "#Calculating the significance level for one-sided hypothesis test\n",
    "1 - stats.t.cdf(t_10, (10-1))"
   ]
  },
  {
   "cell_type": "markdown",
   "metadata": {},
   "source": [
    "# 5. At what temperature should we consider someone's temperature to be \"abnormal\"?\n",
    "\n",
    "As a rule of thumb, an abnormal temperature would be the one that is more than 2 standard deviations higher or lower than the population mean (95% confidence interval). Since we only have a sample and don't know neither the true population mean, nor the population standard deviation, we will need to estimate both from our sample. The population standard deviation is estimated by the sample standard deviation and the population mean is estimated by the sample mean (also called mean or arithmetic mean). To account for these estimations, the 95% prediction interval (95% PI) is calculated as:\n",
    "\n",
    "Prediction Interval = sample_mean +/- t(97.5%) * sample_standard_deviation * sqrt((n + 1)/n),\n",
    "\n",
    "where t(97.5%) is the t-statistic for 97.5th percentile (the absolute value of which is identical to t-statistic for 2.5th percentile) and n is the number of samples.\n",
    "\n",
    "The second part of the formula multiplies the sample standard deviation by sqrt((n + 1)/n) instead of sqrt(n), since the latter would only give the confidence interval for predicting the population mean from the sample mean and not the prediction interval. Using sqrt(n) in our case would make almost all values \"abnormal\" with the increase of n, as the increasing sample size decreases the uncertainty around the predicted population mean. Hence, the confidence interval around predicted mean would be very narrow.\n",
    "\n",
    "More on the methodolody can be found [here](https://en.wikipedia.org/wiki/Reference_range)."
   ]
  },
  {
   "cell_type": "code",
   "execution_count": 28,
   "metadata": {},
   "outputs": [
    {
     "name": "stdout",
     "output_type": "stream",
     "text": [
      "Prediction interval - lower boundary: 96.7930413118\n",
      "Prediction interval - upper boundary: 99.7054202267\n"
     ]
    }
   ],
   "source": [
    "#Calculating the t-statistic for 97.5th percentile and n-1 degrees of freedom using stats package\n",
    "t = stats.t.ppf(0.975, len(df.temperature) - 1)\n",
    "\n",
    "#Calculating the prediction interval\n",
    "pred_int_upper = df.temperature.mean() + t * df.temperature.std() * np.sqrt((1 + 1/(len(df.temperature))))\n",
    "pred_int_lower = df.temperature.mean() - t * df.temperature.std() * np.sqrt((1 + 1/(len(df.temperature))))\n",
    "\n",
    "print('Prediction interval - lower boundary:', pred_int_lower)\n",
    "print('Prediction interval - upper boundary:', pred_int_upper)"
   ]
  },
  {
   "cell_type": "markdown",
   "metadata": {
    "collapsed": true
   },
   "source": [
    "Let's also display this graphically:"
   ]
  },
  {
   "cell_type": "code",
   "execution_count": 68,
   "metadata": {},
   "outputs": [
    {
     "data": {
      "image/png": "[encoded data removed]",
      "text/plain": [
       "<matplotlib.figure.Figure at 0x11855d630>"
      ]
     },
     "metadata": {},
     "output_type": "display_data"
    }
   ],
   "source": [
    "#Plotting the distribution\n",
    "sns.distplot(df.temperature, bins = 20)\n",
    "#Prediction interval boundaries\n",
    "_ = plt.axvline(x=pred_int_lower, linestyle = 'dashed')\n",
    "_ = plt.axvline(x=pred_int_upper, linestyle = 'dashed')\n",
    "_ = plt.xlabel('Body temperature')\n",
    "_ = plt.ylabel('Count')\n",
    "plt.margins(0.02)\n",
    "plt.show()"
   ]
  },
  {
   "cell_type": "markdown",
   "metadata": {},
   "source": [
    "Consequentially, the \"abnormal\" body temperature would be the temperature below 96.8 F or above 99.7F. Let's now calculate the 2.5th and 97.5th percentiles for the bootstrapped sample and see if they match our frequentist approach above."
   ]
  },
  {
   "cell_type": "code",
   "execution_count": 70,
   "metadata": {},
   "outputs": [
    {
     "name": "stdout",
     "output_type": "stream",
     "text": [
      "[ 96.7  99.5]\n"
     ]
    }
   ],
   "source": [
    "#Setting a random seed\n",
    "np.random.seed(42)\n",
    "\n",
    "#Drawing 1,000,000 samples with replacement\n",
    "temp_bootstrapped = np.random.choice(df.temperature, size=1000000, replace=True)\n",
    "pd.DataFrame(temp_bootstrapped).describe()\n",
    "\n",
    "#Calculating bootstrapped temperature boundaries\n",
    "bootstrapped_percentiles = np.percentile(temp_bootstrapped, [2.5, 97.5])\n",
    "print(bootstrapped_percentiles)"
   ]
  },
  {
   "cell_type": "markdown",
   "metadata": {},
   "source": [
    "As we can see, the bootstrapped temperature boundaries are very close to the ones calculated with the frequentist approach."
   ]
  },
  {
   "cell_type": "markdown",
   "metadata": {},
   "source": [
    "# Is there a significant difference between males and females in normal temperature?\n",
    "\n",
    "First of all, let's find out if the temperature differs by sex:"
   ]
  },
  {
   "cell_type": "code",
   "execution_count": 73,
   "metadata": {},
   "outputs": [
    {
     "data": {
      "image/png": "[encoded data removed]",
      "text/plain": [
       "<matplotlib.figure.Figure at 0x118e6c128>"
      ]
     },
     "metadata": {},
     "output_type": "display_data"
    }
   ],
   "source": [
    "#Plotting a boxplot of temperatures for different sexes\n",
    "sns.boxplot(x='gender', y='temperature', data=df)\n",
    "plt.show()"
   ]
  },
  {
   "cell_type": "markdown",
   "metadata": {},
   "source": [
    "The median is visibly different. Let's check the mean, which we'll consider to be the normal temperature:"
   ]
  },
  {
   "cell_type": "code",
   "execution_count": 85,
   "metadata": {},
   "outputs": [
    {
     "data": {
      "text/plain": [
       "[98.39384615384613, 98.1046153846154, 65, 65]"
      ]
     },
     "execution_count": 85,
     "metadata": {},
     "output_type": "execute_result"
    }
   ],
   "source": [
    "#Splitting the dataset by gender\n",
    "female_t = df.temperature[df.gender == 'F']\n",
    "male_t = df.temperature[df.gender == 'M']\n",
    "\n",
    "#Calculating the means\n",
    "mean_f = female_t.mean()\n",
    "mean_m = male_t.mean()\n",
    "\n",
    "#Showing the means and the lenghts of each data subset\n",
    "[mean_f, mean_m, len(female_t), len(male_t)]"
   ]
  },
  {
   "cell_type": "markdown",
   "metadata": {},
   "source": [
    "The means differ, so we'll need to do a hypothesis test to define if this difference is statistically significant.\n",
    "\n",
    "The null-hypothesis for this question will be that males and females have the same normal temperature - that is, that the difference in normal temperature between the sexes is zero. For this case, it's appropriate to use a permutation test, which simulates the null-hypothesis and shows if only the random sampling/randomization explains the difference seen, or a two-sample t-test, which assumes that the distribution of the temperatures is approximately normal. Since the distribution of the temperatures may not be exactly normal and since our sample size is not too big, we can use a permutation test.\n",
    "\n",
    "Let's perform the permutation test, starting with defining the functions required for permutation:"
   ]
  },
  {
   "cell_type": "code",
   "execution_count": 90,
   "metadata": {},
   "outputs": [],
   "source": [
    "#Defining a function to produce a permutation sample\n",
    "def perm_sample(data1, data2):\n",
    "\n",
    "    #Concatenating the data sets\n",
    "    data = np.concatenate((data1, data2))\n",
    "\n",
    "    #Doing the permutation\n",
    "    perm_data = np.random.permutation(data)\n",
    "\n",
    "    # Split the permuted array into two samples:\n",
    "    perm_sample_1 = perm_data[:len(data1)]\n",
    "    perm_sample_2 = perm_data[len(data1):]\n",
    "\n",
    "    return perm_sample_1, perm_sample_2\n",
    "\n",
    "#Defining a function to draw permutation replicates\n",
    "def draw_perm_replicates(data_1, data_2, func, size=1):\n",
    "\n",
    "    #Empty array\n",
    "    perm_replicates = np.empty(size)\n",
    "\n",
    "    for i in range(size):\n",
    "        #Generating permutation samples\n",
    "        perm_sample_1, perm_sample_2 = perm_sample(data_1, data_2)\n",
    "\n",
    "        #Calculating the desired function\n",
    "        perm_replicates[i] = func(perm_sample_1, perm_sample_2)\n",
    "\n",
    "    return perm_replicates\n",
    "\n",
    "#Defining a function for the difference of means\n",
    "def diff_mean(data_1, data_2):\n",
    "    \n",
    "    return np.mean(data_1) - np.mean(data_2)"
   ]
  },
  {
   "cell_type": "markdown",
   "metadata": {},
   "source": [
    "Next, let's do the permutation test and compare it to the difference of the means in our sample:"
   ]
  },
  {
   "cell_type": "code",
   "execution_count": 93,
   "metadata": {},
   "outputs": [
    {
     "name": "stdout",
     "output_type": "stream",
     "text": [
      "0.01227\n"
     ]
    }
   ],
   "source": [
    "#Setting the seed\n",
    "np.random.seed(42)\n",
    "\n",
    "#Calculating the difference of means for our sample\n",
    "diff_mean_sample = diff_mean(female_t, male_t)\n",
    "\n",
    "#Drawing permutation replicates\n",
    "perm_replicates = draw_perm_replicates(female_t, male_t, diff_mean, size=100000)\n",
    "\n",
    "#Computing the p-value of our sample difference as a fraction of the permutation observations\n",
    "#that have the same or more exteme value. We use >= because the mean temperature for females\n",
    "#in our sample is higher than the mean for males.\n",
    "p = np.sum(perm_replicates >= diff_mean_sample) / len(perm_replicates)\n",
    "\n",
    "print(p)"
   ]
  },
  {
   "cell_type": "markdown",
   "metadata": {},
   "source": [
    "Using the 95% significance level, we reject the null-hypothesis, as the p-value is small."
   ]
  },
  {
   "cell_type": "markdown",
   "metadata": {},
   "source": [
    "### Conclusion\n",
    "\n",
    "We used a permutation test to identify if the observed difference of mean body temperatures between males and females in the observed sample is statistically significant. For that, we divided our sample into female and male groups and used them to generate permuted samples. Calculating the difference of means for 100,000 permuted samples showed that the difference of means between females and males as or more extreme as the difference of means in our observed sample is found only 1.2% of the time. Hence, with the 5% significance threshold we rejected the null-hypothesis and concluded that the mean body temperatures for males and females is not the same."
   ]
  }
 ],
 "metadata": {
  "kernelspec": {
   "display_name": "Python [default]",
   "language": "python",
   "name": "python3"
  },
  "language_info": {
   "codemirror_mode": {
    "name": "ipython",
    "version": 3
   },
   "file_extension": ".py",
   "mimetype": "text/x-python",
   "name": "python",
   "nbconvert_exporter": "python",
   "pygments_lexer": "ipython3",
   "version": "3.5.3"
  }
 },
 "nbformat": 4,
 "nbformat_minor": 1
}
